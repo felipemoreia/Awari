{
  "nbformat": 4,
  "nbformat_minor": 0,
  "metadata": {
    "anaconda-cloud": {},
    "kernelspec": {
      "display_name": "Python 3",
      "language": "python",
      "name": "python3"
    },
    "language_info": {
      "codemirror_mode": {
        "name": "ipython",
        "version": 3
      },
      "file_extension": ".py",
      "mimetype": "text/x-python",
      "name": "python",
      "nbconvert_exporter": "python",
      "pygments_lexer": "ipython3",
      "version": "3.7.4"
    },
    "colab": {
      "name": "Exercicios_unidade_4_Manipulacao_de_Dados_Parte_04.ipynb",
      "provenance": [],
      "include_colab_link": true
    }
  },
  "cells": [
    {
      "cell_type": "markdown",
      "metadata": {
        "id": "view-in-github",
        "colab_type": "text"
      },
      "source": [
        "<a href=\"https://colab.research.google.com/github/felipemoreia/Awari/blob/master/Exercicios_unidade_4_Manipulacao_de_Dados_Parte_04.ipynb\" target=\"_parent\"><img src=\"https://colab.research.google.com/assets/colab-badge.svg\" alt=\"Open In Colab\"/></a>"
      ]
    },
    {
      "cell_type": "markdown",
      "metadata": {
        "id": "X27x4GOmEXfC",
        "colab_type": "text"
      },
      "source": [
        "# Awari - Data Science\n",
        "\n",
        "## Exercícios Unidade 4 - Parte 4"
      ]
    },
    {
      "cell_type": "markdown",
      "metadata": {
        "id": "HMNesD5KEXfD",
        "colab_type": "text"
      },
      "source": [
        "Neste Jupyter notebook você irá resolver uma exercícios utilizando a linguagem Python e a biblioteca Pandas.\n",
        "\n",
        "Todos os datasets utilizados nos exercícios estão salvos na pasta **datasets**.\n",
        "\n",
        "Todo o seu código deve ser executado neste Jupyter Notebook. Por fim, se desejar, revise as respostas com o seu mentor."
      ]
    },
    {
      "cell_type": "markdown",
      "metadata": {
        "id": "uugcFwkvEXfE",
        "colab_type": "text"
      },
      "source": [
        "### Tarefa 1. Importe o dataset e salve os dados em um dataframe\n",
        "\n",
        "Os dados estão salvos no arquivo ***datasets/US_Crime_Rates_1960_2014.csv***.\n",
        "\n",
        "Este dataset contém dados de crimes ocorridos nos Estados Unidos no período de 1960 até 2014.\n",
        "\n",
        "Salve os dados em uma variável de nome *crime*."
      ]
    },
    {
      "cell_type": "code",
      "metadata": {
        "id": "JM0CSlw-EXfF",
        "colab_type": "code",
        "colab": {}
      },
      "source": [
        "import pandas as pd"
      ],
      "execution_count": 0,
      "outputs": []
    },
    {
      "cell_type": "code",
      "metadata": {
        "id": "fOnbXVyAEXfI",
        "colab_type": "code",
        "colab": {}
      },
      "source": [
        "crime = pd.read_csv('US_Crime_Rates_1960_2014.csv', parse_dates=['Year'])"
      ],
      "execution_count": 0,
      "outputs": []
    },
    {
      "cell_type": "code",
      "metadata": {
        "id": "cUZE6bmmEXfL",
        "colab_type": "code",
        "colab": {},
        "outputId": "4ff7a09c-634b-4144-a266-94053e5962bd"
      },
      "source": [
        "crime.tail()"
      ],
      "execution_count": 0,
      "outputs": [
        {
          "output_type": "execute_result",
          "data": {
            "text/html": [
              "<div>\n",
              "<style scoped>\n",
              "    .dataframe tbody tr th:only-of-type {\n",
              "        vertical-align: middle;\n",
              "    }\n",
              "\n",
              "    .dataframe tbody tr th {\n",
              "        vertical-align: top;\n",
              "    }\n",
              "\n",
              "    .dataframe thead th {\n",
              "        text-align: right;\n",
              "    }\n",
              "</style>\n",
              "<table border=\"1\" class=\"dataframe\">\n",
              "  <thead>\n",
              "    <tr style=\"text-align: right;\">\n",
              "      <th></th>\n",
              "      <th>Year</th>\n",
              "      <th>Population</th>\n",
              "      <th>Total</th>\n",
              "      <th>Violent</th>\n",
              "      <th>Property</th>\n",
              "      <th>Murder</th>\n",
              "      <th>Forcible_Rape</th>\n",
              "      <th>Robbery</th>\n",
              "      <th>Aggravated_assault</th>\n",
              "      <th>Burglary</th>\n",
              "      <th>Larceny_Theft</th>\n",
              "      <th>Vehicle_Theft</th>\n",
              "    </tr>\n",
              "  </thead>\n",
              "  <tbody>\n",
              "    <tr>\n",
              "      <td>50</td>\n",
              "      <td>2010-01-01</td>\n",
              "      <td>309330219</td>\n",
              "      <td>10363873</td>\n",
              "      <td>1251248</td>\n",
              "      <td>9112625</td>\n",
              "      <td>14772</td>\n",
              "      <td>85593</td>\n",
              "      <td>369089</td>\n",
              "      <td>781844</td>\n",
              "      <td>2168457</td>\n",
              "      <td>6204601</td>\n",
              "      <td>739565</td>\n",
              "    </tr>\n",
              "    <tr>\n",
              "      <td>51</td>\n",
              "      <td>2011-01-01</td>\n",
              "      <td>311587816</td>\n",
              "      <td>10258774</td>\n",
              "      <td>1206031</td>\n",
              "      <td>9052743</td>\n",
              "      <td>14661</td>\n",
              "      <td>84175</td>\n",
              "      <td>354772</td>\n",
              "      <td>752423</td>\n",
              "      <td>2185140</td>\n",
              "      <td>6151095</td>\n",
              "      <td>716508</td>\n",
              "    </tr>\n",
              "    <tr>\n",
              "      <td>52</td>\n",
              "      <td>2012-01-01</td>\n",
              "      <td>313873685</td>\n",
              "      <td>10219059</td>\n",
              "      <td>1217067</td>\n",
              "      <td>9001992</td>\n",
              "      <td>14866</td>\n",
              "      <td>85141</td>\n",
              "      <td>355051</td>\n",
              "      <td>762009</td>\n",
              "      <td>2109932</td>\n",
              "      <td>6168874</td>\n",
              "      <td>723186</td>\n",
              "    </tr>\n",
              "    <tr>\n",
              "      <td>53</td>\n",
              "      <td>2013-01-01</td>\n",
              "      <td>316497531</td>\n",
              "      <td>9850445</td>\n",
              "      <td>1199684</td>\n",
              "      <td>8650761</td>\n",
              "      <td>14319</td>\n",
              "      <td>82109</td>\n",
              "      <td>345095</td>\n",
              "      <td>726575</td>\n",
              "      <td>1931835</td>\n",
              "      <td>6018632</td>\n",
              "      <td>700294</td>\n",
              "    </tr>\n",
              "    <tr>\n",
              "      <td>54</td>\n",
              "      <td>2014-01-01</td>\n",
              "      <td>318857056</td>\n",
              "      <td>9475816</td>\n",
              "      <td>1197987</td>\n",
              "      <td>8277829</td>\n",
              "      <td>14249</td>\n",
              "      <td>84041</td>\n",
              "      <td>325802</td>\n",
              "      <td>741291</td>\n",
              "      <td>1729806</td>\n",
              "      <td>5858496</td>\n",
              "      <td>689527</td>\n",
              "    </tr>\n",
              "  </tbody>\n",
              "</table>\n",
              "</div>"
            ],
            "text/plain": [
              "         Year  Population     Total  Violent  Property  Murder  Forcible_Rape  \\\n",
              "50 2010-01-01   309330219  10363873  1251248   9112625   14772          85593   \n",
              "51 2011-01-01   311587816  10258774  1206031   9052743   14661          84175   \n",
              "52 2012-01-01   313873685  10219059  1217067   9001992   14866          85141   \n",
              "53 2013-01-01   316497531   9850445  1199684   8650761   14319          82109   \n",
              "54 2014-01-01   318857056   9475816  1197987   8277829   14249          84041   \n",
              "\n",
              "    Robbery  Aggravated_assault  Burglary  Larceny_Theft  Vehicle_Theft  \n",
              "50   369089              781844   2168457        6204601         739565  \n",
              "51   354772              752423   2185140        6151095         716508  \n",
              "52   355051              762009   2109932        6168874         723186  \n",
              "53   345095              726575   1931835        6018632         700294  \n",
              "54   325802              741291   1729806        5858496         689527  "
            ]
          },
          "metadata": {
            "tags": []
          },
          "execution_count": 81
        }
      ]
    },
    {
      "cell_type": "markdown",
      "metadata": {
        "id": "HN8uZlhpEXfO",
        "colab_type": "text"
      },
      "source": [
        "### Tarefa 2. Qual o tipo de dados em cada coluna?"
      ]
    },
    {
      "cell_type": "code",
      "metadata": {
        "id": "ex5cD27SEXfP",
        "colab_type": "code",
        "colab": {},
        "outputId": "b3969225-e485-4ee3-b3db-d6bc405f0c56"
      },
      "source": [
        "crime.dtypes"
      ],
      "execution_count": 0,
      "outputs": [
        {
          "output_type": "execute_result",
          "data": {
            "text/plain": [
              "Year                  datetime64[ns]\n",
              "Population                     int64\n",
              "Total                          int64\n",
              "Violent                        int64\n",
              "Property                       int64\n",
              "Murder                         int64\n",
              "Forcible_Rape                  int64\n",
              "Robbery                        int64\n",
              "Aggravated_assault             int64\n",
              "Burglary                       int64\n",
              "Larceny_Theft                  int64\n",
              "Vehicle_Theft                  int64\n",
              "dtype: object"
            ]
          },
          "metadata": {
            "tags": []
          },
          "execution_count": 82
        }
      ]
    },
    {
      "cell_type": "markdown",
      "metadata": {
        "id": "49-JTYQAEXfR",
        "colab_type": "text"
      },
      "source": [
        "### Tarefa 3. Converta o tipo de dado da coluna Year para o tipo datetime\n",
        "\n",
        "*Dica: use a função to_datetime() do Pandas*"
      ]
    },
    {
      "cell_type": "code",
      "metadata": {
        "id": "2IKaKYuOEXfS",
        "colab_type": "code",
        "colab": {}
      },
      "source": [
        "crime['Year'] = crime.Year.dt.year"
      ],
      "execution_count": 0,
      "outputs": []
    },
    {
      "cell_type": "code",
      "metadata": {
        "id": "ARWuSdM1EXfV",
        "colab_type": "code",
        "colab": {},
        "outputId": "e546c39d-6994-4828-f929-1e152d7bc5b7"
      },
      "source": [
        "crime.tail()"
      ],
      "execution_count": 0,
      "outputs": [
        {
          "output_type": "execute_result",
          "data": {
            "text/html": [
              "<div>\n",
              "<style scoped>\n",
              "    .dataframe tbody tr th:only-of-type {\n",
              "        vertical-align: middle;\n",
              "    }\n",
              "\n",
              "    .dataframe tbody tr th {\n",
              "        vertical-align: top;\n",
              "    }\n",
              "\n",
              "    .dataframe thead th {\n",
              "        text-align: right;\n",
              "    }\n",
              "</style>\n",
              "<table border=\"1\" class=\"dataframe\">\n",
              "  <thead>\n",
              "    <tr style=\"text-align: right;\">\n",
              "      <th></th>\n",
              "      <th>Year</th>\n",
              "      <th>Population</th>\n",
              "      <th>Total</th>\n",
              "      <th>Violent</th>\n",
              "      <th>Property</th>\n",
              "      <th>Murder</th>\n",
              "      <th>Forcible_Rape</th>\n",
              "      <th>Robbery</th>\n",
              "      <th>Aggravated_assault</th>\n",
              "      <th>Burglary</th>\n",
              "      <th>Larceny_Theft</th>\n",
              "      <th>Vehicle_Theft</th>\n",
              "    </tr>\n",
              "  </thead>\n",
              "  <tbody>\n",
              "    <tr>\n",
              "      <td>50</td>\n",
              "      <td>2010</td>\n",
              "      <td>309330219</td>\n",
              "      <td>10363873</td>\n",
              "      <td>1251248</td>\n",
              "      <td>9112625</td>\n",
              "      <td>14772</td>\n",
              "      <td>85593</td>\n",
              "      <td>369089</td>\n",
              "      <td>781844</td>\n",
              "      <td>2168457</td>\n",
              "      <td>6204601</td>\n",
              "      <td>739565</td>\n",
              "    </tr>\n",
              "    <tr>\n",
              "      <td>51</td>\n",
              "      <td>2011</td>\n",
              "      <td>311587816</td>\n",
              "      <td>10258774</td>\n",
              "      <td>1206031</td>\n",
              "      <td>9052743</td>\n",
              "      <td>14661</td>\n",
              "      <td>84175</td>\n",
              "      <td>354772</td>\n",
              "      <td>752423</td>\n",
              "      <td>2185140</td>\n",
              "      <td>6151095</td>\n",
              "      <td>716508</td>\n",
              "    </tr>\n",
              "    <tr>\n",
              "      <td>52</td>\n",
              "      <td>2012</td>\n",
              "      <td>313873685</td>\n",
              "      <td>10219059</td>\n",
              "      <td>1217067</td>\n",
              "      <td>9001992</td>\n",
              "      <td>14866</td>\n",
              "      <td>85141</td>\n",
              "      <td>355051</td>\n",
              "      <td>762009</td>\n",
              "      <td>2109932</td>\n",
              "      <td>6168874</td>\n",
              "      <td>723186</td>\n",
              "    </tr>\n",
              "    <tr>\n",
              "      <td>53</td>\n",
              "      <td>2013</td>\n",
              "      <td>316497531</td>\n",
              "      <td>9850445</td>\n",
              "      <td>1199684</td>\n",
              "      <td>8650761</td>\n",
              "      <td>14319</td>\n",
              "      <td>82109</td>\n",
              "      <td>345095</td>\n",
              "      <td>726575</td>\n",
              "      <td>1931835</td>\n",
              "      <td>6018632</td>\n",
              "      <td>700294</td>\n",
              "    </tr>\n",
              "    <tr>\n",
              "      <td>54</td>\n",
              "      <td>2014</td>\n",
              "      <td>318857056</td>\n",
              "      <td>9475816</td>\n",
              "      <td>1197987</td>\n",
              "      <td>8277829</td>\n",
              "      <td>14249</td>\n",
              "      <td>84041</td>\n",
              "      <td>325802</td>\n",
              "      <td>741291</td>\n",
              "      <td>1729806</td>\n",
              "      <td>5858496</td>\n",
              "      <td>689527</td>\n",
              "    </tr>\n",
              "  </tbody>\n",
              "</table>\n",
              "</div>"
            ],
            "text/plain": [
              "    Year  Population     Total  Violent  Property  Murder  Forcible_Rape  \\\n",
              "50  2010   309330219  10363873  1251248   9112625   14772          85593   \n",
              "51  2011   311587816  10258774  1206031   9052743   14661          84175   \n",
              "52  2012   313873685  10219059  1217067   9001992   14866          85141   \n",
              "53  2013   316497531   9850445  1199684   8650761   14319          82109   \n",
              "54  2014   318857056   9475816  1197987   8277829   14249          84041   \n",
              "\n",
              "    Robbery  Aggravated_assault  Burglary  Larceny_Theft  Vehicle_Theft  \n",
              "50   369089              781844   2168457        6204601         739565  \n",
              "51   354772              752423   2185140        6151095         716508  \n",
              "52   355051              762009   2109932        6168874         723186  \n",
              "53   345095              726575   1931835        6018632         700294  \n",
              "54   325802              741291   1729806        5858496         689527  "
            ]
          },
          "metadata": {
            "tags": []
          },
          "execution_count": 86
        }
      ]
    },
    {
      "cell_type": "markdown",
      "metadata": {
        "id": "h8ZIOcRuEXfY",
        "colab_type": "text"
      },
      "source": [
        "### Tarefa 4. Configure a coluna Year como index do DataFrame.\n",
        "\n",
        "*Dica: use a função set_index() do Pandas* "
      ]
    },
    {
      "cell_type": "code",
      "metadata": {
        "id": "qjyWvaM0EXfY",
        "colab_type": "code",
        "colab": {}
      },
      "source": [
        "crime.index = crime['Year']\n",
        "crime.drop(['Year'], axis=1, inplace=True)"
      ],
      "execution_count": 0,
      "outputs": []
    },
    {
      "cell_type": "code",
      "metadata": {
        "id": "jUCv9fBVEXfb",
        "colab_type": "code",
        "colab": {},
        "outputId": "09f4ae1d-cecc-4625-cb5c-a8f932200c61"
      },
      "source": [
        "crime.head()"
      ],
      "execution_count": 0,
      "outputs": [
        {
          "output_type": "execute_result",
          "data": {
            "text/html": [
              "<div>\n",
              "<style scoped>\n",
              "    .dataframe tbody tr th:only-of-type {\n",
              "        vertical-align: middle;\n",
              "    }\n",
              "\n",
              "    .dataframe tbody tr th {\n",
              "        vertical-align: top;\n",
              "    }\n",
              "\n",
              "    .dataframe thead th {\n",
              "        text-align: right;\n",
              "    }\n",
              "</style>\n",
              "<table border=\"1\" class=\"dataframe\">\n",
              "  <thead>\n",
              "    <tr style=\"text-align: right;\">\n",
              "      <th></th>\n",
              "      <th>Population</th>\n",
              "      <th>Total</th>\n",
              "      <th>Violent</th>\n",
              "      <th>Property</th>\n",
              "      <th>Murder</th>\n",
              "      <th>Forcible_Rape</th>\n",
              "      <th>Robbery</th>\n",
              "      <th>Aggravated_assault</th>\n",
              "      <th>Burglary</th>\n",
              "      <th>Larceny_Theft</th>\n",
              "      <th>Vehicle_Theft</th>\n",
              "    </tr>\n",
              "    <tr>\n",
              "      <th>Year</th>\n",
              "      <th></th>\n",
              "      <th></th>\n",
              "      <th></th>\n",
              "      <th></th>\n",
              "      <th></th>\n",
              "      <th></th>\n",
              "      <th></th>\n",
              "      <th></th>\n",
              "      <th></th>\n",
              "      <th></th>\n",
              "      <th></th>\n",
              "    </tr>\n",
              "  </thead>\n",
              "  <tbody>\n",
              "    <tr>\n",
              "      <td>1960</td>\n",
              "      <td>179323175</td>\n",
              "      <td>3384200</td>\n",
              "      <td>288460</td>\n",
              "      <td>3095700</td>\n",
              "      <td>9110</td>\n",
              "      <td>17190</td>\n",
              "      <td>107840</td>\n",
              "      <td>154320</td>\n",
              "      <td>912100</td>\n",
              "      <td>1855400</td>\n",
              "      <td>328200</td>\n",
              "    </tr>\n",
              "    <tr>\n",
              "      <td>1961</td>\n",
              "      <td>182992000</td>\n",
              "      <td>3488000</td>\n",
              "      <td>289390</td>\n",
              "      <td>3198600</td>\n",
              "      <td>8740</td>\n",
              "      <td>17220</td>\n",
              "      <td>106670</td>\n",
              "      <td>156760</td>\n",
              "      <td>949600</td>\n",
              "      <td>1913000</td>\n",
              "      <td>336000</td>\n",
              "    </tr>\n",
              "    <tr>\n",
              "      <td>1962</td>\n",
              "      <td>185771000</td>\n",
              "      <td>3752200</td>\n",
              "      <td>301510</td>\n",
              "      <td>3450700</td>\n",
              "      <td>8530</td>\n",
              "      <td>17550</td>\n",
              "      <td>110860</td>\n",
              "      <td>164570</td>\n",
              "      <td>994300</td>\n",
              "      <td>2089600</td>\n",
              "      <td>366800</td>\n",
              "    </tr>\n",
              "    <tr>\n",
              "      <td>1963</td>\n",
              "      <td>188483000</td>\n",
              "      <td>4109500</td>\n",
              "      <td>316970</td>\n",
              "      <td>3792500</td>\n",
              "      <td>8640</td>\n",
              "      <td>17650</td>\n",
              "      <td>116470</td>\n",
              "      <td>174210</td>\n",
              "      <td>1086400</td>\n",
              "      <td>2297800</td>\n",
              "      <td>408300</td>\n",
              "    </tr>\n",
              "    <tr>\n",
              "      <td>1964</td>\n",
              "      <td>191141000</td>\n",
              "      <td>4564600</td>\n",
              "      <td>364220</td>\n",
              "      <td>4200400</td>\n",
              "      <td>9360</td>\n",
              "      <td>21420</td>\n",
              "      <td>130390</td>\n",
              "      <td>203050</td>\n",
              "      <td>1213200</td>\n",
              "      <td>2514400</td>\n",
              "      <td>472800</td>\n",
              "    </tr>\n",
              "  </tbody>\n",
              "</table>\n",
              "</div>"
            ],
            "text/plain": [
              "      Population    Total  Violent  Property  Murder  Forcible_Rape  Robbery  \\\n",
              "Year                                                                           \n",
              "1960   179323175  3384200   288460   3095700    9110          17190   107840   \n",
              "1961   182992000  3488000   289390   3198600    8740          17220   106670   \n",
              "1962   185771000  3752200   301510   3450700    8530          17550   110860   \n",
              "1963   188483000  4109500   316970   3792500    8640          17650   116470   \n",
              "1964   191141000  4564600   364220   4200400    9360          21420   130390   \n",
              "\n",
              "      Aggravated_assault  Burglary  Larceny_Theft  Vehicle_Theft  \n",
              "Year                                                              \n",
              "1960              154320    912100        1855400         328200  \n",
              "1961              156760    949600        1913000         336000  \n",
              "1962              164570    994300        2089600         366800  \n",
              "1963              174210   1086400        2297800         408300  \n",
              "1964              203050   1213200        2514400         472800  "
            ]
          },
          "metadata": {
            "tags": []
          },
          "execution_count": 88
        }
      ]
    },
    {
      "cell_type": "markdown",
      "metadata": {
        "id": "k00rLMiNEXfd",
        "colab_type": "text"
      },
      "source": [
        "### Tarefa 5. Remova a coluna Total do DataFrame."
      ]
    },
    {
      "cell_type": "code",
      "metadata": {
        "id": "Rdrgcy4cEXfd",
        "colab_type": "code",
        "colab": {}
      },
      "source": [
        "crime.drop(['Total'], axis=1, inplace=True)"
      ],
      "execution_count": 0,
      "outputs": []
    },
    {
      "cell_type": "markdown",
      "metadata": {
        "id": "4fnDIZ1QEXfg",
        "colab_type": "text"
      },
      "source": [
        "### Tarefa 6. De acordo com esses dados, qual foi o ano com maior número de assassinatos? \n",
        "\n",
        "*Dica: use a coluna murder*"
      ]
    },
    {
      "cell_type": "code",
      "metadata": {
        "id": "at-V0YxHEXfg",
        "colab_type": "code",
        "colab": {},
        "outputId": "689ff1e4-f127-41b7-cc00-2ebdd9b18cec"
      },
      "source": [
        "crime.sort_values(by='Murder',ascending=False)['Murder']"
      ],
      "execution_count": 0,
      "outputs": [
        {
          "output_type": "execute_result",
          "data": {
            "text/plain": [
              "Year\n",
              "1991    24700\n",
              "1993    24530\n",
              "1992    23760\n",
              "1990    23440\n",
              "1994    23330\n",
              "1980    23040\n",
              "1981    22520\n",
              "1995    21610\n",
              "1989    21500\n",
              "1979    21460\n",
              "1982    21010\n",
              "1974    20710\n",
              "1988    20680\n",
              "1986    20613\n",
              "1975    20510\n",
              "1987    20096\n",
              "1996    19650\n",
              "1973    19640\n",
              "1978    19560\n",
              "1983    19310\n",
              "1977    19120\n",
              "1985    18980\n",
              "1976    18780\n",
              "1984    18690\n",
              "1972    18670\n",
              "1997    18208\n",
              "1971    17780\n",
              "2006    17030\n",
              "2007    16929\n",
              "1998    16914\n",
              "2005    16740\n",
              "2003    16528\n",
              "2008    16442\n",
              "2002    16229\n",
              "2004    16148\n",
              "2001    16037\n",
              "1970    16000\n",
              "2000    15586\n",
              "1999    15522\n",
              "2009    15399\n",
              "2012    14866\n",
              "2010    14772\n",
              "1969    14760\n",
              "2011    14661\n",
              "2013    14319\n",
              "2014    14249\n",
              "1968    13800\n",
              "1967    12240\n",
              "1966    11040\n",
              "1965     9960\n",
              "1964     9360\n",
              "1960     9110\n",
              "1961     8740\n",
              "1963     8640\n",
              "1962     8530\n",
              "Name: Murder, dtype: int64"
            ]
          },
          "metadata": {
            "tags": []
          },
          "execution_count": 90
        }
      ]
    },
    {
      "cell_type": "markdown",
      "metadata": {
        "id": "jEnGNUcfEXfj",
        "colab_type": "text"
      },
      "source": [
        "### Awari -  <a href=\"https://awari.com.br/\"> awari.com.br</a>"
      ]
    }
  ]
}