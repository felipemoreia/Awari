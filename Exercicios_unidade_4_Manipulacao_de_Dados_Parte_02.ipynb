{
  "nbformat": 4,
  "nbformat_minor": 0,
  "metadata": {
    "anaconda-cloud": {},
    "kernelspec": {
      "display_name": "Python 3",
      "language": "python",
      "name": "python3"
    },
    "language_info": {
      "codemirror_mode": {
        "name": "ipython",
        "version": 3
      },
      "file_extension": ".py",
      "mimetype": "text/x-python",
      "name": "python",
      "nbconvert_exporter": "python",
      "pygments_lexer": "ipython3",
      "version": "3.7.4"
    },
    "colab": {
      "name": "Exercicios_unidade_4_Manipulacao_de_Dados_Parte_02.ipynb",
      "provenance": [],
      "include_colab_link": true
    }
  },
  "cells": [
    {
      "cell_type": "markdown",
      "metadata": {
        "id": "view-in-github",
        "colab_type": "text"
      },
      "source": [
        "<a href=\"https://colab.research.google.com/github/felipemoreia/Awari/blob/master/Exercicios_unidade_4_Manipulacao_de_Dados_Parte_02.ipynb\" target=\"_parent\"><img src=\"https://colab.research.google.com/assets/colab-badge.svg\" alt=\"Open In Colab\"/></a>"
      ]
    },
    {
      "cell_type": "markdown",
      "metadata": {
        "id": "fqN64nL8EbW8",
        "colab_type": "text"
      },
      "source": [
        "# Awari - Data Science\n",
        "\n",
        "## Exercícios Unidade 4 - Parte 2"
      ]
    },
    {
      "cell_type": "markdown",
      "metadata": {
        "id": "V4gLnFtiEbW9",
        "colab_type": "text"
      },
      "source": [
        "Neste Jupyter notebook você irá resolver uma série de exercícios utilizando a linguagem Python e a biblioteca Pandas.\n",
        "\n",
        "Você utilizará um dataset com dados de jogos de futebol da Europa.\n",
        "\n",
        "Todo o seu código deve ser executado neste Jupyter Notebook. Por fim, se desejar, revise as respostas com o seu mentor."
      ]
    },
    {
      "cell_type": "markdown",
      "metadata": {
        "id": "z4BkcybOEbW-",
        "colab_type": "text"
      },
      "source": [
        "### Passo 1. Importe o dataset e salve os dados em um dataframe\n",
        "\n",
        "Os dados estão salvos no arquivo ***datasets/euro2012.csv***.\n",
        "\n",
        "Salve os dados em uma variável de nome *euro12*."
      ]
    },
    {
      "cell_type": "code",
      "metadata": {
        "id": "MRCKxcFMEbW_",
        "colab_type": "code",
        "colab": {}
      },
      "source": [
        "import pandas as pd"
      ],
      "execution_count": 0,
      "outputs": []
    },
    {
      "cell_type": "code",
      "metadata": {
        "id": "3U0lQLtEEbXC",
        "colab_type": "code",
        "colab": {}
      },
      "source": [
        "df = pd.read_csv('euro2012.csv.')"
      ],
      "execution_count": 0,
      "outputs": []
    },
    {
      "cell_type": "code",
      "metadata": {
        "id": "jyNHXyy-EbXE",
        "colab_type": "code",
        "colab": {},
        "outputId": "7c1d147d-4dda-4beb-e80a-f47c1fe9d622"
      },
      "source": [
        "df.head()"
      ],
      "execution_count": 0,
      "outputs": [
        {
          "output_type": "execute_result",
          "data": {
            "text/html": [
              "<div>\n",
              "<style scoped>\n",
              "    .dataframe tbody tr th:only-of-type {\n",
              "        vertical-align: middle;\n",
              "    }\n",
              "\n",
              "    .dataframe tbody tr th {\n",
              "        vertical-align: top;\n",
              "    }\n",
              "\n",
              "    .dataframe thead th {\n",
              "        text-align: right;\n",
              "    }\n",
              "</style>\n",
              "<table border=\"1\" class=\"dataframe\">\n",
              "  <thead>\n",
              "    <tr style=\"text-align: right;\">\n",
              "      <th></th>\n",
              "      <th>Team</th>\n",
              "      <th>Goals</th>\n",
              "      <th>Shots on target</th>\n",
              "      <th>Shots off target</th>\n",
              "      <th>Shooting Accuracy</th>\n",
              "      <th>% Goals-to-shots</th>\n",
              "      <th>Total shots (inc. Blocked)</th>\n",
              "      <th>Hit Woodwork</th>\n",
              "      <th>Penalty goals</th>\n",
              "      <th>Penalties not scored</th>\n",
              "      <th>...</th>\n",
              "      <th>Saves made</th>\n",
              "      <th>Saves-to-shots ratio</th>\n",
              "      <th>Fouls Won</th>\n",
              "      <th>Fouls Conceded</th>\n",
              "      <th>Offsides</th>\n",
              "      <th>Yellow Cards</th>\n",
              "      <th>Red Cards</th>\n",
              "      <th>Subs on</th>\n",
              "      <th>Subs off</th>\n",
              "      <th>Players Used</th>\n",
              "    </tr>\n",
              "  </thead>\n",
              "  <tbody>\n",
              "    <tr>\n",
              "      <td>0</td>\n",
              "      <td>Croatia</td>\n",
              "      <td>4</td>\n",
              "      <td>13</td>\n",
              "      <td>12</td>\n",
              "      <td>51.9%</td>\n",
              "      <td>16.0%</td>\n",
              "      <td>32</td>\n",
              "      <td>0</td>\n",
              "      <td>0</td>\n",
              "      <td>0</td>\n",
              "      <td>...</td>\n",
              "      <td>13</td>\n",
              "      <td>81.3%</td>\n",
              "      <td>41</td>\n",
              "      <td>62</td>\n",
              "      <td>2</td>\n",
              "      <td>9</td>\n",
              "      <td>0</td>\n",
              "      <td>9</td>\n",
              "      <td>9</td>\n",
              "      <td>16</td>\n",
              "    </tr>\n",
              "    <tr>\n",
              "      <td>1</td>\n",
              "      <td>Czech Republic</td>\n",
              "      <td>4</td>\n",
              "      <td>13</td>\n",
              "      <td>18</td>\n",
              "      <td>41.9%</td>\n",
              "      <td>12.9%</td>\n",
              "      <td>39</td>\n",
              "      <td>0</td>\n",
              "      <td>0</td>\n",
              "      <td>0</td>\n",
              "      <td>...</td>\n",
              "      <td>9</td>\n",
              "      <td>60.1%</td>\n",
              "      <td>53</td>\n",
              "      <td>73</td>\n",
              "      <td>8</td>\n",
              "      <td>7</td>\n",
              "      <td>0</td>\n",
              "      <td>11</td>\n",
              "      <td>11</td>\n",
              "      <td>19</td>\n",
              "    </tr>\n",
              "    <tr>\n",
              "      <td>2</td>\n",
              "      <td>Denmark</td>\n",
              "      <td>4</td>\n",
              "      <td>10</td>\n",
              "      <td>10</td>\n",
              "      <td>50.0%</td>\n",
              "      <td>20.0%</td>\n",
              "      <td>27</td>\n",
              "      <td>1</td>\n",
              "      <td>0</td>\n",
              "      <td>0</td>\n",
              "      <td>...</td>\n",
              "      <td>10</td>\n",
              "      <td>66.7%</td>\n",
              "      <td>25</td>\n",
              "      <td>38</td>\n",
              "      <td>8</td>\n",
              "      <td>4</td>\n",
              "      <td>0</td>\n",
              "      <td>7</td>\n",
              "      <td>7</td>\n",
              "      <td>15</td>\n",
              "    </tr>\n",
              "    <tr>\n",
              "      <td>3</td>\n",
              "      <td>England</td>\n",
              "      <td>5</td>\n",
              "      <td>11</td>\n",
              "      <td>18</td>\n",
              "      <td>50.0%</td>\n",
              "      <td>17.2%</td>\n",
              "      <td>40</td>\n",
              "      <td>0</td>\n",
              "      <td>0</td>\n",
              "      <td>0</td>\n",
              "      <td>...</td>\n",
              "      <td>22</td>\n",
              "      <td>88.1%</td>\n",
              "      <td>43</td>\n",
              "      <td>45</td>\n",
              "      <td>6</td>\n",
              "      <td>5</td>\n",
              "      <td>0</td>\n",
              "      <td>11</td>\n",
              "      <td>11</td>\n",
              "      <td>16</td>\n",
              "    </tr>\n",
              "    <tr>\n",
              "      <td>4</td>\n",
              "      <td>France</td>\n",
              "      <td>3</td>\n",
              "      <td>22</td>\n",
              "      <td>24</td>\n",
              "      <td>37.9%</td>\n",
              "      <td>6.5%</td>\n",
              "      <td>65</td>\n",
              "      <td>1</td>\n",
              "      <td>0</td>\n",
              "      <td>0</td>\n",
              "      <td>...</td>\n",
              "      <td>6</td>\n",
              "      <td>54.6%</td>\n",
              "      <td>36</td>\n",
              "      <td>51</td>\n",
              "      <td>5</td>\n",
              "      <td>6</td>\n",
              "      <td>0</td>\n",
              "      <td>11</td>\n",
              "      <td>11</td>\n",
              "      <td>19</td>\n",
              "    </tr>\n",
              "  </tbody>\n",
              "</table>\n",
              "<p>5 rows × 35 columns</p>\n",
              "</div>"
            ],
            "text/plain": [
              "             Team  Goals  Shots on target  Shots off target Shooting Accuracy  \\\n",
              "0         Croatia      4               13                12             51.9%   \n",
              "1  Czech Republic      4               13                18             41.9%   \n",
              "2         Denmark      4               10                10             50.0%   \n",
              "3         England      5               11                18             50.0%   \n",
              "4          France      3               22                24             37.9%   \n",
              "\n",
              "  % Goals-to-shots  Total shots (inc. Blocked)  Hit Woodwork  Penalty goals  \\\n",
              "0            16.0%                          32             0              0   \n",
              "1            12.9%                          39             0              0   \n",
              "2            20.0%                          27             1              0   \n",
              "3            17.2%                          40             0              0   \n",
              "4             6.5%                          65             1              0   \n",
              "\n",
              "   Penalties not scored  ...  Saves made  Saves-to-shots ratio  Fouls Won  \\\n",
              "0                     0  ...          13                 81.3%         41   \n",
              "1                     0  ...           9                 60.1%         53   \n",
              "2                     0  ...          10                 66.7%         25   \n",
              "3                     0  ...          22                 88.1%         43   \n",
              "4                     0  ...           6                 54.6%         36   \n",
              "\n",
              "  Fouls Conceded  Offsides  Yellow Cards  Red Cards  Subs on  Subs off  \\\n",
              "0             62         2             9          0        9         9   \n",
              "1             73         8             7          0       11        11   \n",
              "2             38         8             4          0        7         7   \n",
              "3             45         6             5          0       11        11   \n",
              "4             51         5             6          0       11        11   \n",
              "\n",
              "   Players Used  \n",
              "0            16  \n",
              "1            19  \n",
              "2            15  \n",
              "3            16  \n",
              "4            19  \n",
              "\n",
              "[5 rows x 35 columns]"
            ]
          },
          "metadata": {
            "tags": []
          },
          "execution_count": 16
        }
      ]
    },
    {
      "cell_type": "markdown",
      "metadata": {
        "id": "zZDrhF0BEbXH",
        "colab_type": "text"
      },
      "source": [
        "### Passo 2. Quantas o tamanho do dataset (linhas e colunas)? "
      ]
    },
    {
      "cell_type": "code",
      "metadata": {
        "id": "CbPwgGpLEbXH",
        "colab_type": "code",
        "colab": {},
        "outputId": "f4dcb1c6-ce7c-44d7-d0c8-89290ed497b1"
      },
      "source": [
        "df.shape"
      ],
      "execution_count": 0,
      "outputs": [
        {
          "output_type": "execute_result",
          "data": {
            "text/plain": [
              "(16, 35)"
            ]
          },
          "metadata": {
            "tags": []
          },
          "execution_count": 3
        }
      ]
    },
    {
      "cell_type": "markdown",
      "metadata": {
        "id": "PYrTqYE7EbXL",
        "colab_type": "text"
      },
      "source": [
        "### Passo 3. Quantos e quais times participaram do campeonato?"
      ]
    },
    {
      "cell_type": "code",
      "metadata": {
        "id": "xV_s65KBEbXL",
        "colab_type": "code",
        "colab": {},
        "outputId": "3f7b5755-b925-4af8-acd7-00b601630d04"
      },
      "source": [
        "len(df['Team'].unique())"
      ],
      "execution_count": 0,
      "outputs": [
        {
          "output_type": "execute_result",
          "data": {
            "text/plain": [
              "16"
            ]
          },
          "metadata": {
            "tags": []
          },
          "execution_count": 11
        }
      ]
    },
    {
      "cell_type": "markdown",
      "metadata": {
        "id": "gejzw27EEbXO",
        "colab_type": "text"
      },
      "source": [
        "### Passo 4. Crie um novo dataframe com as colunas *Team*, *Yellow Cards* e *Red Cards*."
      ]
    },
    {
      "cell_type": "code",
      "metadata": {
        "id": "uI1dVZKxEbXO",
        "colab_type": "code",
        "colab": {},
        "outputId": "c2c63b80-dbd1-477e-d798-d7499448490c"
      },
      "source": [
        "dfstats = df[['Team', 'Yellow Cards', 'Red Cards']]\n",
        "dfstats"
      ],
      "execution_count": 0,
      "outputs": [
        {
          "output_type": "execute_result",
          "data": {
            "text/html": [
              "<div>\n",
              "<style scoped>\n",
              "    .dataframe tbody tr th:only-of-type {\n",
              "        vertical-align: middle;\n",
              "    }\n",
              "\n",
              "    .dataframe tbody tr th {\n",
              "        vertical-align: top;\n",
              "    }\n",
              "\n",
              "    .dataframe thead th {\n",
              "        text-align: right;\n",
              "    }\n",
              "</style>\n",
              "<table border=\"1\" class=\"dataframe\">\n",
              "  <thead>\n",
              "    <tr style=\"text-align: right;\">\n",
              "      <th></th>\n",
              "      <th>Team</th>\n",
              "      <th>Yellow Cards</th>\n",
              "      <th>Red Cards</th>\n",
              "    </tr>\n",
              "  </thead>\n",
              "  <tbody>\n",
              "    <tr>\n",
              "      <td>0</td>\n",
              "      <td>Croatia</td>\n",
              "      <td>9</td>\n",
              "      <td>0</td>\n",
              "    </tr>\n",
              "    <tr>\n",
              "      <td>1</td>\n",
              "      <td>Czech Republic</td>\n",
              "      <td>7</td>\n",
              "      <td>0</td>\n",
              "    </tr>\n",
              "    <tr>\n",
              "      <td>2</td>\n",
              "      <td>Denmark</td>\n",
              "      <td>4</td>\n",
              "      <td>0</td>\n",
              "    </tr>\n",
              "    <tr>\n",
              "      <td>3</td>\n",
              "      <td>England</td>\n",
              "      <td>5</td>\n",
              "      <td>0</td>\n",
              "    </tr>\n",
              "    <tr>\n",
              "      <td>4</td>\n",
              "      <td>France</td>\n",
              "      <td>6</td>\n",
              "      <td>0</td>\n",
              "    </tr>\n",
              "    <tr>\n",
              "      <td>5</td>\n",
              "      <td>Germany</td>\n",
              "      <td>4</td>\n",
              "      <td>0</td>\n",
              "    </tr>\n",
              "    <tr>\n",
              "      <td>6</td>\n",
              "      <td>Greece</td>\n",
              "      <td>9</td>\n",
              "      <td>1</td>\n",
              "    </tr>\n",
              "    <tr>\n",
              "      <td>7</td>\n",
              "      <td>Italy</td>\n",
              "      <td>16</td>\n",
              "      <td>0</td>\n",
              "    </tr>\n",
              "    <tr>\n",
              "      <td>8</td>\n",
              "      <td>Netherlands</td>\n",
              "      <td>5</td>\n",
              "      <td>0</td>\n",
              "    </tr>\n",
              "    <tr>\n",
              "      <td>9</td>\n",
              "      <td>Poland</td>\n",
              "      <td>7</td>\n",
              "      <td>1</td>\n",
              "    </tr>\n",
              "    <tr>\n",
              "      <td>10</td>\n",
              "      <td>Portugal</td>\n",
              "      <td>12</td>\n",
              "      <td>0</td>\n",
              "    </tr>\n",
              "    <tr>\n",
              "      <td>11</td>\n",
              "      <td>Republic of Ireland</td>\n",
              "      <td>6</td>\n",
              "      <td>1</td>\n",
              "    </tr>\n",
              "    <tr>\n",
              "      <td>12</td>\n",
              "      <td>Russia</td>\n",
              "      <td>6</td>\n",
              "      <td>0</td>\n",
              "    </tr>\n",
              "    <tr>\n",
              "      <td>13</td>\n",
              "      <td>Spain</td>\n",
              "      <td>11</td>\n",
              "      <td>0</td>\n",
              "    </tr>\n",
              "    <tr>\n",
              "      <td>14</td>\n",
              "      <td>Sweden</td>\n",
              "      <td>7</td>\n",
              "      <td>0</td>\n",
              "    </tr>\n",
              "    <tr>\n",
              "      <td>15</td>\n",
              "      <td>Ukraine</td>\n",
              "      <td>5</td>\n",
              "      <td>0</td>\n",
              "    </tr>\n",
              "  </tbody>\n",
              "</table>\n",
              "</div>"
            ],
            "text/plain": [
              "                   Team  Yellow Cards  Red Cards\n",
              "0               Croatia             9          0\n",
              "1        Czech Republic             7          0\n",
              "2               Denmark             4          0\n",
              "3               England             5          0\n",
              "4                France             6          0\n",
              "5               Germany             4          0\n",
              "6                Greece             9          1\n",
              "7                 Italy            16          0\n",
              "8           Netherlands             5          0\n",
              "9                Poland             7          1\n",
              "10             Portugal            12          0\n",
              "11  Republic of Ireland             6          1\n",
              "12               Russia             6          0\n",
              "13                Spain            11          0\n",
              "14               Sweden             7          0\n",
              "15              Ukraine             5          0"
            ]
          },
          "metadata": {
            "tags": []
          },
          "execution_count": 13
        }
      ]
    },
    {
      "cell_type": "markdown",
      "metadata": {
        "id": "lDkV0wc1EbXR",
        "colab_type": "text"
      },
      "source": [
        "### Passo 5. Ordene os times pela quantidade de cartões amarelos."
      ]
    },
    {
      "cell_type": "code",
      "metadata": {
        "scrolled": true,
        "id": "ve93vlOkEbXS",
        "colab_type": "code",
        "colab": {},
        "outputId": "57888220-ad58-4aed-f5aa-00ba1c9d6ec3"
      },
      "source": [
        "dfstats.sort_values(by='Yellow Cards', ascending=False)"
      ],
      "execution_count": 0,
      "outputs": [
        {
          "output_type": "execute_result",
          "data": {
            "text/html": [
              "<div>\n",
              "<style scoped>\n",
              "    .dataframe tbody tr th:only-of-type {\n",
              "        vertical-align: middle;\n",
              "    }\n",
              "\n",
              "    .dataframe tbody tr th {\n",
              "        vertical-align: top;\n",
              "    }\n",
              "\n",
              "    .dataframe thead th {\n",
              "        text-align: right;\n",
              "    }\n",
              "</style>\n",
              "<table border=\"1\" class=\"dataframe\">\n",
              "  <thead>\n",
              "    <tr style=\"text-align: right;\">\n",
              "      <th></th>\n",
              "      <th>Team</th>\n",
              "      <th>Yellow Cards</th>\n",
              "      <th>Red Cards</th>\n",
              "    </tr>\n",
              "  </thead>\n",
              "  <tbody>\n",
              "    <tr>\n",
              "      <td>7</td>\n",
              "      <td>Italy</td>\n",
              "      <td>16</td>\n",
              "      <td>0</td>\n",
              "    </tr>\n",
              "    <tr>\n",
              "      <td>10</td>\n",
              "      <td>Portugal</td>\n",
              "      <td>12</td>\n",
              "      <td>0</td>\n",
              "    </tr>\n",
              "    <tr>\n",
              "      <td>13</td>\n",
              "      <td>Spain</td>\n",
              "      <td>11</td>\n",
              "      <td>0</td>\n",
              "    </tr>\n",
              "    <tr>\n",
              "      <td>0</td>\n",
              "      <td>Croatia</td>\n",
              "      <td>9</td>\n",
              "      <td>0</td>\n",
              "    </tr>\n",
              "    <tr>\n",
              "      <td>6</td>\n",
              "      <td>Greece</td>\n",
              "      <td>9</td>\n",
              "      <td>1</td>\n",
              "    </tr>\n",
              "    <tr>\n",
              "      <td>1</td>\n",
              "      <td>Czech Republic</td>\n",
              "      <td>7</td>\n",
              "      <td>0</td>\n",
              "    </tr>\n",
              "    <tr>\n",
              "      <td>9</td>\n",
              "      <td>Poland</td>\n",
              "      <td>7</td>\n",
              "      <td>1</td>\n",
              "    </tr>\n",
              "    <tr>\n",
              "      <td>14</td>\n",
              "      <td>Sweden</td>\n",
              "      <td>7</td>\n",
              "      <td>0</td>\n",
              "    </tr>\n",
              "    <tr>\n",
              "      <td>4</td>\n",
              "      <td>France</td>\n",
              "      <td>6</td>\n",
              "      <td>0</td>\n",
              "    </tr>\n",
              "    <tr>\n",
              "      <td>11</td>\n",
              "      <td>Republic of Ireland</td>\n",
              "      <td>6</td>\n",
              "      <td>1</td>\n",
              "    </tr>\n",
              "    <tr>\n",
              "      <td>12</td>\n",
              "      <td>Russia</td>\n",
              "      <td>6</td>\n",
              "      <td>0</td>\n",
              "    </tr>\n",
              "    <tr>\n",
              "      <td>3</td>\n",
              "      <td>England</td>\n",
              "      <td>5</td>\n",
              "      <td>0</td>\n",
              "    </tr>\n",
              "    <tr>\n",
              "      <td>8</td>\n",
              "      <td>Netherlands</td>\n",
              "      <td>5</td>\n",
              "      <td>0</td>\n",
              "    </tr>\n",
              "    <tr>\n",
              "      <td>15</td>\n",
              "      <td>Ukraine</td>\n",
              "      <td>5</td>\n",
              "      <td>0</td>\n",
              "    </tr>\n",
              "    <tr>\n",
              "      <td>2</td>\n",
              "      <td>Denmark</td>\n",
              "      <td>4</td>\n",
              "      <td>0</td>\n",
              "    </tr>\n",
              "    <tr>\n",
              "      <td>5</td>\n",
              "      <td>Germany</td>\n",
              "      <td>4</td>\n",
              "      <td>0</td>\n",
              "    </tr>\n",
              "  </tbody>\n",
              "</table>\n",
              "</div>"
            ],
            "text/plain": [
              "                   Team  Yellow Cards  Red Cards\n",
              "7                 Italy            16          0\n",
              "10             Portugal            12          0\n",
              "13                Spain            11          0\n",
              "0               Croatia             9          0\n",
              "6                Greece             9          1\n",
              "1        Czech Republic             7          0\n",
              "9                Poland             7          1\n",
              "14               Sweden             7          0\n",
              "4                France             6          0\n",
              "11  Republic of Ireland             6          1\n",
              "12               Russia             6          0\n",
              "3               England             5          0\n",
              "8           Netherlands             5          0\n",
              "15              Ukraine             5          0\n",
              "2               Denmark             4          0\n",
              "5               Germany             4          0"
            ]
          },
          "metadata": {
            "tags": []
          },
          "execution_count": 14
        }
      ]
    },
    {
      "cell_type": "markdown",
      "metadata": {
        "id": "9ILDSkcdEbXU",
        "colab_type": "text"
      },
      "source": [
        "### Passo 6. Qual a média de cartões amarelos por time?"
      ]
    },
    {
      "cell_type": "code",
      "metadata": {
        "id": "U1dGx4DFEbXV",
        "colab_type": "code",
        "colab": {},
        "outputId": "bdc18267-f1c6-4df1-fdbf-530366d37c6e"
      },
      "source": [
        "dfstats['Yellow Cards'].mean()"
      ],
      "execution_count": 0,
      "outputs": [
        {
          "output_type": "execute_result",
          "data": {
            "text/plain": [
              "7.4375"
            ]
          },
          "metadata": {
            "tags": []
          },
          "execution_count": 15
        }
      ]
    },
    {
      "cell_type": "markdown",
      "metadata": {
        "id": "gDngc6MPEbXX",
        "colab_type": "text"
      },
      "source": [
        "### Passo 7. Selecione os times que fizeram mais de 6 gols."
      ]
    },
    {
      "cell_type": "code",
      "metadata": {
        "id": "BDcjOBEAEbXX",
        "colab_type": "code",
        "colab": {},
        "outputId": "6a929b3d-d5c8-49c3-821c-d2765dd9c167"
      },
      "source": [
        "df.loc[df['Goals']>6]"
      ],
      "execution_count": 0,
      "outputs": [
        {
          "output_type": "execute_result",
          "data": {
            "text/html": [
              "<div>\n",
              "<style scoped>\n",
              "    .dataframe tbody tr th:only-of-type {\n",
              "        vertical-align: middle;\n",
              "    }\n",
              "\n",
              "    .dataframe tbody tr th {\n",
              "        vertical-align: top;\n",
              "    }\n",
              "\n",
              "    .dataframe thead th {\n",
              "        text-align: right;\n",
              "    }\n",
              "</style>\n",
              "<table border=\"1\" class=\"dataframe\">\n",
              "  <thead>\n",
              "    <tr style=\"text-align: right;\">\n",
              "      <th></th>\n",
              "      <th>Team</th>\n",
              "      <th>Goals</th>\n",
              "      <th>Shots on target</th>\n",
              "      <th>Shots off target</th>\n",
              "      <th>Shooting Accuracy</th>\n",
              "      <th>% Goals-to-shots</th>\n",
              "      <th>Total shots (inc. Blocked)</th>\n",
              "      <th>Hit Woodwork</th>\n",
              "      <th>Penalty goals</th>\n",
              "      <th>Penalties not scored</th>\n",
              "      <th>...</th>\n",
              "      <th>Saves made</th>\n",
              "      <th>Saves-to-shots ratio</th>\n",
              "      <th>Fouls Won</th>\n",
              "      <th>Fouls Conceded</th>\n",
              "      <th>Offsides</th>\n",
              "      <th>Yellow Cards</th>\n",
              "      <th>Red Cards</th>\n",
              "      <th>Subs on</th>\n",
              "      <th>Subs off</th>\n",
              "      <th>Players Used</th>\n",
              "    </tr>\n",
              "  </thead>\n",
              "  <tbody>\n",
              "    <tr>\n",
              "      <td>5</td>\n",
              "      <td>Germany</td>\n",
              "      <td>10</td>\n",
              "      <td>32</td>\n",
              "      <td>32</td>\n",
              "      <td>47.8%</td>\n",
              "      <td>15.6%</td>\n",
              "      <td>80</td>\n",
              "      <td>2</td>\n",
              "      <td>1</td>\n",
              "      <td>0</td>\n",
              "      <td>...</td>\n",
              "      <td>10</td>\n",
              "      <td>62.6%</td>\n",
              "      <td>63</td>\n",
              "      <td>49</td>\n",
              "      <td>12</td>\n",
              "      <td>4</td>\n",
              "      <td>0</td>\n",
              "      <td>15</td>\n",
              "      <td>15</td>\n",
              "      <td>17</td>\n",
              "    </tr>\n",
              "    <tr>\n",
              "      <td>13</td>\n",
              "      <td>Spain</td>\n",
              "      <td>12</td>\n",
              "      <td>42</td>\n",
              "      <td>33</td>\n",
              "      <td>55.9%</td>\n",
              "      <td>16.0%</td>\n",
              "      <td>100</td>\n",
              "      <td>0</td>\n",
              "      <td>1</td>\n",
              "      <td>0</td>\n",
              "      <td>...</td>\n",
              "      <td>15</td>\n",
              "      <td>93.8%</td>\n",
              "      <td>102</td>\n",
              "      <td>83</td>\n",
              "      <td>19</td>\n",
              "      <td>11</td>\n",
              "      <td>0</td>\n",
              "      <td>17</td>\n",
              "      <td>17</td>\n",
              "      <td>18</td>\n",
              "    </tr>\n",
              "  </tbody>\n",
              "</table>\n",
              "<p>2 rows × 35 columns</p>\n",
              "</div>"
            ],
            "text/plain": [
              "       Team  Goals  Shots on target  Shots off target Shooting Accuracy  \\\n",
              "5   Germany     10               32                32             47.8%   \n",
              "13    Spain     12               42                33             55.9%   \n",
              "\n",
              "   % Goals-to-shots  Total shots (inc. Blocked)  Hit Woodwork  Penalty goals  \\\n",
              "5             15.6%                          80             2              1   \n",
              "13            16.0%                         100             0              1   \n",
              "\n",
              "    Penalties not scored  ...  Saves made  Saves-to-shots ratio  Fouls Won  \\\n",
              "5                      0  ...          10                 62.6%         63   \n",
              "13                     0  ...          15                 93.8%        102   \n",
              "\n",
              "   Fouls Conceded  Offsides  Yellow Cards  Red Cards  Subs on  Subs off  \\\n",
              "5              49        12             4          0       15        15   \n",
              "13             83        19            11          0       17        17   \n",
              "\n",
              "    Players Used  \n",
              "5             17  \n",
              "13            18  \n",
              "\n",
              "[2 rows x 35 columns]"
            ]
          },
          "metadata": {
            "tags": []
          },
          "execution_count": 17
        }
      ]
    },
    {
      "cell_type": "markdown",
      "metadata": {
        "id": "emRZY1D9EbXa",
        "colab_type": "text"
      },
      "source": [
        "### Passo 8. Quais times que fizeram gol de pênalti?"
      ]
    },
    {
      "cell_type": "code",
      "metadata": {
        "id": "GjJAF9G1EbXa",
        "colab_type": "code",
        "colab": {},
        "outputId": "2e5f139e-2ab1-4ee7-f2e5-7badbe9a1c07"
      },
      "source": [
        "df.loc[df['Penalty goals']>0]"
      ],
      "execution_count": 0,
      "outputs": [
        {
          "output_type": "execute_result",
          "data": {
            "text/html": [
              "<div>\n",
              "<style scoped>\n",
              "    .dataframe tbody tr th:only-of-type {\n",
              "        vertical-align: middle;\n",
              "    }\n",
              "\n",
              "    .dataframe tbody tr th {\n",
              "        vertical-align: top;\n",
              "    }\n",
              "\n",
              "    .dataframe thead th {\n",
              "        text-align: right;\n",
              "    }\n",
              "</style>\n",
              "<table border=\"1\" class=\"dataframe\">\n",
              "  <thead>\n",
              "    <tr style=\"text-align: right;\">\n",
              "      <th></th>\n",
              "      <th>Team</th>\n",
              "      <th>Goals</th>\n",
              "      <th>Shots on target</th>\n",
              "      <th>Shots off target</th>\n",
              "      <th>Shooting Accuracy</th>\n",
              "      <th>% Goals-to-shots</th>\n",
              "      <th>Total shots (inc. Blocked)</th>\n",
              "      <th>Hit Woodwork</th>\n",
              "      <th>Penalty goals</th>\n",
              "      <th>Penalties not scored</th>\n",
              "      <th>...</th>\n",
              "      <th>Saves made</th>\n",
              "      <th>Saves-to-shots ratio</th>\n",
              "      <th>Fouls Won</th>\n",
              "      <th>Fouls Conceded</th>\n",
              "      <th>Offsides</th>\n",
              "      <th>Yellow Cards</th>\n",
              "      <th>Red Cards</th>\n",
              "      <th>Subs on</th>\n",
              "      <th>Subs off</th>\n",
              "      <th>Players Used</th>\n",
              "    </tr>\n",
              "  </thead>\n",
              "  <tbody>\n",
              "    <tr>\n",
              "      <td>5</td>\n",
              "      <td>Germany</td>\n",
              "      <td>10</td>\n",
              "      <td>32</td>\n",
              "      <td>32</td>\n",
              "      <td>47.8%</td>\n",
              "      <td>15.6%</td>\n",
              "      <td>80</td>\n",
              "      <td>2</td>\n",
              "      <td>1</td>\n",
              "      <td>0</td>\n",
              "      <td>...</td>\n",
              "      <td>10</td>\n",
              "      <td>62.6%</td>\n",
              "      <td>63</td>\n",
              "      <td>49</td>\n",
              "      <td>12</td>\n",
              "      <td>4</td>\n",
              "      <td>0</td>\n",
              "      <td>15</td>\n",
              "      <td>15</td>\n",
              "      <td>17</td>\n",
              "    </tr>\n",
              "    <tr>\n",
              "      <td>6</td>\n",
              "      <td>Greece</td>\n",
              "      <td>5</td>\n",
              "      <td>8</td>\n",
              "      <td>18</td>\n",
              "      <td>30.7%</td>\n",
              "      <td>19.2%</td>\n",
              "      <td>32</td>\n",
              "      <td>1</td>\n",
              "      <td>1</td>\n",
              "      <td>1</td>\n",
              "      <td>...</td>\n",
              "      <td>13</td>\n",
              "      <td>65.1%</td>\n",
              "      <td>67</td>\n",
              "      <td>48</td>\n",
              "      <td>12</td>\n",
              "      <td>9</td>\n",
              "      <td>1</td>\n",
              "      <td>12</td>\n",
              "      <td>12</td>\n",
              "      <td>20</td>\n",
              "    </tr>\n",
              "    <tr>\n",
              "      <td>13</td>\n",
              "      <td>Spain</td>\n",
              "      <td>12</td>\n",
              "      <td>42</td>\n",
              "      <td>33</td>\n",
              "      <td>55.9%</td>\n",
              "      <td>16.0%</td>\n",
              "      <td>100</td>\n",
              "      <td>0</td>\n",
              "      <td>1</td>\n",
              "      <td>0</td>\n",
              "      <td>...</td>\n",
              "      <td>15</td>\n",
              "      <td>93.8%</td>\n",
              "      <td>102</td>\n",
              "      <td>83</td>\n",
              "      <td>19</td>\n",
              "      <td>11</td>\n",
              "      <td>0</td>\n",
              "      <td>17</td>\n",
              "      <td>17</td>\n",
              "      <td>18</td>\n",
              "    </tr>\n",
              "  </tbody>\n",
              "</table>\n",
              "<p>3 rows × 35 columns</p>\n",
              "</div>"
            ],
            "text/plain": [
              "       Team  Goals  Shots on target  Shots off target Shooting Accuracy  \\\n",
              "5   Germany     10               32                32             47.8%   \n",
              "6    Greece      5                8                18             30.7%   \n",
              "13    Spain     12               42                33             55.9%   \n",
              "\n",
              "   % Goals-to-shots  Total shots (inc. Blocked)  Hit Woodwork  Penalty goals  \\\n",
              "5             15.6%                          80             2              1   \n",
              "6             19.2%                          32             1              1   \n",
              "13            16.0%                         100             0              1   \n",
              "\n",
              "    Penalties not scored  ...  Saves made  Saves-to-shots ratio  Fouls Won  \\\n",
              "5                      0  ...          10                 62.6%         63   \n",
              "6                      1  ...          13                 65.1%         67   \n",
              "13                     0  ...          15                 93.8%        102   \n",
              "\n",
              "   Fouls Conceded  Offsides  Yellow Cards  Red Cards  Subs on  Subs off  \\\n",
              "5              49        12             4          0       15        15   \n",
              "6              48        12             9          1       12        12   \n",
              "13             83        19            11          0       17        17   \n",
              "\n",
              "    Players Used  \n",
              "5             17  \n",
              "6             20  \n",
              "13            18  \n",
              "\n",
              "[3 rows x 35 columns]"
            ]
          },
          "metadata": {
            "tags": []
          },
          "execution_count": 18
        }
      ]
    },
    {
      "cell_type": "markdown",
      "metadata": {
        "id": "jwYrtPFYEbXd",
        "colab_type": "text"
      },
      "source": [
        "### Passo 9. Mostre somente a coluna \"Shooting Accuracy\" para os times *England*, *Italy* e *Russia*"
      ]
    },
    {
      "cell_type": "code",
      "metadata": {
        "id": "0xglseXPEbXd",
        "colab_type": "code",
        "colab": {},
        "outputId": "e07f33a6-b177-46fa-9d0e-d6bba798c29d"
      },
      "source": [
        "englishteam = df['Team']=='England'\n",
        "russianteam = df['Team']=='Russia'\n",
        "italianteam = df['Team']=='Italy'\n",
        "df.loc[englishteam | russianteam | italianteam]['Shooting Accuracy']"
      ],
      "execution_count": 0,
      "outputs": [
        {
          "output_type": "execute_result",
          "data": {
            "text/plain": [
              "3     50.0%\n",
              "7     43.0%\n",
              "12    22.5%\n",
              "Name: Shooting Accuracy, dtype: object"
            ]
          },
          "metadata": {
            "tags": []
          },
          "execution_count": 22
        }
      ]
    },
    {
      "cell_type": "markdown",
      "metadata": {
        "id": "Yg8QFYeREbXg",
        "colab_type": "text"
      },
      "source": [
        "### Passo 10. Qual o time que fez mais gols?"
      ]
    },
    {
      "cell_type": "code",
      "metadata": {
        "id": "S2hxBjrnEbXh",
        "colab_type": "code",
        "colab": {},
        "outputId": "408ab7a3-f646-4a6e-df64-353df7eb0a32"
      },
      "source": [
        "df.sort_values(by='Goals',ascending=False)['Team']"
      ],
      "execution_count": 0,
      "outputs": [
        {
          "output_type": "execute_result",
          "data": {
            "text/plain": [
              "13                  Spain\n",
              "5                 Germany\n",
              "7                   Italy\n",
              "10               Portugal\n",
              "3                 England\n",
              "6                  Greece\n",
              "12                 Russia\n",
              "14                 Sweden\n",
              "0                 Croatia\n",
              "1          Czech Republic\n",
              "2                 Denmark\n",
              "4                  France\n",
              "8             Netherlands\n",
              "9                  Poland\n",
              "15                Ukraine\n",
              "11    Republic of Ireland\n",
              "Name: Team, dtype: object"
            ]
          },
          "metadata": {
            "tags": []
          },
          "execution_count": 27
        }
      ]
    },
    {
      "cell_type": "markdown",
      "metadata": {
        "id": "Ri3e_UQyEbXl",
        "colab_type": "text"
      },
      "source": [
        "\n",
        "### Awari -  <a href=\"https://awari.com.br/\"> awari.com.br</a>"
      ]
    },
    {
      "cell_type": "code",
      "metadata": {
        "id": "Dmqg-RDAEbXl",
        "colab_type": "code",
        "colab": {}
      },
      "source": [
        ""
      ],
      "execution_count": 0,
      "outputs": []
    }
  ]
}