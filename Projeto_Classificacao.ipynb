{
  "nbformat": 4,
  "nbformat_minor": 0,
  "metadata": {
    "kernelspec": {
      "display_name": "Python 3",
      "language": "python",
      "name": "python3"
    },
    "language_info": {
      "codemirror_mode": {
        "name": "ipython",
        "version": 3
      },
      "file_extension": ".py",
      "mimetype": "text/x-python",
      "name": "python",
      "nbconvert_exporter": "python",
      "pygments_lexer": "ipython3",
      "version": "3.7.4"
    },
    "colab": {
      "name": "Projeto-Classificacao.ipynb",
      "provenance": [],
      "include_colab_link": true
    }
  },
  "cells": [
    {
      "cell_type": "markdown",
      "metadata": {
        "id": "view-in-github",
        "colab_type": "text"
      },
      "source": [
        "<a href=\"https://colab.research.google.com/github/felipemoreia/Data-Science-com-Python---Awari/blob/master/Projeto_Classificacao.ipynb\" target=\"_parent\"><img src=\"https://colab.research.google.com/assets/colab-badge.svg\" alt=\"Open In Colab\"/></a>"
      ]
    },
    {
      "cell_type": "markdown",
      "metadata": {
        "id": "j_qWAXPnJX8z",
        "colab_type": "text"
      },
      "source": [
        "# Awari - Data Science\n",
        "\n",
        "## Projeto - Classificação\n",
        "\n",
        "## 1. Considerações iniciais\n",
        "\n",
        "Neste notebook vamos praticar a construção de um modelo de Machine Learning. Mais especificamente, iremos utilizar um algoritmo para realizar um processo de classificação. Propositalmente, evitaremos adentrar em algoritmos e explicações mais complexas, pois o foco é percorrer o fluxo do Aprendizado de Máquina por inteiro, ou o máximo dele.\n",
        "\n",
        "### 1.1. O Problema de Negócio\n",
        "\n",
        "A _churn rate_ (taxa de rotatividade ou cancelamento) é a porcentagem de assinantes de um serviço que interrompe suas assinaturas dentro de um determinado período de tempo. Para uma empresa expandir sua clientela, sua taxa de crescimento, medida pelo número de novos clientes, deve exceder sua taxa de cancelamento (_churn rate_).\n",
        "\n",
        "Portanto, neste projeto, um banco deseja que você construa um modelo de Machine Learning que possa prever a probabilidade de seus clientes atuais fecharem suas contas em um futuro próximo e, portanto, calcular sua _churn rate_.\n",
        "\n",
        "Esse é um problema de classificação no qual você classifica se um cliente irá sair (y=1) ou permanecer (y=0) com base diversos atributos.\n",
        "\n",
        "### 1.2. Descrição do dados\n",
        "\n",
        "No arquivo *Churn_Modelling.csv* você encontrará:\n",
        "- **RowNumber**: id do registro/linha.\n",
        "- **CustomerId**: identificador único do cliente.\n",
        "- **Surname**: sobrenome do cliente.\n",
        "- **CreditScore**: pontuação de crédito do cliente.\n",
        "- **Geography**: país de origem do cliente.\n",
        "- **Gender**: sexo do cliente.\n",
        "- **Age**: idade do cliente.\n",
        "- **Tenure**: número de anos em que o cliente está com o banco.\n",
        "- **Balance**: saldo bancário.\n",
        "- **NumOfProducts**: número de produtos que o cliente utiliza.\n",
        "- **HasCrCard**: indica se o cliente tem (1) ou não tem (0) cartão de crédito.\n",
        "- **IsActiveMember**: indica se o cliente é (1) ou não é (0) ativo no banco.\n",
        "- **EstimatedSalary**: salário estimado em dólares.\n",
        "- **Exited**: indica se o cliente encerrou (1) a conta no banco ou se o cliente foi retido (0).\n",
        "\n",
        "\n",
        "### 1.3 Métricas de Avaliação\n",
        "\n",
        "Avalie seu modelo utilizando as métricas Acurácia e AUC (area under the ROC) estudadas nos módulos anteriores.\n",
        "\n",
        "Trabalhe até conseguir uma acurácia acima e 85%.\n",
        "\n",
        "## 2. Etapas do Projeto\n",
        "\n",
        "Neste projeto você poderá seguir o fluxo que preferir, mas como sugestão pode seguir as seguintes etapas:\n",
        "1. Análise exploratória \n",
        "2. Preparação e limpeza dos dados\n",
        "3. Seleção de atributos\n",
        "4. Construção do modelo\n",
        "5. Avaliação do modelo\n",
        "6. Otimização do modelo\n",
        "\n",
        "Lembrando que esses passos, provavelmente, serão executados várias vezes até se obter um resultado satisfatório.\n",
        "\n",
        "Sugestões de modelos:\n",
        "* Logistic Regression Classification\n",
        "* K-Nearest Neighbour (KNN) Classification\n",
        "* Support Vector Machine (SVM) Classification\n",
        "* Naive Bayes Classification\n",
        "* Decision Tree Classification\n",
        "* Random Forest Classification\n",
        "\n",
        "Em caso de dúvidas, não esqueça de conversar com seu mentor."
      ]
    },
    {
      "cell_type": "markdown",
      "metadata": {
        "id": "eMEIOD4QJX80",
        "colab_type": "text"
      },
      "source": [
        "## 3. Desenvolvimento do Projeto"
      ]
    },
    {
      "cell_type": "code",
      "metadata": {
        "id": "sYWiZ9urJX81",
        "colab_type": "code",
        "colab": {}
      },
      "source": [
        "# seu código\n",
        "import pandas as pd \n",
        "import numpy as np\n",
        "import seaborn as sns\n",
        "clients = pd.read_csv('Churn_Modelling.csv', index_col='RowNumber')"
      ],
      "execution_count": 0,
      "outputs": []
    },
    {
      "cell_type": "code",
      "metadata": {
        "id": "4cZJm3WxJX85",
        "colab_type": "code",
        "colab": {},
        "outputId": "a7c1198e-919d-4b0c-cb44-91284fe21003"
      },
      "source": [
        "# seu código\n",
        "var_explicativas = ['CreditScore', 'Age', 'Tenure', 'Balance', 'NumOfProducts', 'HasCrCard', 'IsActiveMember', 'EstimatedSalary' ]\n",
        "var_naoexplicativas = ['CustomerId', 'Surname']\n",
        "clients.drop(var_naoexplicativas, axis=1, inplace=True)\n",
        "clients.head()"
      ],
      "execution_count": 0,
      "outputs": [
        {
          "output_type": "execute_result",
          "data": {
            "text/html": [
              "<div>\n",
              "<style scoped>\n",
              "    .dataframe tbody tr th:only-of-type {\n",
              "        vertical-align: middle;\n",
              "    }\n",
              "\n",
              "    .dataframe tbody tr th {\n",
              "        vertical-align: top;\n",
              "    }\n",
              "\n",
              "    .dataframe thead th {\n",
              "        text-align: right;\n",
              "    }\n",
              "</style>\n",
              "<table border=\"1\" class=\"dataframe\">\n",
              "  <thead>\n",
              "    <tr style=\"text-align: right;\">\n",
              "      <th></th>\n",
              "      <th>CreditScore</th>\n",
              "      <th>Geography</th>\n",
              "      <th>Gender</th>\n",
              "      <th>Age</th>\n",
              "      <th>Tenure</th>\n",
              "      <th>Balance</th>\n",
              "      <th>NumOfProducts</th>\n",
              "      <th>HasCrCard</th>\n",
              "      <th>IsActiveMember</th>\n",
              "      <th>EstimatedSalary</th>\n",
              "      <th>Exited</th>\n",
              "    </tr>\n",
              "    <tr>\n",
              "      <th>RowNumber</th>\n",
              "      <th></th>\n",
              "      <th></th>\n",
              "      <th></th>\n",
              "      <th></th>\n",
              "      <th></th>\n",
              "      <th></th>\n",
              "      <th></th>\n",
              "      <th></th>\n",
              "      <th></th>\n",
              "      <th></th>\n",
              "      <th></th>\n",
              "    </tr>\n",
              "  </thead>\n",
              "  <tbody>\n",
              "    <tr>\n",
              "      <td>1</td>\n",
              "      <td>619</td>\n",
              "      <td>France</td>\n",
              "      <td>Female</td>\n",
              "      <td>42</td>\n",
              "      <td>2</td>\n",
              "      <td>0.00</td>\n",
              "      <td>1</td>\n",
              "      <td>1</td>\n",
              "      <td>1</td>\n",
              "      <td>101348.88</td>\n",
              "      <td>1</td>\n",
              "    </tr>\n",
              "    <tr>\n",
              "      <td>2</td>\n",
              "      <td>608</td>\n",
              "      <td>Spain</td>\n",
              "      <td>Female</td>\n",
              "      <td>41</td>\n",
              "      <td>1</td>\n",
              "      <td>83807.86</td>\n",
              "      <td>1</td>\n",
              "      <td>0</td>\n",
              "      <td>1</td>\n",
              "      <td>112542.58</td>\n",
              "      <td>0</td>\n",
              "    </tr>\n",
              "    <tr>\n",
              "      <td>3</td>\n",
              "      <td>502</td>\n",
              "      <td>France</td>\n",
              "      <td>Female</td>\n",
              "      <td>42</td>\n",
              "      <td>8</td>\n",
              "      <td>159660.80</td>\n",
              "      <td>3</td>\n",
              "      <td>1</td>\n",
              "      <td>0</td>\n",
              "      <td>113931.57</td>\n",
              "      <td>1</td>\n",
              "    </tr>\n",
              "    <tr>\n",
              "      <td>4</td>\n",
              "      <td>699</td>\n",
              "      <td>France</td>\n",
              "      <td>Female</td>\n",
              "      <td>39</td>\n",
              "      <td>1</td>\n",
              "      <td>0.00</td>\n",
              "      <td>2</td>\n",
              "      <td>0</td>\n",
              "      <td>0</td>\n",
              "      <td>93826.63</td>\n",
              "      <td>0</td>\n",
              "    </tr>\n",
              "    <tr>\n",
              "      <td>5</td>\n",
              "      <td>850</td>\n",
              "      <td>Spain</td>\n",
              "      <td>Female</td>\n",
              "      <td>43</td>\n",
              "      <td>2</td>\n",
              "      <td>125510.82</td>\n",
              "      <td>1</td>\n",
              "      <td>1</td>\n",
              "      <td>1</td>\n",
              "      <td>79084.10</td>\n",
              "      <td>0</td>\n",
              "    </tr>\n",
              "  </tbody>\n",
              "</table>\n",
              "</div>"
            ],
            "text/plain": [
              "           CreditScore Geography  Gender  Age  Tenure    Balance  \\\n",
              "RowNumber                                                          \n",
              "1                  619    France  Female   42       2       0.00   \n",
              "2                  608     Spain  Female   41       1   83807.86   \n",
              "3                  502    France  Female   42       8  159660.80   \n",
              "4                  699    France  Female   39       1       0.00   \n",
              "5                  850     Spain  Female   43       2  125510.82   \n",
              "\n",
              "           NumOfProducts  HasCrCard  IsActiveMember  EstimatedSalary  Exited  \n",
              "RowNumber                                                                     \n",
              "1                      1          1               1        101348.88       1  \n",
              "2                      1          0               1        112542.58       0  \n",
              "3                      3          1               0        113931.57       1  \n",
              "4                      2          0               0         93826.63       0  \n",
              "5                      1          1               1         79084.10       0  "
            ]
          },
          "metadata": {
            "tags": []
          },
          "execution_count": 3
        }
      ]
    },
    {
      "cell_type": "markdown",
      "metadata": {
        "id": "pbqSEPLEJX88",
        "colab_type": "text"
      },
      "source": [
        "### Inicialmente escolhi 8 variaveis quantitativas que acredito podem especificar os clientes que mais se adequam ao perfil do banco. As variaveis Geography e Gender serão adicionadas caso o score do modelo não esteja satisfatório."
      ]
    },
    {
      "cell_type": "code",
      "metadata": {
        "id": "Cj-NnM8wJX88",
        "colab_type": "code",
        "colab": {},
        "outputId": "bb0d987d-c9f5-4b42-dacc-6bd0cf8fcbea"
      },
      "source": [
        "clients.shape"
      ],
      "execution_count": 0,
      "outputs": [
        {
          "output_type": "execute_result",
          "data": {
            "text/plain": [
              "(10000, 11)"
            ]
          },
          "metadata": {
            "tags": []
          },
          "execution_count": 4
        }
      ]
    },
    {
      "cell_type": "code",
      "metadata": {
        "id": "UjMFDP-zJX8-",
        "colab_type": "code",
        "colab": {},
        "outputId": "4b392ac3-8ffd-4d2e-ae8b-eaa24eb1e712"
      },
      "source": [
        "clients.info()"
      ],
      "execution_count": 0,
      "outputs": [
        {
          "output_type": "stream",
          "text": [
            "<class 'pandas.core.frame.DataFrame'>\n",
            "Int64Index: 10000 entries, 1 to 10000\n",
            "Data columns (total 11 columns):\n",
            "CreditScore        10000 non-null int64\n",
            "Geography          10000 non-null object\n",
            "Gender             10000 non-null object\n",
            "Age                10000 non-null int64\n",
            "Tenure             10000 non-null int64\n",
            "Balance            10000 non-null float64\n",
            "NumOfProducts      10000 non-null int64\n",
            "HasCrCard          10000 non-null int64\n",
            "IsActiveMember     10000 non-null int64\n",
            "EstimatedSalary    10000 non-null float64\n",
            "Exited             10000 non-null int64\n",
            "dtypes: float64(2), int64(7), object(2)\n",
            "memory usage: 937.5+ KB\n"
          ],
          "name": "stdout"
        }
      ]
    },
    {
      "cell_type": "markdown",
      "metadata": {
        "id": "57J1ySMlJX9B",
        "colab_type": "text"
      },
      "source": [
        "### O número de 10000 observações e nenhuma coluna com missings, me dá a possibilidade de utilizar diversos modelos de classificação. Além disso, pude observar que os dados são numéricos, tal qual pedem os modelos de Machine Learning."
      ]
    },
    {
      "cell_type": "code",
      "metadata": {
        "id": "BgIWQWWNJX9B",
        "colab_type": "code",
        "colab": {},
        "outputId": "664aa61e-08ef-4311-8328-b6337c08296e"
      },
      "source": [
        "clients['Exited'].value_counts()"
      ],
      "execution_count": 0,
      "outputs": [
        {
          "output_type": "execute_result",
          "data": {
            "text/plain": [
              "0    7963\n",
              "1    2037\n",
              "Name: Exited, dtype: int64"
            ]
          },
          "metadata": {
            "tags": []
          },
          "execution_count": 6
        }
      ]
    },
    {
      "cell_type": "markdown",
      "metadata": {
        "id": "dWwt-9GGJX9E",
        "colab_type": "text"
      },
      "source": [
        ""
      ]
    },
    {
      "cell_type": "code",
      "metadata": {
        "id": "kXtFInImJX9E",
        "colab_type": "code",
        "colab": {}
      },
      "source": [
        "from sklearn.linear_model import LogisticRegression\n",
        "from sklearn.metrics import accuracy_score, confusion_matrix, classification_report, roc_auc_score, roc_curve\n",
        "from sklearn.model_selection import train_test_split, cross_validate\n"
      ],
      "execution_count": 0,
      "outputs": []
    },
    {
      "cell_type": "code",
      "metadata": {
        "id": "ben7CGJzJX9H",
        "colab_type": "code",
        "colab": {}
      },
      "source": [
        "X = clients[var_explicativas]\n",
        "y= clients['Exited']"
      ],
      "execution_count": 0,
      "outputs": []
    },
    {
      "cell_type": "code",
      "metadata": {
        "id": "8OMCeQDyJX9K",
        "colab_type": "code",
        "colab": {},
        "outputId": "2b05dd5b-3b58-4966-9ce7-5675d397291f"
      },
      "source": [
        "##sns.pairplot()\n",
        "clients.corr()"
      ],
      "execution_count": 0,
      "outputs": [
        {
          "output_type": "execute_result",
          "data": {
            "text/html": [
              "<div>\n",
              "<style scoped>\n",
              "    .dataframe tbody tr th:only-of-type {\n",
              "        vertical-align: middle;\n",
              "    }\n",
              "\n",
              "    .dataframe tbody tr th {\n",
              "        vertical-align: top;\n",
              "    }\n",
              "\n",
              "    .dataframe thead th {\n",
              "        text-align: right;\n",
              "    }\n",
              "</style>\n",
              "<table border=\"1\" class=\"dataframe\">\n",
              "  <thead>\n",
              "    <tr style=\"text-align: right;\">\n",
              "      <th></th>\n",
              "      <th>CreditScore</th>\n",
              "      <th>Age</th>\n",
              "      <th>Tenure</th>\n",
              "      <th>Balance</th>\n",
              "      <th>NumOfProducts</th>\n",
              "      <th>HasCrCard</th>\n",
              "      <th>IsActiveMember</th>\n",
              "      <th>EstimatedSalary</th>\n",
              "      <th>Exited</th>\n",
              "    </tr>\n",
              "  </thead>\n",
              "  <tbody>\n",
              "    <tr>\n",
              "      <td>CreditScore</td>\n",
              "      <td>1.000000</td>\n",
              "      <td>-0.003965</td>\n",
              "      <td>0.000842</td>\n",
              "      <td>0.006268</td>\n",
              "      <td>0.012238</td>\n",
              "      <td>-0.005458</td>\n",
              "      <td>0.025651</td>\n",
              "      <td>-0.001384</td>\n",
              "      <td>-0.027094</td>\n",
              "    </tr>\n",
              "    <tr>\n",
              "      <td>Age</td>\n",
              "      <td>-0.003965</td>\n",
              "      <td>1.000000</td>\n",
              "      <td>-0.009997</td>\n",
              "      <td>0.028308</td>\n",
              "      <td>-0.030680</td>\n",
              "      <td>-0.011721</td>\n",
              "      <td>0.085472</td>\n",
              "      <td>-0.007201</td>\n",
              "      <td>0.285323</td>\n",
              "    </tr>\n",
              "    <tr>\n",
              "      <td>Tenure</td>\n",
              "      <td>0.000842</td>\n",
              "      <td>-0.009997</td>\n",
              "      <td>1.000000</td>\n",
              "      <td>-0.012254</td>\n",
              "      <td>0.013444</td>\n",
              "      <td>0.022583</td>\n",
              "      <td>-0.028362</td>\n",
              "      <td>0.007784</td>\n",
              "      <td>-0.014001</td>\n",
              "    </tr>\n",
              "    <tr>\n",
              "      <td>Balance</td>\n",
              "      <td>0.006268</td>\n",
              "      <td>0.028308</td>\n",
              "      <td>-0.012254</td>\n",
              "      <td>1.000000</td>\n",
              "      <td>-0.304180</td>\n",
              "      <td>-0.014858</td>\n",
              "      <td>-0.010084</td>\n",
              "      <td>0.012797</td>\n",
              "      <td>0.118533</td>\n",
              "    </tr>\n",
              "    <tr>\n",
              "      <td>NumOfProducts</td>\n",
              "      <td>0.012238</td>\n",
              "      <td>-0.030680</td>\n",
              "      <td>0.013444</td>\n",
              "      <td>-0.304180</td>\n",
              "      <td>1.000000</td>\n",
              "      <td>0.003183</td>\n",
              "      <td>0.009612</td>\n",
              "      <td>0.014204</td>\n",
              "      <td>-0.047820</td>\n",
              "    </tr>\n",
              "    <tr>\n",
              "      <td>HasCrCard</td>\n",
              "      <td>-0.005458</td>\n",
              "      <td>-0.011721</td>\n",
              "      <td>0.022583</td>\n",
              "      <td>-0.014858</td>\n",
              "      <td>0.003183</td>\n",
              "      <td>1.000000</td>\n",
              "      <td>-0.011866</td>\n",
              "      <td>-0.009933</td>\n",
              "      <td>-0.007138</td>\n",
              "    </tr>\n",
              "    <tr>\n",
              "      <td>IsActiveMember</td>\n",
              "      <td>0.025651</td>\n",
              "      <td>0.085472</td>\n",
              "      <td>-0.028362</td>\n",
              "      <td>-0.010084</td>\n",
              "      <td>0.009612</td>\n",
              "      <td>-0.011866</td>\n",
              "      <td>1.000000</td>\n",
              "      <td>-0.011421</td>\n",
              "      <td>-0.156128</td>\n",
              "    </tr>\n",
              "    <tr>\n",
              "      <td>EstimatedSalary</td>\n",
              "      <td>-0.001384</td>\n",
              "      <td>-0.007201</td>\n",
              "      <td>0.007784</td>\n",
              "      <td>0.012797</td>\n",
              "      <td>0.014204</td>\n",
              "      <td>-0.009933</td>\n",
              "      <td>-0.011421</td>\n",
              "      <td>1.000000</td>\n",
              "      <td>0.012097</td>\n",
              "    </tr>\n",
              "    <tr>\n",
              "      <td>Exited</td>\n",
              "      <td>-0.027094</td>\n",
              "      <td>0.285323</td>\n",
              "      <td>-0.014001</td>\n",
              "      <td>0.118533</td>\n",
              "      <td>-0.047820</td>\n",
              "      <td>-0.007138</td>\n",
              "      <td>-0.156128</td>\n",
              "      <td>0.012097</td>\n",
              "      <td>1.000000</td>\n",
              "    </tr>\n",
              "  </tbody>\n",
              "</table>\n",
              "</div>"
            ],
            "text/plain": [
              "                 CreditScore       Age    Tenure   Balance  NumOfProducts  \\\n",
              "CreditScore         1.000000 -0.003965  0.000842  0.006268       0.012238   \n",
              "Age                -0.003965  1.000000 -0.009997  0.028308      -0.030680   \n",
              "Tenure              0.000842 -0.009997  1.000000 -0.012254       0.013444   \n",
              "Balance             0.006268  0.028308 -0.012254  1.000000      -0.304180   \n",
              "NumOfProducts       0.012238 -0.030680  0.013444 -0.304180       1.000000   \n",
              "HasCrCard          -0.005458 -0.011721  0.022583 -0.014858       0.003183   \n",
              "IsActiveMember      0.025651  0.085472 -0.028362 -0.010084       0.009612   \n",
              "EstimatedSalary    -0.001384 -0.007201  0.007784  0.012797       0.014204   \n",
              "Exited             -0.027094  0.285323 -0.014001  0.118533      -0.047820   \n",
              "\n",
              "                 HasCrCard  IsActiveMember  EstimatedSalary    Exited  \n",
              "CreditScore      -0.005458        0.025651        -0.001384 -0.027094  \n",
              "Age              -0.011721        0.085472        -0.007201  0.285323  \n",
              "Tenure            0.022583       -0.028362         0.007784 -0.014001  \n",
              "Balance          -0.014858       -0.010084         0.012797  0.118533  \n",
              "NumOfProducts     0.003183        0.009612         0.014204 -0.047820  \n",
              "HasCrCard         1.000000       -0.011866        -0.009933 -0.007138  \n",
              "IsActiveMember   -0.011866        1.000000        -0.011421 -0.156128  \n",
              "EstimatedSalary  -0.009933       -0.011421         1.000000  0.012097  \n",
              "Exited           -0.007138       -0.156128         0.012097  1.000000  "
            ]
          },
          "metadata": {
            "tags": []
          },
          "execution_count": 9
        }
      ]
    },
    {
      "cell_type": "markdown",
      "metadata": {
        "id": "ocJNb6MpJX9M",
        "colab_type": "text"
      },
      "source": [
        "### nenhuma variavel parece explicar muitíssimo bem a nossa variável alvo, vejamos como elas se saem no modelo. "
      ]
    },
    {
      "cell_type": "code",
      "metadata": {
        "id": "QOQ-dp5IJX9M",
        "colab_type": "code",
        "colab": {},
        "outputId": "9b011f54-7007-4660-a5cf-a55b9a8135cc"
      },
      "source": [
        "X_train, X_test, y_train, y_test = train_test_split(X, y, test_size=0.3, random_state=42)\n",
        "clf_lr = LogisticRegression()\n",
        "clf_lr.fit(X_train, y_train)\n",
        "avaliacaorl = cross_validate(clf_lr, X, y, cv=5, scoring='accuracy')\n",
        "avaliacaorl['test_score'].mean()"
      ],
      "execution_count": 0,
      "outputs": [
        {
          "output_type": "execute_result",
          "data": {
            "text/plain": [
              "0.7907"
            ]
          },
          "metadata": {
            "tags": []
          },
          "execution_count": 64
        }
      ]
    },
    {
      "cell_type": "code",
      "metadata": {
        "id": "0NJURT58JX9O",
        "colab_type": "code",
        "colab": {},
        "outputId": "8162a609-3117-4ba3-babc-9303bd2547b6"
      },
      "source": [
        "predit_test = clf_lr.predict(X_test)\n",
        "print(accuracy_score(y_test,predit_test))\n",
        "print(classification_report(y_test, predit_test))"
      ],
      "execution_count": 0,
      "outputs": [
        {
          "output_type": "stream",
          "text": [
            "0.8006666666666666\n",
            "              precision    recall  f1-score   support\n",
            "\n",
            "           0       0.81      0.97      0.89      2416\n",
            "           1       0.44      0.08      0.14       584\n",
            "\n",
            "    accuracy                           0.80      3000\n",
            "   macro avg       0.63      0.53      0.51      3000\n",
            "weighted avg       0.74      0.80      0.74      3000\n",
            "\n"
          ],
          "name": "stdout"
        }
      ]
    },
    {
      "cell_type": "markdown",
      "metadata": {
        "id": "8w7tvinqJX9Q",
        "colab_type": "text"
      },
      "source": [
        "Testaremos agora outros modelos para ver se algum deles se sai melhor e bate nosso baseline."
      ]
    },
    {
      "cell_type": "code",
      "metadata": {
        "id": "f8spcB00JX9R",
        "colab_type": "code",
        "colab": {}
      },
      "source": [
        "from sklearn.tree import DecisionTreeClassifier\n",
        "modelo_arvore = DecisionTreeClassifier()"
      ],
      "execution_count": 0,
      "outputs": []
    },
    {
      "cell_type": "code",
      "metadata": {
        "id": "qKH17tLAJX9T",
        "colab_type": "code",
        "colab": {}
      },
      "source": [
        "modelo_arvore.fit(X_train, y_train)\n",
        "avaliacaodt = cross_validate(modelo_arvore, X, y, cv=5, scoring='accuracy')\n",
        "print(avaliacaodt['test_score'].mean())\n",
        "pred_arvore = modelo_arvore.predict(X_test)\n",
        "print(accuracy_score(y_test,pred_arvore))\n",
        "print(classification_report(y_test2, pred_arvore))"
      ],
      "execution_count": 0,
      "outputs": []
    },
    {
      "cell_type": "code",
      "metadata": {
        "id": "Hlz_TCdCJX9V",
        "colab_type": "code",
        "colab": {},
        "outputId": "e526e44e-cb0a-4f89-ff14-c46e87b6b8d9"
      },
      "source": [
        "from sklearn.neighbors import KNeighborsClassifier\n",
        "knn = KNeighborsClassifier(n_neighbors=2)\n",
        "knn.fit(X_train, y_train)\n",
        "avaliacaoknn = cross_validate(knn, X, y, cv=5, scoring='accuracy')\n",
        "print(avaliacaoknn['test_score'].mean())\n",
        "pred_knn = knn.predict(X_test)\n",
        "print(accuracy_score(y_test,pred_knn))\n",
        "print(classification_report(y_test, pred_knn))"
      ],
      "execution_count": 0,
      "outputs": [
        {
          "output_type": "stream",
          "text": [
            "0.7724\n",
            "0.781\n",
            "              precision    recall  f1-score   support\n",
            "\n",
            "           0       0.81      0.96      0.88      2416\n",
            "           1       0.23      0.05      0.09       584\n",
            "\n",
            "    accuracy                           0.78      3000\n",
            "   macro avg       0.52      0.51      0.48      3000\n",
            "weighted avg       0.70      0.78      0.72      3000\n",
            "\n"
          ],
          "name": "stdout"
        }
      ]
    },
    {
      "cell_type": "markdown",
      "metadata": {
        "id": "hl94ajW7JX9Y",
        "colab_type": "text"
      },
      "source": [
        "### Apesar de todos terem se saído bem, nenhum deles bateu o baseline. Passaremos agora a utilizar as variáveis qualitativas para verificar se eles se adaptam melhor com essas informações e batem o nosso baseline."
      ]
    },
    {
      "cell_type": "code",
      "metadata": {
        "id": "OBEkvATVJX9Y",
        "colab_type": "code",
        "colab": {}
      },
      "source": [
        "from sklearn.dummy import DummyClassifier"
      ],
      "execution_count": 0,
      "outputs": []
    },
    {
      "cell_type": "code",
      "metadata": {
        "id": "ntZsavsKJX9b",
        "colab_type": "code",
        "colab": {}
      },
      "source": [
        "clients_new = clients\n",
        "clients_new = pd.get_dummies(clients_new)"
      ],
      "execution_count": 0,
      "outputs": []
    },
    {
      "cell_type": "code",
      "metadata": {
        "id": "xUoZbodLJX9d",
        "colab_type": "code",
        "colab": {}
      },
      "source": [
        "var_explicativas2 = ['CreditScore', 'Age', 'Tenure', 'Balance', 'NumOfProducts', 'HasCrCard',\n",
        "       'IsActiveMember', 'EstimatedSalary',\n",
        "       'Geography_France', 'Geography_Germany', 'Geography_Spain',\n",
        "       'Gender_Female', 'Gender_Male']"
      ],
      "execution_count": 0,
      "outputs": []
    },
    {
      "cell_type": "code",
      "metadata": {
        "id": "bYd0COVeJX9f",
        "colab_type": "code",
        "colab": {}
      },
      "source": [
        "X2 = clients_new[var_explicativas2]\n",
        "y2 = clients_new ['Exited']"
      ],
      "execution_count": 0,
      "outputs": []
    },
    {
      "cell_type": "code",
      "metadata": {
        "id": "xbQrTSH4JX9h",
        "colab_type": "code",
        "colab": {},
        "outputId": "b531c706-05f9-4a65-9a8d-13854e3203ae"
      },
      "source": [
        "X_train2, X_test2, y_train2, y_test2 = train_test_split(X2, y2, test_size=0.3, random_state=42)\n",
        "clf_lr = LogisticRegression()\n",
        "clf_lr.fit(X_train2, y_train2)\n",
        "avaliacaorl2 = cross_validate(clf_lr, X2, y2, cv=5, scoring='accuracy')\n",
        "print(avaliacaorl2['test_score'].mean())\n",
        "predit_test2 = clf_lr.predict(X_test2)\n",
        "print(accuracy_score(y_test2,predit_test2))\n",
        "print(classification_report(y_test2, predit_test2))"
      ],
      "execution_count": 0,
      "outputs": [
        {
          "output_type": "stream",
          "text": [
            "0.7903\n",
            "0.8006666666666666\n",
            "              precision    recall  f1-score   support\n",
            "\n",
            "           0       0.81      0.97      0.89      2416\n",
            "           1       0.44      0.08      0.14       584\n",
            "\n",
            "    accuracy                           0.80      3000\n",
            "   macro avg       0.63      0.53      0.51      3000\n",
            "weighted avg       0.74      0.80      0.74      3000\n",
            "\n"
          ],
          "name": "stdout"
        }
      ]
    },
    {
      "cell_type": "code",
      "metadata": {
        "id": "OE6hrfWdJX9j",
        "colab_type": "code",
        "colab": {},
        "outputId": "674233dc-894d-4505-f65f-b8c59a768638"
      },
      "source": [
        "modelo_arvore.fit(X_train2, y_train2)\n",
        "pred_arvore2 = modelo_arvore.predict(X_test2)\n",
        "avaliacaodt2 = cross_validate(modelo_arvore, X, y, cv=5, scoring='accuracy')\n",
        "print(avaliacaodt2['test_score'].mean())\n",
        "print(accuracy_score(y_test2,pred_arvore2))\n",
        "print(classification_report(y_test2, pred_arvore2))"
      ],
      "execution_count": 0,
      "outputs": [
        {
          "output_type": "stream",
          "text": [
            "0.7840999999999999\n",
            "0.806\n",
            "              precision    recall  f1-score   support\n",
            "\n",
            "           0       0.88      0.87      0.88      2416\n",
            "           1       0.50      0.53      0.51       584\n",
            "\n",
            "    accuracy                           0.81      3000\n",
            "   macro avg       0.69      0.70      0.70      3000\n",
            "weighted avg       0.81      0.81      0.81      3000\n",
            "\n"
          ],
          "name": "stdout"
        }
      ]
    },
    {
      "cell_type": "code",
      "metadata": {
        "id": "gWG3jF3qJX9k",
        "colab_type": "code",
        "colab": {},
        "outputId": "c323d716-efc0-4a0b-8918-40875f6b4561"
      },
      "source": [
        "knn = KNeighborsClassifier(n_neighbors=2)\n",
        "knn.fit(X_train2, y_train2)\n",
        "avaliacaoknn2 = cross_validate(knn, X, y, cv=5, scoring='accuracy')\n",
        "print(avaliacaoknn2['test_score'].mean())\n",
        "pred_knn2 = knn.predict(X_test2)\n",
        "print(accuracy_score(y_test2,pred_knn2))\n",
        "print(classification_report(y_test2, pred_knn2))"
      ],
      "execution_count": 0,
      "outputs": [
        {
          "output_type": "stream",
          "text": [
            "0.7724\n",
            "0.781\n",
            "              precision    recall  f1-score   support\n",
            "\n",
            "           0       0.81      0.96      0.88      2416\n",
            "           1       0.23      0.05      0.09       584\n",
            "\n",
            "    accuracy                           0.78      3000\n",
            "   macro avg       0.52      0.51      0.48      3000\n",
            "weighted avg       0.70      0.78      0.72      3000\n",
            "\n"
          ],
          "name": "stdout"
        }
      ]
    },
    {
      "cell_type": "markdown",
      "metadata": {
        "id": "Sxwl6bFqJX9n",
        "colab_type": "text"
      },
      "source": [
        "### Observamos que a inclusão de novas variáveis não afetou em nada a nossa Regressão Logística, ou o Knn. Mas que o modelo de Árvore teve um alto ganho de performance, batendo o baseline. Nesse caso, seguiremos com ele utilizando uma camada decisora sobre árvores aleatórias. "
      ]
    },
    {
      "cell_type": "code",
      "metadata": {
        "id": "ojxEuFq2JX9n",
        "colab_type": "code",
        "colab": {}
      },
      "source": [
        "from sklearn.ensemble import RandomForestClassifier\n",
        "rf = RandomForestClassifier(random_state=42)"
      ],
      "execution_count": 0,
      "outputs": []
    },
    {
      "cell_type": "code",
      "metadata": {
        "id": "xFj56oIGJX9p",
        "colab_type": "code",
        "colab": {},
        "outputId": "e31308e8-ce64-42b2-99de-7fd0cd53ace9"
      },
      "source": [
        "rf.fit(X_train2, y_train2)\n",
        "avaliacaorf = cross_validate(rf, X2, y2, cv=5, scoring='accuracy')\n",
        "print(avaliacaorf['test_score'].mean())\n",
        "pred_arvore3 = rf.predict(X_test2)\n",
        "print(accuracy_score(y_test2,pred_arvore3))\n",
        "print(classification_report(y_test2, pred_arvore3))\n",
        "print(roc_auc_score(y_test2, pred_arvore3))"
      ],
      "execution_count": 0,
      "outputs": [
        {
          "output_type": "stream",
          "text": [
            "0.8629\n",
            "0.867\n",
            "              precision    recall  f1-score   support\n",
            "\n",
            "           0       0.88      0.96      0.92      2416\n",
            "           1       0.76      0.47      0.58       584\n",
            "\n",
            "    accuracy                           0.87      3000\n",
            "   macro avg       0.82      0.72      0.75      3000\n",
            "weighted avg       0.86      0.87      0.85      3000\n",
            "\n",
            "0.7155209561825274\n"
          ],
          "name": "stdout"
        }
      ]
    },
    {
      "cell_type": "markdown",
      "metadata": {
        "id": "Mimh0s_4JX9r",
        "colab_type": "text"
      },
      "source": [
        "## 4. Conclusão\n",
        "O fluxo de trabalho de Aprendizado de Máquina não termina após avaliação de performance do modelo escolhido. Na verdade, esta seria somente a primeira iteração de um processo que pode ter dezenas de tentativas.\n",
        "\n",
        "Encorajamos você a repetir novamente o processo descrito neste notebook. Contudo, explorando novas possibilidades para verificar a melhora/piora da performance do seu modelo. Você pode remover variáveis/atributos menos importantes, normalizar variáveis importantes, escolher outros algoritmos de aprendizagem supervisionada, etc. O Aprendizado de Máquina é uma área interessante justamente por causa disto. Você testa, você erra, você recomeça."
      ]
    },
    {
      "cell_type": "markdown",
      "metadata": {
        "id": "bFGQZDCLJX9s",
        "colab_type": "text"
      },
      "source": [
        "### Awari -  <a href=\"https://awari.com.br/\"> awari.com.br</a>"
      ]
    },
    {
      "cell_type": "code",
      "metadata": {
        "id": "CS4F7oRKJX9s",
        "colab_type": "code",
        "colab": {}
      },
      "source": [
        ""
      ],
      "execution_count": 0,
      "outputs": []
    }
  ]
}