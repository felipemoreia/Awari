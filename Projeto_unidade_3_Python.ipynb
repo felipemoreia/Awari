{
  "nbformat": 4,
  "nbformat_minor": 0,
  "metadata": {
    "anaconda-cloud": {},
    "kernelspec": {
      "display_name": "Python 3",
      "language": "python",
      "name": "python3"
    },
    "language_info": {
      "codemirror_mode": {
        "name": "ipython",
        "version": 3
      },
      "file_extension": ".py",
      "mimetype": "text/x-python",
      "name": "python",
      "nbconvert_exporter": "python",
      "pygments_lexer": "ipython3",
      "version": "3.7.4"
    },
    "colab": {
      "name": "Projeto_unidade_3_Python.ipynb",
      "provenance": [],
      "include_colab_link": true
    }
  },
  "cells": [
    {
      "cell_type": "markdown",
      "metadata": {
        "id": "view-in-github",
        "colab_type": "text"
      },
      "source": [
        "<a href=\"https://colab.research.google.com/github/felipemoreia/Awari/blob/master/Projeto_unidade_3_Python.ipynb\" target=\"_parent\"><img src=\"https://colab.research.google.com/assets/colab-badge.svg\" alt=\"Open In Colab\"/></a>"
      ]
    },
    {
      "cell_type": "markdown",
      "metadata": {
        "id": "sWT44R7zdHA9",
        "colab_type": "text"
      },
      "source": [
        "# Awari - Data Science\n",
        "\n",
        "## Exercícios Unidade 3"
      ]
    },
    {
      "cell_type": "markdown",
      "metadata": {
        "id": "B8HZ6tdddHBB",
        "colab_type": "text"
      },
      "source": [
        "Neste Jupyter notebook você irá resolver uma série de desafios utilizando a linguagem Python.\n",
        "\n",
        "O objetivo destes exercícios é você aplicar os principais conceitos que você aprendeu na unidade 3.\n",
        "Todo o seu código deve ser executado neste Jupyter Notebook. Por fim, se desejar, revise as respostas com o seu mentor."
      ]
    },
    {
      "cell_type": "markdown",
      "metadata": {
        "id": "8yjVTUxadHBD",
        "colab_type": "text"
      },
      "source": [
        "### Exemplo de desafio\n",
        "\n",
        "Escreva um programa em Python para encontrar os números que são divisíveis por 7 e múltiplos de 5, entre 1500 e 2700 (ambos incluídos).\n"
      ]
    },
    {
      "cell_type": "code",
      "metadata": {
        "id": "Bm2oLsKsdHBF",
        "colab_type": "code",
        "outputId": "2e6394f6-90c8-4c44-82cd-bd18f1547c2b",
        "colab": {}
      },
      "source": [
        "# Solução\n",
        "nl=[]\n",
        "for x in range(1500, 2701):\n",
        "    if (x%7==0) and (x%5==0):\n",
        "        nl.append(str(x))\n",
        "        \n",
        "print (','.join(nl))"
      ],
      "execution_count": 0,
      "outputs": [
        {
          "output_type": "stream",
          "text": [
            "1505,1540,1575,1610,1645,1680,1715,1750,1785,1820,1855,1890,1925,1960,1995,2030,2065,2100,2135,2170,2205,2240,2275,2310,2345,2380,2415,2450,2485,2520,2555,2590,2625,2660,2695\n"
          ],
          "name": "stdout"
        }
      ]
    },
    {
      "cell_type": "markdown",
      "metadata": {
        "id": "nFpuR358dHBV",
        "colab_type": "text"
      },
      "source": [
        "### Desafio 1\n",
        "\n",
        "Escreva um programa em Python para contabilizar a quantidade de ocorrências de cada palavra."
      ]
    },
    {
      "cell_type": "code",
      "metadata": {
        "id": "gsO7RL-fdHBW",
        "colab_type": "code",
        "outputId": "aafcc5ca-50ff-4f8b-f883-015ad1ee3392",
        "colab": {}
      },
      "source": [
        "palavras = [\n",
        "   'red', 'green', 'black', 'pink', 'black', 'white', 'black', 'eyes',\n",
        "   'white', 'black', 'orange', 'pink', 'pink', 'red', 'red', 'white', 'orange',\n",
        "   'white', \"black\", 'pink', 'green', 'green', 'pink', 'green', 'pink',\n",
        "   'white', 'orange', \"orange\", 'red'\n",
        "]\n",
        "\n",
        "\n",
        "# Seu código\n",
        "Unique = []\n",
        "for x in palavras:\n",
        "    if x not in Unique:\n",
        "        Unique.append(x)\n",
        "for y in Unique:\n",
        "    print(\"A palavra\", y, \"aparece \", palavras.count(y), \"vezes\")"
      ],
      "execution_count": 0,
      "outputs": [
        {
          "output_type": "stream",
          "text": [
            "A palavra red aparece  4 vezes\n",
            "A palavra green aparece  4 vezes\n",
            "A palavra black aparece  5 vezes\n",
            "A palavra pink aparece  6 vezes\n",
            "A palavra white aparece  5 vezes\n",
            "A palavra eyes aparece  1 vezes\n",
            "A palavra orange aparece  4 vezes\n"
          ],
          "name": "stdout"
        }
      ]
    },
    {
      "cell_type": "markdown",
      "metadata": {
        "id": "R-4sgRXSdHBg",
        "colab_type": "text"
      },
      "source": [
        "### Desafio 2\n",
        "\n",
        "Escreva uma função que recebe um número inteiro de horas e a converte em segundos.\n",
        "\n",
        "Exemplo:\n",
        "\n",
        "convert(5) ➞ 18000\n",
        "\n",
        "convert(3) ➞ 10800\n",
        "\n",
        "convert(2) ➞ 7200"
      ]
    },
    {
      "cell_type": "code",
      "metadata": {
        "id": "SwKs1i3ndHBi",
        "colab_type": "code",
        "outputId": "811dda10-7165-40f3-f13e-12c070fbb6f1",
        "colab": {}
      },
      "source": [
        "def convert_to_sec(number):\n",
        "    if number == 1:\n",
        "        return print(number, \"hora possui um total de\",(int(number)*3600), \"segundos.\")\n",
        "    else:\n",
        "        return print(number, \"horas possuem um total de\",(int(number)*3600), \"segundos.\")\n",
        "\n",
        "convert_to_sec(1)"
      ],
      "execution_count": 0,
      "outputs": [
        {
          "output_type": "stream",
          "text": [
            "1 hora possui um total de 3600 segundos.\n"
          ],
          "name": "stdout"
        }
      ]
    },
    {
      "cell_type": "markdown",
      "metadata": {
        "id": "D8IIdjeidHBr",
        "colab_type": "text"
      },
      "source": [
        "### Desafio 3\n",
        "\n",
        "Escreva uma função que receba uma lista e retorne uma nova lista ordenada e sem valores duplicados.\n"
      ]
    },
    {
      "cell_type": "code",
      "metadata": {
        "id": "cbj_huvQdHBt",
        "colab_type": "code",
        "outputId": "3ad6ce0f-13d6-4dd8-ac0e-ee5536fa41d6",
        "colab": {}
      },
      "source": [
        "lista = [1,2,3,4,3,30,3,4,5,6,9,3,2,1,2,4,5,15,6,6,3,13,4,45,5]\n",
        "\n",
        "def limpalista(umalista):\n",
        "    if type(umalista)==list:\n",
        "        valunicos = []\n",
        "        for y in umalista:\n",
        "            if y not in valunicos:\n",
        "                valunicos.append(y)\n",
        "        return print(sorted(valunicos))\n",
        "    else:\n",
        "        return print(\"O parametro informado não é uma lista, por favor informe uma lista dentro da função limpalista\")\n",
        "limpalista(lista)\n",
        "    "
      ],
      "execution_count": 0,
      "outputs": [
        {
          "output_type": "stream",
          "text": [
            "[1, 2, 3, 4, 5, 6, 9, 13, 15, 30, 45]\n"
          ],
          "name": "stdout"
        }
      ]
    },
    {
      "cell_type": "markdown",
      "metadata": {
        "id": "qclbj2rtdHB3",
        "colab_type": "text"
      },
      "source": [
        "### Desafio 4\n",
        "\n",
        "Escreva uma função que receba uma string como parâmetro e retorne outra string com as palavras em ordem inversa.\n",
        "\n",
        "Exemplo:\n",
        "\n",
        "inverte_texto(\"Python é legal\") ➞ \"legal é Python\""
      ]
    },
    {
      "cell_type": "code",
      "metadata": {
        "id": "IlmnPCTfdHB5",
        "colab_type": "code",
        "outputId": "038a9e18-23fb-4038-eaf7-8a3ab220ccad",
        "colab": {}
      },
      "source": [
        "# Seu código\n",
        "def invertetexto(texto):\n",
        "    if type(texto) is str:\n",
        "        textodividido = texto.split()\n",
        "        count = len(textodividido) \n",
        "        for y in range(0,len(textodividido)):\n",
        "            print(textodividido[count-1], end=\" \")\n",
        "            count = count - 1\n",
        "    else:\n",
        "        print(\"O valor fornecido na função invertetexto não é um texto, por favor informe um texto como parametro da função.\")\n",
        "                "
      ],
      "execution_count": 0,
      "outputs": [
        {
          "output_type": "stream",
          "text": [
            "coisa qualquer "
          ],
          "name": "stdout"
        }
      ]
    },
    {
      "cell_type": "markdown",
      "metadata": {
        "id": "WhOZXEETdHCB",
        "colab_type": "text"
      },
      "source": [
        "### Desafio 5\n",
        "\n",
        "Dado um arquivo .txt que possui uma lista de nomes, conte quantos nomes existem no arquivo e imprima os resultados. O arquivo TXT está localizado na mesma pasta do projeto (nameslist.txt)."
      ]
    },
    {
      "cell_type": "code",
      "metadata": {
        "id": "LCVv-AsJdHCD",
        "colab_type": "code",
        "outputId": "4436b36d-fa40-4e1a-cf6f-3a8c60e72c1e",
        "colab": {}
      },
      "source": [
        "arquivo = open('nameslist.txt', 'r')\n",
        "Lista = arquivo.readlines()\n",
        "ValUnicos = []\n",
        "for x in Lista:\n",
        "    if x not in ValUnicos:\n",
        "        ValUnicos.append(x)\n",
        "print(\"A lista contém\", len(ValUnicos), \"nomes, e eles são\", ValUnicos)"
      ],
      "execution_count": 0,
      "outputs": [
        {
          "output_type": "stream",
          "text": [
            "A lista contém 4 nomes, e eles são ['Darth\\n', 'Luke\\n', 'Lea\\n', 'Darth']\n"
          ],
          "name": "stdout"
        }
      ]
    },
    {
      "cell_type": "markdown",
      "metadata": {
        "id": "NXjHGO3ddHCK",
        "colab_type": "text"
      },
      "source": [
        "### Desafio 6\n",
        "\n",
        "Crie uma função que receba duas listas e retorne uma lista que contenha apenas os elementos comuns entre as listas (sem repetição). A função deve suportar lista de tamanhos diferentes.\n",
        "\n",
        "listas:\n",
        "\n",
        "a = [1, 1, 2, 3, 5, 8, 13, 21, 34, 55, 89]\n",
        " \n",
        "b = [1, 2, 3, 4, 5, 6, 7, 8, 9, 10, 11, 12, 13]\n"
      ]
    },
    {
      "cell_type": "code",
      "metadata": {
        "id": "uD2x8OLmdHCL",
        "colab_type": "code",
        "outputId": "76b718a4-bb33-40ee-bf8f-9ba3a92c2188",
        "colab": {}
      },
      "source": [
        "def intersecta(li, ta):\n",
        "    if type(li) is list and type(ta) is list:\n",
        "        valunico1 = []\n",
        "        valunico2 = []\n",
        "        intersec = []\n",
        "        for n in li:\n",
        "            if n not in valunico1:\n",
        "                valunico1.append(n)\n",
        "        for v in ta:\n",
        "            if v not in valunico2:\n",
        "                valunico2.append(v)\n",
        "        for c in valunico1:\n",
        "            if c in valunico2:\n",
        "                intersec.append(c)\n",
        "        return print(sorted(intersec) ,\"é a lista de elementos comuns das listas passadas.\")\n",
        "    else:\n",
        "        return print(\"Algum dos elementos passados como parametro não é uma lista, por favor informe duas listas como parametros da função.\")\n",
        "\n"
      ],
      "execution_count": 0,
      "outputs": [
        {
          "output_type": "stream",
          "text": [
            "Algum dos elementos passados não é uma lista, por favor informe duas listas como parametros da função\n"
          ],
          "name": "stdout"
        }
      ]
    },
    {
      "cell_type": "markdown",
      "metadata": {
        "id": "8Efieu3OdHCP",
        "colab_type": "text"
      },
      "source": [
        "### Desafio 7\n",
        "\n",
        "Escreva um programa Python para converter um número romano em um número inteiro.\n"
      ]
    },
    {
      "cell_type": "code",
      "metadata": {
        "id": "ijw47XaXdHCQ",
        "colab_type": "code",
        "outputId": "461d4573-16e9-4659-d0ca-a538f0f5bd87",
        "colab": {}
      },
      "source": [
        "def convertRoman (roman):\n",
        "    numint = 0\n",
        "    valido = True\n",
        "    for r in roman:\n",
        "        if r not in 'IVXLCDM':\n",
        "            print('{} não é um número romano, por favor informe um número romano válido'.format(r))\n",
        "            valido = False\n",
        "            break\n",
        "        elif r == 'I':\n",
        "            numint += 1\n",
        "        elif r == 'V':\n",
        "            numint += 5\n",
        "        elif r == 'X':\n",
        "            numint += 10\n",
        "        elif r == 'X':\n",
        "            numint += 50\n",
        "        elif r == 'C':\n",
        "            numint += 100\n",
        "        elif r == 'D':\n",
        "            numint += 500\n",
        "        elif r == 'M':\n",
        "            numint += 1000\n",
        "    if valido:\n",
        "        if 'IV' in roman:\n",
        "            numint -= 2\n",
        "        if 'IX' in roman:\n",
        "            numint -= 2\n",
        "        if 'XL' in roman:\n",
        "            numint -= 20\n",
        "        if 'XC' in roman:\n",
        "            numint -= 20\n",
        "        if 'CD' in roman:\n",
        "            numint -= 200\n",
        "        if 'CM' in roman:\n",
        "            numint -= 200\n",
        "        return print(\"o número romando digitado corresponde a\", numint)\n",
        "            \n",
        "roman = str(input(\"insira um número romano que você queira ter convertido:\")).upper()\n",
        "convertRoman(roman)\n"
      ],
      "execution_count": 0,
      "outputs": [
        {
          "output_type": "stream",
          "text": [
            "insira um número romano que você queira ter convertido:m\n",
            "o número romando digitado corresponde a 1000\n"
          ],
          "name": "stdout"
        }
      ]
    },
    {
      "cell_type": "markdown",
      "metadata": {
        "id": "cq5-HifMdHCU",
        "colab_type": "text"
      },
      "source": [
        "### Desafio 8\n",
        "\n",
        "Escreva um script Python para encontrar as 10 palavras mais longas em um arquivo.\n",
        "\n",
        "O arquivo TXT está localizado na mesma pasta do projeto (texto.txt)."
      ]
    },
    {
      "cell_type": "code",
      "metadata": {
        "id": "CCVJexPbdHCV",
        "colab_type": "code",
        "outputId": "cb8d433a-bcd7-4106-c779-7c1bfe71f82e",
        "colab": {
          "base_uri": "https://localhost:8080/",
          "height": 229
        }
      },
      "source": [
        "Arquivo2 = open(\"texto.txt\",\"r\")\n",
        "Lista2 = Arquivo2.readlines()\n",
        "Listapal=[]\n",
        "DicLen = {}\n",
        "Maiores = []\n",
        "for frase in Lista2:\n",
        "    Listapal.append(frase.split())\n",
        "for x in range (0,len(Listapal)):\n",
        "        for y in Listapal[x]:\n",
        "            DicLen[y] = len(y)\n",
        "        \n",
        "SortedDicLen = sorted(DicLen.values())\n",
        "SortedDicLen.reverse()\n",
        "for z in DicLen:\n",
        "    if DicLen[z]>= SortedDicLen[10]:\n",
        "        Maiores.append(z)\n",
        "        \n",
        "print(Maiores[:10])"
      ],
      "execution_count": 0,
      "outputs": [
        {
          "output_type": "error",
          "ename": "FileNotFoundError",
          "evalue": "ignored",
          "traceback": [
            "\u001b[0;31m---------------------------------------------------------------------------\u001b[0m",
            "\u001b[0;31mFileNotFoundError\u001b[0m                         Traceback (most recent call last)",
            "\u001b[0;32m<ipython-input-1-d6c572c8a0b5>\u001b[0m in \u001b[0;36m<module>\u001b[0;34m()\u001b[0m\n\u001b[0;32m----> 1\u001b[0;31m \u001b[0mArquivo2\u001b[0m \u001b[0;34m=\u001b[0m \u001b[0mopen\u001b[0m\u001b[0;34m(\u001b[0m\u001b[0;34m\"texto.txt\"\u001b[0m\u001b[0;34m,\u001b[0m\u001b[0;34m\"r\"\u001b[0m\u001b[0;34m)\u001b[0m\u001b[0;34m\u001b[0m\u001b[0;34m\u001b[0m\u001b[0m\n\u001b[0m\u001b[1;32m      2\u001b[0m \u001b[0mLista2\u001b[0m \u001b[0;34m=\u001b[0m \u001b[0mArquivo2\u001b[0m\u001b[0;34m.\u001b[0m\u001b[0mreadlines\u001b[0m\u001b[0;34m(\u001b[0m\u001b[0;34m)\u001b[0m\u001b[0;34m\u001b[0m\u001b[0;34m\u001b[0m\u001b[0m\n\u001b[1;32m      3\u001b[0m \u001b[0mListapal\u001b[0m\u001b[0;34m=\u001b[0m\u001b[0;34m[\u001b[0m\u001b[0;34m]\u001b[0m\u001b[0;34m\u001b[0m\u001b[0;34m\u001b[0m\u001b[0m\n\u001b[1;32m      4\u001b[0m \u001b[0mDicLen\u001b[0m \u001b[0;34m=\u001b[0m \u001b[0;34m{\u001b[0m\u001b[0;34m}\u001b[0m\u001b[0;34m\u001b[0m\u001b[0;34m\u001b[0m\u001b[0m\n\u001b[1;32m      5\u001b[0m \u001b[0mMaiores\u001b[0m \u001b[0;34m=\u001b[0m \u001b[0;34m[\u001b[0m\u001b[0;34m]\u001b[0m\u001b[0;34m\u001b[0m\u001b[0;34m\u001b[0m\u001b[0m\n",
            "\u001b[0;31mFileNotFoundError\u001b[0m: [Errno 2] No such file or directory: 'texto.txt'"
          ]
        }
      ]
    },
    {
      "cell_type": "markdown",
      "metadata": {
        "id": "QYfIaMjydHCa",
        "colab_type": "text"
      },
      "source": [
        "### Desafio 9\n",
        "\n",
        "Escreva uma função que retorne a soma dos múltiplos de 3 e 5 entre 0 e um número limite (parâmetro). Por exemplo, se o limite for 20, ele retornará a soma de 3, 5, 6, 9, 10, 12, 15, 18, 20."
      ]
    },
    {
      "cell_type": "code",
      "metadata": {
        "id": "6gbyJfuXdHCa",
        "colab_type": "code",
        "outputId": "3019afbe-2b0d-4bfa-cc06-7d0dbc199806",
        "colab": {}
      },
      "source": [
        "def somaMult(limite):\n",
        "    soma = 0\n",
        "    for x in range(0, int(limite+1)):\n",
        "        if x%3==0 or x%5==0:\n",
        "            soma += x\n",
        "    return print(soma)\n",
        "\n"
      ],
      "execution_count": 0,
      "outputs": [
        {
          "output_type": "stream",
          "text": [
            "98\n"
          ],
          "name": "stdout"
        }
      ]
    },
    {
      "cell_type": "markdown",
      "metadata": {
        "id": "tlbdqkP0dHCe",
        "colab_type": "text"
      },
      "source": [
        "### Desafio 10\n",
        "\n",
        "Dada uma lista, divida-a em 3 partes iguais e reverta cada lista.\n",
        "\n",
        "Exemplo: \n",
        "\n",
        "sampleList = [11, 45, 8, 23, 14, 12, 78, 45, 89]\n",
        "\n",
        "Parte 1 [8, 45, 11]\n",
        "\n",
        "Parte 2 [12, 14, 23]\n",
        "\n",
        "Parte 3 [89, 45, 78]"
      ]
    },
    {
      "cell_type": "code",
      "metadata": {
        "scrolled": true,
        "id": "i_Ouvao0dHCe",
        "colab_type": "code",
        "outputId": "3113959a-c5f1-4f1a-fce8-26c760fc4296",
        "colab": {}
      },
      "source": [
        "def tripar(sampleList):\n",
        "    parte1 = []\n",
        "    parte2 = []\n",
        "    parte3 = []\n",
        "    tamanho = len(sampleList)\n",
        "    tamanhoParte = 0\n",
        "    if tamanho%3==0:\n",
        "        tamanhoParte = int(tamanho/3)\n",
        "        parte1 = sampleList[:tamanhoParte]\n",
        "        parte2 = sampleList[tamanhoParte:(tamanhoParte*2)]\n",
        "        parte3 = sampleList[tamanhoParte*2:(tamanhoParte*3)]\n",
        "        parte1.reverse()\n",
        "        parte2.reverse()\n",
        "        parte3.reverse()\n",
        "        return print(\"  Parte1 =\", parte1,\"\\n\\n\",\" Parte2 =\", parte2,\"\\n\\n \", \"Parte3 =\", parte3)\n",
        "    else:\n",
        "        print(\"A lista não pode ser dividida em 3 partes iguais.\")\n",
        "        \n",
        "\n",
        "sampleList = [11, 45, 8, 23, 14, 12, 78, 45, 89,56,78,90]\n",
        "tripar(sampleList)"
      ],
      "execution_count": 0,
      "outputs": [
        {
          "output_type": "stream",
          "text": [
            "  Parte1 = [23, 8, 45, 11] \n",
            "\n",
            "  Parte2 = [45, 78, 12, 14] \n",
            "\n",
            "  Parte3 = [90, 78, 56, 89]\n"
          ],
          "name": "stdout"
        }
      ]
    },
    {
      "cell_type": "markdown",
      "metadata": {
        "id": "MQFbUjxqdHCh",
        "colab_type": "text"
      },
      "source": [
        "### Desafio 11\n",
        "\n",
        "Dado um dicionário, obtenha todos os valores do dicionário e adicione-o a uma lista, mas não \n",
        "adicione valores duplicados.\n",
        "\n",
        "`\n",
        "dicionario ={'jan':47, 'feb':52, 'march':47, 'April':44, 'May':52, 'June':53, 'july':54, 'Aug':44, 'Sept':54}\n",
        "`\n",
        "\n",
        "Saída esperada: [47, 52, 44, 53, 54]\n"
      ]
    },
    {
      "cell_type": "code",
      "metadata": {
        "id": "HOCZtRVCdHCh",
        "colab_type": "code",
        "outputId": "30137335-3597-4926-9f36-67350c572566",
        "colab": {}
      },
      "source": [
        "# Seu código\n",
        "dicionario ={'jan':47, 'feb':52, 'march':47, 'April':44, 'May':52, 'June':53, 'july':54, 'Aug':44, 'Sept':54}\n",
        "Valores = []\n",
        "for x in dicionario.values():\n",
        "    if x not in Valores:\n",
        "        Valores.append(x)\n",
        "print(Valores)"
      ],
      "execution_count": 0,
      "outputs": [
        {
          "output_type": "stream",
          "text": [
            "[47, 52, 44, 53, 54]\n"
          ],
          "name": "stdout"
        }
      ]
    },
    {
      "cell_type": "markdown",
      "metadata": {
        "id": "IYM52LFfdHCk",
        "colab_type": "text"
      },
      "source": [
        "### Desafio 12\n",
        "\n",
        "Escreva uma função em Python para verificar a validade de uma senha.\n",
        "\n",
        "Validação:\n",
        "\n",
        "* Pelo menos 1 letra entre [a-z] e 1 letra entre [A-Z].\n",
        "* Pelo menos 1 número entre [0-9].\n",
        "* Pelo menos 1 caractere de [$ # @].\n",
        "* Comprimento mínimo de 6 caracteres.\n",
        "* Comprimento máximo de 16 caracteres.\n",
        "\n",
        "Entradas: \"12345678\", \"J3sus0\", \"#Te5t300\", \"J*90j12374\", \"Michheeul\", \"Monk3y6\"\n",
        "\n",
        "A saída deve ser a senha e um texto indicando se a senha é válida ou inválida:\n",
        "\n",
        "```\n",
        "\"1234\" - Senha inválida\n",
        "\"Qw#1234\" - Senha válida\n",
        "```"
      ]
    },
    {
      "cell_type": "code",
      "metadata": {
        "id": "LrPEj5IkdHCl",
        "colab_type": "code",
        "outputId": "0617ba3b-3289-43ad-fed8-3194d846cbbf",
        "colab": {}
      },
      "source": [
        "# Seu código\n",
        "def validaSenha(senha):\n",
        "    cadeia = str(senha)\n",
        "    caracteres = \"abcdefghijlmnopqrstuvxzwyk\"\n",
        "    validadorCaracteres = False\n",
        "    caracteresMaiusculas = caracteres.upper()\n",
        "    validadorMaiusculas = False \n",
        "    numericos = \"123456789\"\n",
        "    validadorNumericos = False \n",
        "    especiais = \"$#@\"\n",
        "    validadorEspeciais = False \n",
        "    \n",
        "    if len(cadeia)>=6 and len(cadeia)<16:\n",
        "        for x in cadeia:\n",
        "            if x in caracteres:\n",
        "                validadorCaracteres = True \n",
        "            if x in caracteresMaiusculas:\n",
        "                validadorMaiusculas = True \n",
        "            if x in numericos:\n",
        "                validadorNumericos = True \n",
        "            if x in especiais:\n",
        "                validadorEspeciais = True \n",
        "    else:\n",
        "        return print(cadeia, \"- Senha Inválida\")\n",
        "    if validadorCaracteres and validadorMaiusculas and validadorNumericos and validadorEspeciais:\n",
        "        return print(cadeia, \" - Senha Válida \")\n",
        "    else:\n",
        "        return print(cadeia, \"- Senha Inválida\")\n",
        "    \n",
        "Entradas = [\"12345678\", \"J3sus0\", \"#Te5t300\", \"J*90j12374\", \"Michheeul\", \"Monk3y6\"]\n",
        "for y in Entradas:\n",
        "    validaSenha(y)\n",
        "\n",
        "                "
      ],
      "execution_count": 0,
      "outputs": [
        {
          "output_type": "stream",
          "text": [
            "12345678 - Senha Inválida\n",
            "J3sus0 - Senha Inválida\n",
            "#Te5t300  - Senha Válida \n",
            "J*90j12374 - Senha Inválida\n",
            "Michheeul - Senha Inválida\n",
            "Monk3y6 - Senha Inválida\n"
          ],
          "name": "stdout"
        }
      ]
    },
    {
      "cell_type": "markdown",
      "metadata": {
        "id": "c_CGEeQwdHCo",
        "colab_type": "text"
      },
      "source": [
        "### Awari -  <a href=\"https://awari.com.br/\"> awari.com.br</a>"
      ]
    }
  ]
}