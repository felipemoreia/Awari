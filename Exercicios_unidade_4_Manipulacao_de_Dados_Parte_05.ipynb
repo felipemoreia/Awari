{
  "nbformat": 4,
  "nbformat_minor": 0,
  "metadata": {
    "kernelspec": {
      "display_name": "Python 3",
      "language": "python",
      "name": "python3"
    },
    "language_info": {
      "codemirror_mode": {
        "name": "ipython",
        "version": 3
      },
      "file_extension": ".py",
      "mimetype": "text/x-python",
      "name": "python",
      "nbconvert_exporter": "python",
      "pygments_lexer": "ipython3",
      "version": "3.7.4"
    },
    "colab": {
      "name": "Exercicios_unidade_4_Manipulacao_de_Dados_Parte_05.ipynb",
      "provenance": [],
      "include_colab_link": true
    }
  },
  "cells": [
    {
      "cell_type": "markdown",
      "metadata": {
        "id": "view-in-github",
        "colab_type": "text"
      },
      "source": [
        "<a href=\"https://colab.research.google.com/github/felipemoreia/Awari/blob/master/Exercicios_unidade_4_Manipulacao_de_Dados_Parte_05.ipynb\" target=\"_parent\"><img src=\"https://colab.research.google.com/assets/colab-badge.svg\" alt=\"Open In Colab\"/></a>"
      ]
    },
    {
      "cell_type": "markdown",
      "metadata": {
        "id": "uC-G8j5oEYrN",
        "colab_type": "text"
      },
      "source": [
        "# Awari - Data Science\n",
        "\n",
        "## Exercícios Unidade 4 - Parte 5"
      ]
    },
    {
      "cell_type": "markdown",
      "metadata": {
        "id": "oiP0VpraEYrP",
        "colab_type": "text"
      },
      "source": [
        "Neste Jupyter notebook você irá resolver uma exercícios utilizando a linguagem Python e a biblioteca Pandas.\n",
        "\n",
        "Todos os datasets utilizados nos exercícios estão salvos na pasta **datasets**.\n",
        "\n",
        "Todo o seu código deve ser executado neste Jupyter Notebook. Por fim, se desejar, revise as respostas com o seu mentor."
      ]
    },
    {
      "cell_type": "markdown",
      "metadata": {
        "id": "hukOWsuCEYrQ",
        "colab_type": "text"
      },
      "source": [
        "### Tarefa 1. Importe o dataset e salve os dados em um dataframe\n",
        "\n",
        "Os dados estão salvos no arquivo ***datasets/iris.csv***.\n",
        "\n",
        "Os dados consistem de 50 unidades amostrais de três espécies (setosa,\n",
        "virginica, versicolor) de íris (uma espécie de planta), ou seja, temos um total de 150 observações. De cada uma delas mediu-se quatro variáveis morfológicas:\n",
        "comprimento e largura da sépala e comprimento e largura da pétala.\n",
        "\n",
        "Salve os dados em um DataFrame de nome *iris*."
      ]
    },
    {
      "cell_type": "code",
      "metadata": {
        "id": "kxP3t3PDEYrR",
        "colab_type": "code",
        "colab": {}
      },
      "source": [
        "import pandas as pd"
      ],
      "execution_count": 0,
      "outputs": []
    },
    {
      "cell_type": "code",
      "metadata": {
        "id": "QNoJQpdjEYrX",
        "colab_type": "code",
        "colab": {}
      },
      "source": [
        "iris = pd.read_csv('iris.csv', names=['Comp-Sepal', 'Larg-Sepal', 'Comp-petal', 'Larg-petal', 'Especie'])"
      ],
      "execution_count": 0,
      "outputs": []
    },
    {
      "cell_type": "code",
      "metadata": {
        "id": "XM-U3R5yEYrc",
        "colab_type": "code",
        "colab": {},
        "outputId": "ec8232cc-907d-4e00-ac6c-fefac959da8d"
      },
      "source": [
        "iris.head()"
      ],
      "execution_count": 0,
      "outputs": [
        {
          "output_type": "execute_result",
          "data": {
            "text/html": [
              "<div>\n",
              "<style scoped>\n",
              "    .dataframe tbody tr th:only-of-type {\n",
              "        vertical-align: middle;\n",
              "    }\n",
              "\n",
              "    .dataframe tbody tr th {\n",
              "        vertical-align: top;\n",
              "    }\n",
              "\n",
              "    .dataframe thead th {\n",
              "        text-align: right;\n",
              "    }\n",
              "</style>\n",
              "<table border=\"1\" class=\"dataframe\">\n",
              "  <thead>\n",
              "    <tr style=\"text-align: right;\">\n",
              "      <th></th>\n",
              "      <th>Comp-Sepal</th>\n",
              "      <th>Larg-Sepal</th>\n",
              "      <th>Comp-petal</th>\n",
              "      <th>Larg-petal</th>\n",
              "      <th>Especie</th>\n",
              "    </tr>\n",
              "  </thead>\n",
              "  <tbody>\n",
              "    <tr>\n",
              "      <td>0</td>\n",
              "      <td>5.1</td>\n",
              "      <td>3.5</td>\n",
              "      <td>1.4</td>\n",
              "      <td>0.2</td>\n",
              "      <td>Iris-setosa</td>\n",
              "    </tr>\n",
              "    <tr>\n",
              "      <td>1</td>\n",
              "      <td>4.9</td>\n",
              "      <td>3.0</td>\n",
              "      <td>1.4</td>\n",
              "      <td>0.2</td>\n",
              "      <td>Iris-setosa</td>\n",
              "    </tr>\n",
              "    <tr>\n",
              "      <td>2</td>\n",
              "      <td>4.7</td>\n",
              "      <td>3.2</td>\n",
              "      <td>1.3</td>\n",
              "      <td>0.2</td>\n",
              "      <td>Iris-setosa</td>\n",
              "    </tr>\n",
              "    <tr>\n",
              "      <td>3</td>\n",
              "      <td>4.6</td>\n",
              "      <td>3.1</td>\n",
              "      <td>1.5</td>\n",
              "      <td>0.2</td>\n",
              "      <td>Iris-setosa</td>\n",
              "    </tr>\n",
              "    <tr>\n",
              "      <td>4</td>\n",
              "      <td>5.0</td>\n",
              "      <td>3.6</td>\n",
              "      <td>1.4</td>\n",
              "      <td>0.2</td>\n",
              "      <td>Iris-setosa</td>\n",
              "    </tr>\n",
              "  </tbody>\n",
              "</table>\n",
              "</div>"
            ],
            "text/plain": [
              "   Comp-Sepal  Larg-Sepal  Comp-petal  Larg-petal      Especie\n",
              "0         5.1         3.5         1.4         0.2  Iris-setosa\n",
              "1         4.9         3.0         1.4         0.2  Iris-setosa\n",
              "2         4.7         3.2         1.3         0.2  Iris-setosa\n",
              "3         4.6         3.1         1.5         0.2  Iris-setosa\n",
              "4         5.0         3.6         1.4         0.2  Iris-setosa"
            ]
          },
          "metadata": {
            "tags": []
          },
          "execution_count": 32
        }
      ]
    },
    {
      "cell_type": "code",
      "metadata": {
        "id": "R92i6UL5EYrg",
        "colab_type": "code",
        "colab": {},
        "outputId": "74fd0985-0bc1-422a-d855-c40016c0fd33"
      },
      "source": [
        "iris.tail()"
      ],
      "execution_count": 0,
      "outputs": [
        {
          "output_type": "execute_result",
          "data": {
            "text/html": [
              "<div>\n",
              "<style scoped>\n",
              "    .dataframe tbody tr th:only-of-type {\n",
              "        vertical-align: middle;\n",
              "    }\n",
              "\n",
              "    .dataframe tbody tr th {\n",
              "        vertical-align: top;\n",
              "    }\n",
              "\n",
              "    .dataframe thead th {\n",
              "        text-align: right;\n",
              "    }\n",
              "</style>\n",
              "<table border=\"1\" class=\"dataframe\">\n",
              "  <thead>\n",
              "    <tr style=\"text-align: right;\">\n",
              "      <th></th>\n",
              "      <th>Comp-Sepal</th>\n",
              "      <th>Larg-Sepal</th>\n",
              "      <th>Comp-petal</th>\n",
              "      <th>Larg-petal</th>\n",
              "      <th>Especie</th>\n",
              "    </tr>\n",
              "  </thead>\n",
              "  <tbody>\n",
              "    <tr>\n",
              "      <td>145</td>\n",
              "      <td>6.7</td>\n",
              "      <td>3.0</td>\n",
              "      <td>5.2</td>\n",
              "      <td>2.3</td>\n",
              "      <td>Iris-virginica</td>\n",
              "    </tr>\n",
              "    <tr>\n",
              "      <td>146</td>\n",
              "      <td>6.3</td>\n",
              "      <td>2.5</td>\n",
              "      <td>5.0</td>\n",
              "      <td>1.9</td>\n",
              "      <td>Iris-virginica</td>\n",
              "    </tr>\n",
              "    <tr>\n",
              "      <td>147</td>\n",
              "      <td>6.5</td>\n",
              "      <td>3.0</td>\n",
              "      <td>5.2</td>\n",
              "      <td>2.0</td>\n",
              "      <td>Iris-virginica</td>\n",
              "    </tr>\n",
              "    <tr>\n",
              "      <td>148</td>\n",
              "      <td>6.2</td>\n",
              "      <td>3.4</td>\n",
              "      <td>5.4</td>\n",
              "      <td>2.3</td>\n",
              "      <td>Iris-virginica</td>\n",
              "    </tr>\n",
              "    <tr>\n",
              "      <td>149</td>\n",
              "      <td>5.9</td>\n",
              "      <td>3.0</td>\n",
              "      <td>5.1</td>\n",
              "      <td>1.8</td>\n",
              "      <td>Iris-virginica</td>\n",
              "    </tr>\n",
              "  </tbody>\n",
              "</table>\n",
              "</div>"
            ],
            "text/plain": [
              "     Comp-Sepal  Larg-Sepal  Comp-petal  Larg-petal         Especie\n",
              "145         6.7         3.0         5.2         2.3  Iris-virginica\n",
              "146         6.3         2.5         5.0         1.9  Iris-virginica\n",
              "147         6.5         3.0         5.2         2.0  Iris-virginica\n",
              "148         6.2         3.4         5.4         2.3  Iris-virginica\n",
              "149         5.9         3.0         5.1         1.8  Iris-virginica"
            ]
          },
          "metadata": {
            "tags": []
          },
          "execution_count": 33
        }
      ]
    },
    {
      "cell_type": "markdown",
      "metadata": {
        "id": "mSPAcXvgEYrj",
        "colab_type": "text"
      },
      "source": [
        "### Tarefa 2. Mostre as 10 primeira linhas do dataset."
      ]
    },
    {
      "cell_type": "code",
      "metadata": {
        "id": "MvpgWMsbEYrk",
        "colab_type": "code",
        "colab": {},
        "outputId": "f2238686-1460-48a1-94a3-fa7f9d971053"
      },
      "source": [
        "iris.head(10)"
      ],
      "execution_count": 0,
      "outputs": [
        {
          "output_type": "execute_result",
          "data": {
            "text/html": [
              "<div>\n",
              "<style scoped>\n",
              "    .dataframe tbody tr th:only-of-type {\n",
              "        vertical-align: middle;\n",
              "    }\n",
              "\n",
              "    .dataframe tbody tr th {\n",
              "        vertical-align: top;\n",
              "    }\n",
              "\n",
              "    .dataframe thead th {\n",
              "        text-align: right;\n",
              "    }\n",
              "</style>\n",
              "<table border=\"1\" class=\"dataframe\">\n",
              "  <thead>\n",
              "    <tr style=\"text-align: right;\">\n",
              "      <th></th>\n",
              "      <th>Comp-Sepal</th>\n",
              "      <th>Larg-Sepal</th>\n",
              "      <th>Comp-petal</th>\n",
              "      <th>Larg-petal</th>\n",
              "      <th>Especie</th>\n",
              "    </tr>\n",
              "  </thead>\n",
              "  <tbody>\n",
              "    <tr>\n",
              "      <td>0</td>\n",
              "      <td>5.1</td>\n",
              "      <td>3.5</td>\n",
              "      <td>1.4</td>\n",
              "      <td>0.2</td>\n",
              "      <td>Iris-setosa</td>\n",
              "    </tr>\n",
              "    <tr>\n",
              "      <td>1</td>\n",
              "      <td>4.9</td>\n",
              "      <td>3.0</td>\n",
              "      <td>1.4</td>\n",
              "      <td>0.2</td>\n",
              "      <td>Iris-setosa</td>\n",
              "    </tr>\n",
              "    <tr>\n",
              "      <td>2</td>\n",
              "      <td>4.7</td>\n",
              "      <td>3.2</td>\n",
              "      <td>1.3</td>\n",
              "      <td>0.2</td>\n",
              "      <td>Iris-setosa</td>\n",
              "    </tr>\n",
              "    <tr>\n",
              "      <td>3</td>\n",
              "      <td>4.6</td>\n",
              "      <td>3.1</td>\n",
              "      <td>1.5</td>\n",
              "      <td>0.2</td>\n",
              "      <td>Iris-setosa</td>\n",
              "    </tr>\n",
              "    <tr>\n",
              "      <td>4</td>\n",
              "      <td>5.0</td>\n",
              "      <td>3.6</td>\n",
              "      <td>1.4</td>\n",
              "      <td>0.2</td>\n",
              "      <td>Iris-setosa</td>\n",
              "    </tr>\n",
              "    <tr>\n",
              "      <td>5</td>\n",
              "      <td>5.4</td>\n",
              "      <td>3.9</td>\n",
              "      <td>1.7</td>\n",
              "      <td>0.4</td>\n",
              "      <td>Iris-setosa</td>\n",
              "    </tr>\n",
              "    <tr>\n",
              "      <td>6</td>\n",
              "      <td>4.6</td>\n",
              "      <td>3.4</td>\n",
              "      <td>1.4</td>\n",
              "      <td>0.3</td>\n",
              "      <td>Iris-setosa</td>\n",
              "    </tr>\n",
              "    <tr>\n",
              "      <td>7</td>\n",
              "      <td>5.0</td>\n",
              "      <td>3.4</td>\n",
              "      <td>1.5</td>\n",
              "      <td>0.2</td>\n",
              "      <td>Iris-setosa</td>\n",
              "    </tr>\n",
              "    <tr>\n",
              "      <td>8</td>\n",
              "      <td>4.4</td>\n",
              "      <td>2.9</td>\n",
              "      <td>1.4</td>\n",
              "      <td>0.2</td>\n",
              "      <td>Iris-setosa</td>\n",
              "    </tr>\n",
              "    <tr>\n",
              "      <td>9</td>\n",
              "      <td>4.9</td>\n",
              "      <td>3.1</td>\n",
              "      <td>1.5</td>\n",
              "      <td>0.1</td>\n",
              "      <td>Iris-setosa</td>\n",
              "    </tr>\n",
              "  </tbody>\n",
              "</table>\n",
              "</div>"
            ],
            "text/plain": [
              "   Comp-Sepal  Larg-Sepal  Comp-petal  Larg-petal      Especie\n",
              "0         5.1         3.5         1.4         0.2  Iris-setosa\n",
              "1         4.9         3.0         1.4         0.2  Iris-setosa\n",
              "2         4.7         3.2         1.3         0.2  Iris-setosa\n",
              "3         4.6         3.1         1.5         0.2  Iris-setosa\n",
              "4         5.0         3.6         1.4         0.2  Iris-setosa\n",
              "5         5.4         3.9         1.7         0.4  Iris-setosa\n",
              "6         4.6         3.4         1.4         0.3  Iris-setosa\n",
              "7         5.0         3.4         1.5         0.2  Iris-setosa\n",
              "8         4.4         2.9         1.4         0.2  Iris-setosa\n",
              "9         4.9         3.1         1.5         0.1  Iris-setosa"
            ]
          },
          "metadata": {
            "tags": []
          },
          "execution_count": 34
        }
      ]
    },
    {
      "cell_type": "markdown",
      "metadata": {
        "id": "OBy62AOGEYrn",
        "colab_type": "text"
      },
      "source": [
        "### Tarefa 3. Os dados estão sem identificação de colunas, assim, adicione colunas ao dataset.\n",
        "\n",
        "Nomes das colunas:\n",
        "* 1 - sepal_length (in cm)\n",
        "* 2 - sepal_width (in cm)\n",
        "* 3 - petal_length (in cm)\n",
        "* 4 - petal_width (in cm)\n",
        "* 5 - class\n",
        "\n",
        "\n",
        "*Dica: utilize o atributo columns do DataFrame*"
      ]
    },
    {
      "cell_type": "code",
      "metadata": {
        "id": "-DudD7EvEYrn",
        "colab_type": "code",
        "colab": {}
      },
      "source": [
        "iris.columns = ['sepal_length (in cm)', 'sepal_width (in cm)', 'petal_length (in cm)', 'petal_width (in cm)', 'class']"
      ],
      "execution_count": 0,
      "outputs": []
    },
    {
      "cell_type": "markdown",
      "metadata": {
        "id": "N9ArEysEEYrq",
        "colab_type": "text"
      },
      "source": [
        "### Tarefa 4.  Verifique se existem valores missing (ausentes) no DataFrame?\n",
        "\n",
        "*Dica: use o método isnull() do Pandas em conjunto com o método sum()*"
      ]
    },
    {
      "cell_type": "code",
      "metadata": {
        "id": "xawptNpPEYrr",
        "colab_type": "code",
        "colab": {},
        "outputId": "e9ef79ca-50ad-4385-fd62-c4f68309d7f1"
      },
      "source": [
        "iris.info()"
      ],
      "execution_count": 0,
      "outputs": [
        {
          "output_type": "stream",
          "text": [
            "<class 'pandas.core.frame.DataFrame'>\n",
            "RangeIndex: 150 entries, 0 to 149\n",
            "Data columns (total 5 columns):\n",
            "sepal_length (in cm)    150 non-null float64\n",
            "sepal_width (in cm)     150 non-null float64\n",
            "petal_length (in cm)    150 non-null float64\n",
            "petal_width (in cm)     150 non-null float64\n",
            "class                   150 non-null object\n",
            "dtypes: float64(4), object(1)\n",
            "memory usage: 6.0+ KB\n"
          ],
          "name": "stdout"
        }
      ]
    },
    {
      "cell_type": "code",
      "metadata": {
        "id": "oqz92naZEYru",
        "colab_type": "code",
        "colab": {},
        "outputId": "1669eec3-c11c-424c-d841-8819c8d3e71c"
      },
      "source": [
        "iris.isnull().sum()"
      ],
      "execution_count": 0,
      "outputs": [
        {
          "output_type": "execute_result",
          "data": {
            "text/plain": [
              "sepal_length (in cm)    0\n",
              "sepal_width (in cm)     0\n",
              "petal_length (in cm)    0\n",
              "petal_width (in cm)     0\n",
              "class                   0\n",
              "dtype: int64"
            ]
          },
          "metadata": {
            "tags": []
          },
          "execution_count": 57
        }
      ]
    },
    {
      "cell_type": "markdown",
      "metadata": {
        "id": "4lGEcHOmEYrx",
        "colab_type": "text"
      },
      "source": [
        "### Tarefa 5.  Atribua o valor NaN as linhas 10 até 19 da coluna 'petal_length'."
      ]
    },
    {
      "cell_type": "code",
      "metadata": {
        "id": "i4j28HLIEYrx",
        "colab_type": "code",
        "colab": {}
      },
      "source": [
        "import numpy as np\n",
        "iris.loc[10:20,'petal_length (in cm)'] = np.nan\n"
      ],
      "execution_count": 0,
      "outputs": []
    },
    {
      "cell_type": "code",
      "metadata": {
        "id": "cm7I3doCEYrz",
        "colab_type": "code",
        "colab": {},
        "outputId": "2e3f9929-51aa-4257-a9e7-70e1148fafff"
      },
      "source": [
        "iris[:25]['petal_length (in cm)']"
      ],
      "execution_count": 0,
      "outputs": [
        {
          "output_type": "execute_result",
          "data": {
            "text/plain": [
              "0     1.4\n",
              "1     1.4\n",
              "2     1.3\n",
              "3     1.5\n",
              "4     1.4\n",
              "5     1.7\n",
              "6     1.4\n",
              "7     1.5\n",
              "8     1.4\n",
              "9     1.5\n",
              "10    1.0\n",
              "11    1.0\n",
              "12    1.0\n",
              "13    1.0\n",
              "14    1.0\n",
              "15    1.0\n",
              "16    1.0\n",
              "17    1.0\n",
              "18    1.0\n",
              "19    1.0\n",
              "20    1.0\n",
              "21    1.5\n",
              "22    1.0\n",
              "23    1.7\n",
              "24    1.9\n",
              "Name: petal_length (in cm), dtype: float64"
            ]
          },
          "metadata": {
            "tags": []
          },
          "execution_count": 103
        }
      ]
    },
    {
      "cell_type": "markdown",
      "metadata": {
        "id": "tAtybOErEYr2",
        "colab_type": "text"
      },
      "source": [
        "### Tarefa 6. Agora substitua os valores NaN por 1.0\n",
        "\n",
        "*Dica: use o método fillna() do DataFrame*"
      ]
    },
    {
      "cell_type": "code",
      "metadata": {
        "id": "ukCS3ctMEYr2",
        "colab_type": "code",
        "colab": {}
      },
      "source": [
        "iris.fillna(1.0, inplace=True)"
      ],
      "execution_count": 0,
      "outputs": []
    },
    {
      "cell_type": "markdown",
      "metadata": {
        "id": "LGDYgucGEYr7",
        "colab_type": "text"
      },
      "source": [
        "### Tarefa 7. Remova a coluna 'class'"
      ]
    },
    {
      "cell_type": "code",
      "metadata": {
        "id": "7tOVd2pQEYr7",
        "colab_type": "code",
        "colab": {}
      },
      "source": [
        "iris.drop('class', axis=1, inplace=True)"
      ],
      "execution_count": 0,
      "outputs": []
    },
    {
      "cell_type": "markdown",
      "metadata": {
        "id": "FzL-X4NdEYr-",
        "colab_type": "text"
      },
      "source": [
        "### Tarefa 8.  Atribua NaN a todas as colunas das 3 primeiras linhas."
      ]
    },
    {
      "cell_type": "code",
      "metadata": {
        "id": "wTX6AZO7EYr-",
        "colab_type": "code",
        "colab": {},
        "outputId": "9226bc8d-2ab8-40bb-e802-5fd8b9dafd6b"
      },
      "source": [
        "# Seu código\n",
        "\n",
        "iris.loc[0:3] = np.nan\n",
        "iris.head()"
      ],
      "execution_count": 0,
      "outputs": [
        {
          "output_type": "execute_result",
          "data": {
            "text/html": [
              "<div>\n",
              "<style scoped>\n",
              "    .dataframe tbody tr th:only-of-type {\n",
              "        vertical-align: middle;\n",
              "    }\n",
              "\n",
              "    .dataframe tbody tr th {\n",
              "        vertical-align: top;\n",
              "    }\n",
              "\n",
              "    .dataframe thead th {\n",
              "        text-align: right;\n",
              "    }\n",
              "</style>\n",
              "<table border=\"1\" class=\"dataframe\">\n",
              "  <thead>\n",
              "    <tr style=\"text-align: right;\">\n",
              "      <th></th>\n",
              "      <th>sepal_length (in cm)</th>\n",
              "      <th>sepal_width (in cm)</th>\n",
              "      <th>petal_length (in cm)</th>\n",
              "      <th>petal_width (in cm)</th>\n",
              "    </tr>\n",
              "  </thead>\n",
              "  <tbody>\n",
              "    <tr>\n",
              "      <td>4</td>\n",
              "      <td>5.0</td>\n",
              "      <td>3.6</td>\n",
              "      <td>1.4</td>\n",
              "      <td>0.2</td>\n",
              "    </tr>\n",
              "    <tr>\n",
              "      <td>5</td>\n",
              "      <td>5.4</td>\n",
              "      <td>3.9</td>\n",
              "      <td>1.7</td>\n",
              "      <td>0.4</td>\n",
              "    </tr>\n",
              "    <tr>\n",
              "      <td>6</td>\n",
              "      <td>4.6</td>\n",
              "      <td>3.4</td>\n",
              "      <td>1.4</td>\n",
              "      <td>0.3</td>\n",
              "    </tr>\n",
              "    <tr>\n",
              "      <td>7</td>\n",
              "      <td>5.0</td>\n",
              "      <td>3.4</td>\n",
              "      <td>1.5</td>\n",
              "      <td>0.2</td>\n",
              "    </tr>\n",
              "    <tr>\n",
              "      <td>8</td>\n",
              "      <td>4.4</td>\n",
              "      <td>2.9</td>\n",
              "      <td>1.4</td>\n",
              "      <td>0.2</td>\n",
              "    </tr>\n",
              "  </tbody>\n",
              "</table>\n",
              "</div>"
            ],
            "text/plain": [
              "   sepal_length (in cm)  sepal_width (in cm)  petal_length (in cm)  \\\n",
              "4                   5.0                  3.6                   1.4   \n",
              "5                   5.4                  3.9                   1.7   \n",
              "6                   4.6                  3.4                   1.4   \n",
              "7                   5.0                  3.4                   1.5   \n",
              "8                   4.4                  2.9                   1.4   \n",
              "\n",
              "   petal_width (in cm)  \n",
              "4                  0.2  \n",
              "5                  0.4  \n",
              "6                  0.3  \n",
              "7                  0.2  \n",
              "8                  0.2  "
            ]
          },
          "metadata": {
            "tags": []
          },
          "execution_count": 113
        }
      ]
    },
    {
      "cell_type": "markdown",
      "metadata": {
        "id": "2ceE4v4bEYsA",
        "colab_type": "text"
      },
      "source": [
        "### Tarefa 9. Remova as linhas que possuem NaN.\n",
        "\n",
        "*Dica: utilize o método dropna() do DataFrame*"
      ]
    },
    {
      "cell_type": "code",
      "metadata": {
        "id": "JFnMwNCUEYsA",
        "colab_type": "code",
        "colab": {}
      },
      "source": [
        "# Seu código\n",
        "\n",
        "iris.dropna(axis=0, inplace=True)"
      ],
      "execution_count": 0,
      "outputs": []
    },
    {
      "cell_type": "markdown",
      "metadata": {
        "id": "L3BMcHHzEYsC",
        "colab_type": "text"
      },
      "source": [
        "### Tarefa 10. Reinicie o index do DataFrame para que ele inicie a partir do zero novamente.\n",
        "\n",
        "*Dica: utilize o método reset_index() do DataFrame*"
      ]
    },
    {
      "cell_type": "code",
      "metadata": {
        "id": "mh8dykgQEYsD",
        "colab_type": "code",
        "colab": {}
      },
      "source": [
        "iris.reset_index()\n",
        "iris.drop(['index'], axis=1, inplace=True)"
      ],
      "execution_count": 0,
      "outputs": []
    },
    {
      "cell_type": "code",
      "metadata": {
        "id": "tLQ5erjdEYsF",
        "colab_type": "code",
        "colab": {},
        "outputId": "c4ac054b-f677-4d95-d834-947857886570"
      },
      "source": [
        "iris"
      ],
      "execution_count": 0,
      "outputs": [
        {
          "output_type": "execute_result",
          "data": {
            "text/html": [
              "<div>\n",
              "<style scoped>\n",
              "    .dataframe tbody tr th:only-of-type {\n",
              "        vertical-align: middle;\n",
              "    }\n",
              "\n",
              "    .dataframe tbody tr th {\n",
              "        vertical-align: top;\n",
              "    }\n",
              "\n",
              "    .dataframe thead th {\n",
              "        text-align: right;\n",
              "    }\n",
              "</style>\n",
              "<table border=\"1\" class=\"dataframe\">\n",
              "  <thead>\n",
              "    <tr style=\"text-align: right;\">\n",
              "      <th></th>\n",
              "      <th>sepal_length (in cm)</th>\n",
              "      <th>sepal_width (in cm)</th>\n",
              "      <th>petal_length (in cm)</th>\n",
              "      <th>petal_width (in cm)</th>\n",
              "    </tr>\n",
              "  </thead>\n",
              "  <tbody>\n",
              "    <tr>\n",
              "      <td>0</td>\n",
              "      <td>5.0</td>\n",
              "      <td>3.6</td>\n",
              "      <td>1.4</td>\n",
              "      <td>0.2</td>\n",
              "    </tr>\n",
              "    <tr>\n",
              "      <td>1</td>\n",
              "      <td>5.4</td>\n",
              "      <td>3.9</td>\n",
              "      <td>1.7</td>\n",
              "      <td>0.4</td>\n",
              "    </tr>\n",
              "    <tr>\n",
              "      <td>2</td>\n",
              "      <td>4.6</td>\n",
              "      <td>3.4</td>\n",
              "      <td>1.4</td>\n",
              "      <td>0.3</td>\n",
              "    </tr>\n",
              "    <tr>\n",
              "      <td>3</td>\n",
              "      <td>5.0</td>\n",
              "      <td>3.4</td>\n",
              "      <td>1.5</td>\n",
              "      <td>0.2</td>\n",
              "    </tr>\n",
              "    <tr>\n",
              "      <td>4</td>\n",
              "      <td>4.4</td>\n",
              "      <td>2.9</td>\n",
              "      <td>1.4</td>\n",
              "      <td>0.2</td>\n",
              "    </tr>\n",
              "    <tr>\n",
              "      <td>...</td>\n",
              "      <td>...</td>\n",
              "      <td>...</td>\n",
              "      <td>...</td>\n",
              "      <td>...</td>\n",
              "    </tr>\n",
              "    <tr>\n",
              "      <td>141</td>\n",
              "      <td>6.7</td>\n",
              "      <td>3.0</td>\n",
              "      <td>5.2</td>\n",
              "      <td>2.3</td>\n",
              "    </tr>\n",
              "    <tr>\n",
              "      <td>142</td>\n",
              "      <td>6.3</td>\n",
              "      <td>2.5</td>\n",
              "      <td>5.0</td>\n",
              "      <td>1.9</td>\n",
              "    </tr>\n",
              "    <tr>\n",
              "      <td>143</td>\n",
              "      <td>6.5</td>\n",
              "      <td>3.0</td>\n",
              "      <td>5.2</td>\n",
              "      <td>2.0</td>\n",
              "    </tr>\n",
              "    <tr>\n",
              "      <td>144</td>\n",
              "      <td>6.2</td>\n",
              "      <td>3.4</td>\n",
              "      <td>5.4</td>\n",
              "      <td>2.3</td>\n",
              "    </tr>\n",
              "    <tr>\n",
              "      <td>145</td>\n",
              "      <td>5.9</td>\n",
              "      <td>3.0</td>\n",
              "      <td>5.1</td>\n",
              "      <td>1.8</td>\n",
              "    </tr>\n",
              "  </tbody>\n",
              "</table>\n",
              "<p>146 rows × 4 columns</p>\n",
              "</div>"
            ],
            "text/plain": [
              "     sepal_length (in cm)  sepal_width (in cm)  petal_length (in cm)  \\\n",
              "0                     5.0                  3.6                   1.4   \n",
              "1                     5.4                  3.9                   1.7   \n",
              "2                     4.6                  3.4                   1.4   \n",
              "3                     5.0                  3.4                   1.5   \n",
              "4                     4.4                  2.9                   1.4   \n",
              "..                    ...                  ...                   ...   \n",
              "141                   6.7                  3.0                   5.2   \n",
              "142                   6.3                  2.5                   5.0   \n",
              "143                   6.5                  3.0                   5.2   \n",
              "144                   6.2                  3.4                   5.4   \n",
              "145                   5.9                  3.0                   5.1   \n",
              "\n",
              "     petal_width (in cm)  \n",
              "0                    0.2  \n",
              "1                    0.4  \n",
              "2                    0.3  \n",
              "3                    0.2  \n",
              "4                    0.2  \n",
              "..                   ...  \n",
              "141                  2.3  \n",
              "142                  1.9  \n",
              "143                  2.0  \n",
              "144                  2.3  \n",
              "145                  1.8  \n",
              "\n",
              "[146 rows x 4 columns]"
            ]
          },
          "metadata": {
            "tags": []
          },
          "execution_count": 135
        }
      ]
    },
    {
      "cell_type": "markdown",
      "metadata": {
        "id": "x-0VjqcLEYsH",
        "colab_type": "text"
      },
      "source": [
        "### Awari -  <a href=\"https://awari.com.br/\"> awari.com.br</a>"
      ]
    }
  ]
}