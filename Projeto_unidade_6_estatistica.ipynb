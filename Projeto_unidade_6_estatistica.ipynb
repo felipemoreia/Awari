{
  "nbformat": 4,
  "nbformat_minor": 0,
  "metadata": {
    "anaconda-cloud": {},
    "kernelspec": {
      "display_name": "Python 3",
      "language": "python",
      "name": "python3"
    },
    "language_info": {
      "codemirror_mode": {
        "name": "ipython",
        "version": 3
      },
      "file_extension": ".py",
      "mimetype": "text/x-python",
      "name": "python",
      "nbconvert_exporter": "python",
      "pygments_lexer": "ipython3",
      "version": "3.7.4"
    },
    "colab": {
      "name": "Projeto_unidade_6_estatistica.ipynb",
      "provenance": [],
      "include_colab_link": true
    }
  },
  "cells": [
    {
      "cell_type": "markdown",
      "metadata": {
        "id": "view-in-github",
        "colab_type": "text"
      },
      "source": [
        "<a href=\"https://colab.research.google.com/github/felipemoreia/Data-Science-com-Python---Awari/blob/master/Projeto_unidade_6_estatistica.ipynb\" target=\"_parent\"><img src=\"https://colab.research.google.com/assets/colab-badge.svg\" alt=\"Open In Colab\"/></a>"
      ]
    },
    {
      "cell_type": "markdown",
      "metadata": {
        "id": "brmpxVpvHorx",
        "colab_type": "text"
      },
      "source": [
        "# Awari - Data Science\n",
        "\n",
        "## Projeto Unidade 6"
      ]
    },
    {
      "cell_type": "markdown",
      "metadata": {
        "id": "Pd-bTX1nHory",
        "colab_type": "text"
      },
      "source": [
        "Neste projeto você irá realizar uma análise estatística de um dos dataset mais famosos da comunidade de Data Science, o dataset **Titanic**.\n",
        "\n",
        "Esse dataset contém dados de 891 passageiros do Titanic. A análise vai ser guiada pelas perguntas apresentadas a seguir.\n",
        "\n",
        "O dataset disponibilizado tem quase a mesma estrutura de uma planilha do excel, com linhas e colunas. O tipo do arquivo é o CSV ou Comma-separated values, que seriam Valores Separados por Vírgula, porque é exatamente assim que ele funciona, você distingue que o valor pertence a diferentes colunas porque a vírgula está ali separando uns dos outros.\n",
        "\n",
        "O objetivo deste projeto é você aplicar os principais conceitos que você aprendeu na unidade 6.\n",
        "Todo o projeto deve ser executado neste Jupyter Notebook. Por fim, se desejar, revise as respostas com o seu mentor."
      ]
    },
    {
      "cell_type": "markdown",
      "metadata": {
        "id": "5OSPAnxHHorz",
        "colab_type": "text"
      },
      "source": [
        "### Descrição dos dados\n",
        "\n",
        "O dataset possui 891 registros (linhas) e 12 atributos (colunas).\n",
        "\n",
        "Abaixo estão as descrições das colunas do nosso Dataset:\n",
        "\n",
        "* passengerid = ID do passageiro do navio (código primário).\n",
        "* survived = Se sobreviveu ao naufrágio estará como 1 e caso esteja com 0 (zero) não sobreviveu.\n",
        "* pclass = Tipo de classe de passagem (Do 1 ao 3), sendo 1 a melhor classe e 3 a pior classe.\n",
        "* name = Nome do passageiro\n",
        "* sex = Gênero do passageiro, sendo masculino e feminino.\n",
        "* age = Idade do passageiro na data da ocorrência do naufrágio.\n",
        "* sibsp = Número de irmãos / cônjuges a bordo.\n",
        "* parch = Número de pais / filhos a bordo.\n",
        "* ticket = Código do ticket.\n",
        "* fare = Valor da passagem.\n",
        "* cabin = Código de identificação da Cabine.\n",
        "* embarked = Local ondem o passageiro embarcou no navio."
      ]
    },
    {
      "cell_type": "markdown",
      "metadata": {
        "id": "Vtst-1FoHor0",
        "colab_type": "text"
      },
      "source": [
        "### Carregando os dados"
      ]
    },
    {
      "cell_type": "code",
      "metadata": {
        "id": "QlDD_A9mHor2",
        "colab_type": "code",
        "colab": {},
        "outputId": "3845f8c5-f8b4-409c-b13a-c87f0a55b6f2"
      },
      "source": [
        "import sys\n",
        "import pandas as pd\n",
        "\n",
        "\n",
        "# Carregando os dados\n",
        "# O arquivo “titanic.csv” deve estar salvo na mesma pasta do seu código Python\n",
        "dados = pd.read_csv(\"titanic.csv\")\n",
        "\n",
        "# Exibe o número de linhas e colunas\n",
        "print(dados.shape)\n",
        "\n",
        "# Exibe as 10 primeiras linhas\n",
        "dados.head()"
      ],
      "execution_count": 0,
      "outputs": [
        {
          "output_type": "stream",
          "text": [
            "(891, 12)\n"
          ],
          "name": "stdout"
        },
        {
          "output_type": "execute_result",
          "data": {
            "text/html": [
              "<div>\n",
              "<style scoped>\n",
              "    .dataframe tbody tr th:only-of-type {\n",
              "        vertical-align: middle;\n",
              "    }\n",
              "\n",
              "    .dataframe tbody tr th {\n",
              "        vertical-align: top;\n",
              "    }\n",
              "\n",
              "    .dataframe thead th {\n",
              "        text-align: right;\n",
              "    }\n",
              "</style>\n",
              "<table border=\"1\" class=\"dataframe\">\n",
              "  <thead>\n",
              "    <tr style=\"text-align: right;\">\n",
              "      <th></th>\n",
              "      <th>PassengerId</th>\n",
              "      <th>Survived</th>\n",
              "      <th>Pclass</th>\n",
              "      <th>Name</th>\n",
              "      <th>Sex</th>\n",
              "      <th>Age</th>\n",
              "      <th>SibSp</th>\n",
              "      <th>Parch</th>\n",
              "      <th>Ticket</th>\n",
              "      <th>Fare</th>\n",
              "      <th>Cabin</th>\n",
              "      <th>Embarked</th>\n",
              "    </tr>\n",
              "  </thead>\n",
              "  <tbody>\n",
              "    <tr>\n",
              "      <td>0</td>\n",
              "      <td>1</td>\n",
              "      <td>0</td>\n",
              "      <td>3</td>\n",
              "      <td>Braund, Mr. Owen Harris</td>\n",
              "      <td>male</td>\n",
              "      <td>22.0</td>\n",
              "      <td>1</td>\n",
              "      <td>0</td>\n",
              "      <td>A/5 21171</td>\n",
              "      <td>7.2500</td>\n",
              "      <td>NaN</td>\n",
              "      <td>S</td>\n",
              "    </tr>\n",
              "    <tr>\n",
              "      <td>1</td>\n",
              "      <td>2</td>\n",
              "      <td>1</td>\n",
              "      <td>1</td>\n",
              "      <td>Cumings, Mrs. John Bradley (Florence Briggs Th...</td>\n",
              "      <td>female</td>\n",
              "      <td>38.0</td>\n",
              "      <td>1</td>\n",
              "      <td>0</td>\n",
              "      <td>PC 17599</td>\n",
              "      <td>71.2833</td>\n",
              "      <td>C85</td>\n",
              "      <td>C</td>\n",
              "    </tr>\n",
              "    <tr>\n",
              "      <td>2</td>\n",
              "      <td>3</td>\n",
              "      <td>1</td>\n",
              "      <td>3</td>\n",
              "      <td>Heikkinen, Miss. Laina</td>\n",
              "      <td>female</td>\n",
              "      <td>26.0</td>\n",
              "      <td>0</td>\n",
              "      <td>0</td>\n",
              "      <td>STON/O2. 3101282</td>\n",
              "      <td>7.9250</td>\n",
              "      <td>NaN</td>\n",
              "      <td>S</td>\n",
              "    </tr>\n",
              "    <tr>\n",
              "      <td>3</td>\n",
              "      <td>4</td>\n",
              "      <td>1</td>\n",
              "      <td>1</td>\n",
              "      <td>Futrelle, Mrs. Jacques Heath (Lily May Peel)</td>\n",
              "      <td>female</td>\n",
              "      <td>35.0</td>\n",
              "      <td>1</td>\n",
              "      <td>0</td>\n",
              "      <td>113803</td>\n",
              "      <td>53.1000</td>\n",
              "      <td>C123</td>\n",
              "      <td>S</td>\n",
              "    </tr>\n",
              "    <tr>\n",
              "      <td>4</td>\n",
              "      <td>5</td>\n",
              "      <td>0</td>\n",
              "      <td>3</td>\n",
              "      <td>Allen, Mr. William Henry</td>\n",
              "      <td>male</td>\n",
              "      <td>35.0</td>\n",
              "      <td>0</td>\n",
              "      <td>0</td>\n",
              "      <td>373450</td>\n",
              "      <td>8.0500</td>\n",
              "      <td>NaN</td>\n",
              "      <td>S</td>\n",
              "    </tr>\n",
              "  </tbody>\n",
              "</table>\n",
              "</div>"
            ],
            "text/plain": [
              "   PassengerId  Survived  Pclass  \\\n",
              "0            1         0       3   \n",
              "1            2         1       1   \n",
              "2            3         1       3   \n",
              "3            4         1       1   \n",
              "4            5         0       3   \n",
              "\n",
              "                                                Name     Sex   Age  SibSp  \\\n",
              "0                            Braund, Mr. Owen Harris    male  22.0      1   \n",
              "1  Cumings, Mrs. John Bradley (Florence Briggs Th...  female  38.0      1   \n",
              "2                             Heikkinen, Miss. Laina  female  26.0      0   \n",
              "3       Futrelle, Mrs. Jacques Heath (Lily May Peel)  female  35.0      1   \n",
              "4                           Allen, Mr. William Henry    male  35.0      0   \n",
              "\n",
              "   Parch            Ticket     Fare Cabin Embarked  \n",
              "0      0         A/5 21171   7.2500   NaN        S  \n",
              "1      0          PC 17599  71.2833   C85        C  \n",
              "2      0  STON/O2. 3101282   7.9250   NaN        S  \n",
              "3      0            113803  53.1000  C123        S  \n",
              "4      0            373450   8.0500   NaN        S  "
            ]
          },
          "metadata": {
            "tags": []
          },
          "execution_count": 1
        }
      ]
    },
    {
      "cell_type": "markdown",
      "metadata": {
        "id": "hlQiSjhgHor6",
        "colab_type": "text"
      },
      "source": [
        "### 1. Qual foi a porcentagem dos passageiros sobreviventes?\n",
        "\n",
        "Dica: use a função value_counts() do pandas com o parâmetro _normalize_"
      ]
    },
    {
      "cell_type": "code",
      "metadata": {
        "id": "dA7jiDaSHor6",
        "colab_type": "code",
        "colab": {},
        "outputId": "bda539f8-5391-4c8b-8752-2d34a0c10284"
      },
      "source": [
        "dados['Survived'].value_counts(normalize=True)*100"
      ],
      "execution_count": 0,
      "outputs": [
        {
          "output_type": "execute_result",
          "data": {
            "text/plain": [
              "0    61.616162\n",
              "1    38.383838\n",
              "Name: Survived, dtype: float64"
            ]
          },
          "metadata": {
            "tags": []
          },
          "execution_count": 2
        }
      ]
    },
    {
      "cell_type": "markdown",
      "metadata": {
        "id": "nQiAVjOFHor9",
        "colab_type": "text"
      },
      "source": [
        "38,38% dos passageiros sobreviveu ao Titanic"
      ]
    },
    {
      "cell_type": "markdown",
      "metadata": {
        "id": "nI50W34GHor9",
        "colab_type": "text"
      },
      "source": [
        "### 2. Qual era a faixa etária dos passageiros que estavam no Titanic?\n",
        "Dica: usa a função _describe()_ do pandas"
      ]
    },
    {
      "cell_type": "code",
      "metadata": {
        "id": "rhFrIEHPHor-",
        "colab_type": "code",
        "colab": {},
        "outputId": "d6312673-8cb8-465c-fb46-4a2906ebfc7e"
      },
      "source": [
        "dados['Age'].describe()"
      ],
      "execution_count": 0,
      "outputs": [
        {
          "output_type": "execute_result",
          "data": {
            "text/plain": [
              "count    714.000000\n",
              "mean      29.699118\n",
              "std       14.526497\n",
              "min        0.420000\n",
              "25%       20.125000\n",
              "50%       28.000000\n",
              "75%       38.000000\n",
              "max       80.000000\n",
              "Name: Age, dtype: float64"
            ]
          },
          "metadata": {
            "tags": []
          },
          "execution_count": 3
        }
      ]
    },
    {
      "cell_type": "markdown",
      "metadata": {
        "id": "ZyoGkUfPHosA",
        "colab_type": "text"
      },
      "source": [
        "Na média, a faixa etária era de 29 anos. 75% dos passageiros tinham até 38 anos. E o passageiro mais velho tinha 80 anos."
      ]
    },
    {
      "cell_type": "markdown",
      "metadata": {
        "id": "p6cGySxiHosB",
        "colab_type": "text"
      },
      "source": [
        "### 3. Qual porcentagem de homens e mulheres sobreviventes?"
      ]
    },
    {
      "cell_type": "code",
      "metadata": {
        "id": "oAllr48GHosB",
        "colab_type": "code",
        "colab": {},
        "outputId": "d5e44919-fbdb-4bb4-a604-0310f0db5ad0"
      },
      "source": [
        "dados[dados['Survived']==1]['Sex'].value_counts(normalize=True)*100"
      ],
      "execution_count": 0,
      "outputs": [
        {
          "output_type": "execute_result",
          "data": {
            "text/plain": [
              "female    68.128655\n",
              "male      31.871345\n",
              "Name: Sex, dtype: float64"
            ]
          },
          "metadata": {
            "tags": []
          },
          "execution_count": 4
        }
      ]
    },
    {
      "cell_type": "markdown",
      "metadata": {
        "id": "XQ30yEtTHosE",
        "colab_type": "text"
      },
      "source": [
        "68% dos sobreviventes eram mulheres e 31% homens"
      ]
    },
    {
      "cell_type": "markdown",
      "metadata": {
        "id": "S74uVmdTHosF",
        "colab_type": "text"
      },
      "source": [
        "### 4. Qual a média e desvio padrão dos homens sobreviventes? "
      ]
    },
    {
      "cell_type": "code",
      "metadata": {
        "id": "-PGhuLQcHosF",
        "colab_type": "code",
        "colab": {},
        "outputId": "2def8fc6-a375-448f-e022-6b797106c3f3"
      },
      "source": [
        "dados[dados['Survived']==1][dados['Sex']=='male']['Age'].describe()"
      ],
      "execution_count": 0,
      "outputs": [
        {
          "output_type": "stream",
          "text": [
            "C:\\Users\\epfel\\Anaconda3\\lib\\site-packages\\ipykernel_launcher.py:1: UserWarning: Boolean Series key will be reindexed to match DataFrame index.\n",
            "  \"\"\"Entry point for launching an IPython kernel.\n"
          ],
          "name": "stderr"
        },
        {
          "output_type": "execute_result",
          "data": {
            "text/plain": [
              "count    93.000000\n",
              "mean     27.276022\n",
              "std      16.504803\n",
              "min       0.420000\n",
              "25%      18.000000\n",
              "50%      28.000000\n",
              "75%      36.000000\n",
              "max      80.000000\n",
              "Name: Age, dtype: float64"
            ]
          },
          "metadata": {
            "tags": []
          },
          "execution_count": 5
        }
      ]
    },
    {
      "cell_type": "markdown",
      "metadata": {
        "id": "SvBnYgiSHosK",
        "colab_type": "text"
      },
      "source": [
        "A idade média dos homens sobreviventes era de 27 anos, com desvio padrão de 16,50."
      ]
    },
    {
      "cell_type": "markdown",
      "metadata": {
        "id": "7aqD4Vm3HosK",
        "colab_type": "text"
      },
      "source": [
        "### 5. Repita os cálculos do item 4 utilizando uma amostra aleatória de 100 passageiros e calculo o erro da média e desvio padrão."
      ]
    },
    {
      "cell_type": "code",
      "metadata": {
        "id": "QM7Ikyc5HosL",
        "colab_type": "code",
        "colab": {}
      },
      "source": [
        "from random import sample"
      ],
      "execution_count": 0,
      "outputs": []
    },
    {
      "cell_type": "code",
      "metadata": {
        "id": "0x1NcZhBHosN",
        "colab_type": "code",
        "colab": {},
        "outputId": "a0d878e6-ff65-44f5-95de-2211bea69731"
      },
      "source": [
        "amostra = sample(range(891), k=100)\n",
        "dfamostra = dados.iloc[amostra]\n",
        "dfamostra['Age'].describe()"
      ],
      "execution_count": 0,
      "outputs": [
        {
          "output_type": "execute_result",
          "data": {
            "text/plain": [
              "count    83.000000\n",
              "mean     27.868434\n",
              "std      14.306376\n",
              "min       0.420000\n",
              "25%      19.000000\n",
              "50%      27.000000\n",
              "75%      38.000000\n",
              "max      60.000000\n",
              "Name: Age, dtype: float64"
            ]
          },
          "metadata": {
            "tags": []
          },
          "execution_count": 7
        }
      ]
    },
    {
      "cell_type": "markdown",
      "metadata": {
        "id": "tEBPF_QqHosP",
        "colab_type": "text"
      },
      "source": [
        "Os dados são muito parecidos. A idade média segue sendo de 27 anos, e o desvio padrão tem uma queda para 14,30."
      ]
    },
    {
      "cell_type": "markdown",
      "metadata": {
        "id": "t5WF7SX-HosP",
        "colab_type": "text"
      },
      "source": [
        "### 6. Quais os tipos de variáveis nas colunas survived, pclass, name, sex e age?\n",
        "\n",
        "[Dica ...](# Referência: http://professorguru.com.br/estatistica/introdu%C3%A7%C3%A3o%20%C3%A0%20estat%C3%ADstica/tipos%20de%20vari%C3%A1veis%20estat%C3%ADsticas.html)"
      ]
    },
    {
      "cell_type": "markdown",
      "metadata": {
        "id": "xY_r2tZFHosQ",
        "colab_type": "text"
      },
      "source": [
        "survived = quantitativa discreta (Binária)\n",
        "pclass = qualitativa ordinal\n",
        "name = qualitativa nominal\n",
        "sex = qualitativa nominal\n",
        "age = quantitativa continua"
      ]
    },
    {
      "cell_type": "code",
      "metadata": {
        "id": "9paEvqgaHosQ",
        "colab_type": "code",
        "colab": {}
      },
      "source": [
        ""
      ],
      "execution_count": 0,
      "outputs": []
    },
    {
      "cell_type": "markdown",
      "metadata": {
        "id": "cL6S03mMHosS",
        "colab_type": "text"
      },
      "source": [
        "### 7. Qual o tipo de classe de passagem mais frequente nos dados?"
      ]
    },
    {
      "cell_type": "code",
      "metadata": {
        "id": "cWVQCYw5HosT",
        "colab_type": "code",
        "colab": {},
        "outputId": "2dbef2bd-208c-4fcc-91d9-e4cc46f8486a"
      },
      "source": [
        "dados['Pclass'].value_counts()"
      ],
      "execution_count": 0,
      "outputs": [
        {
          "output_type": "execute_result",
          "data": {
            "text/plain": [
              "3    491\n",
              "1    216\n",
              "2    184\n",
              "Name: Pclass, dtype: int64"
            ]
          },
          "metadata": {
            "tags": []
          },
          "execution_count": 8
        }
      ]
    },
    {
      "cell_type": "markdown",
      "metadata": {
        "id": "HR3L7sOCHosY",
        "colab_type": "text"
      },
      "source": [
        "A terceira classe é a classe mais frequênte, o que já era esperado. No entanto, pudemos constatar também que a segunda classe é a mais rara no dataset."
      ]
    },
    {
      "cell_type": "markdown",
      "metadata": {
        "id": "LCvqfR3GHosY",
        "colab_type": "text"
      },
      "source": [
        "### 8. Qual a média e desvio padrão do valor das passagens?"
      ]
    },
    {
      "cell_type": "code",
      "metadata": {
        "id": "G6vjH8yTHosZ",
        "colab_type": "code",
        "colab": {},
        "outputId": "c3925526-968d-46af-fea1-39e3319d5746"
      },
      "source": [
        "dados['Fare'].describe()"
      ],
      "execution_count": 0,
      "outputs": [
        {
          "output_type": "execute_result",
          "data": {
            "text/plain": [
              "count    891.000000\n",
              "mean      32.204208\n",
              "std       49.693429\n",
              "min        0.000000\n",
              "25%        7.910400\n",
              "50%       14.454200\n",
              "75%       31.000000\n",
              "max      512.329200\n",
              "Name: Fare, dtype: float64"
            ]
          },
          "metadata": {
            "tags": []
          },
          "execution_count": 9
        }
      ]
    },
    {
      "cell_type": "markdown",
      "metadata": {
        "id": "y0Lxm0PPHosb",
        "colab_type": "text"
      },
      "source": [
        "Média de 32.20 e desvio padrão de 49,69."
      ]
    },
    {
      "cell_type": "markdown",
      "metadata": {
        "id": "uvfU-vHQHosb",
        "colab_type": "text"
      },
      "source": [
        "### 9. A partir dos dados do dataset calcule:\n",
        "\n",
        "* a) Qual a probabilidade de um homem com idade entre 15 e 30 anos ter sobrevivido?\n",
        "\n",
        "* b) Qual a probabilidade de uma mulher de mais de 40 anos e um homem de mais de 50 anos terem sobrevivido?\n",
        "\n",
        "* c) Calcule as probabilidade de sobrevivência de cada uma das 3 classes (1a, 2a e 3a classe)."
      ]
    },
    {
      "cell_type": "code",
      "metadata": {
        "id": "Z2oltG3AHosc",
        "colab_type": "code",
        "colab": {},
        "outputId": "4ffa0338-0921-4e6a-a295-5cecc3a1dcdc"
      },
      "source": [
        "dados[(dados['Sex']=='male') & (dados['Age']>=15) & (dados['Age']<=30)].shape[0]"
      ],
      "execution_count": 0,
      "outputs": [
        {
          "output_type": "execute_result",
          "data": {
            "text/plain": [
              "212"
            ]
          },
          "metadata": {
            "tags": []
          },
          "execution_count": 10
        }
      ]
    },
    {
      "cell_type": "code",
      "metadata": {
        "id": "oJ2UN42AHosg",
        "colab_type": "code",
        "colab": {},
        "outputId": "86705aba-dd95-4c4e-9d2a-74b2fbf7b34e"
      },
      "source": [
        "dados[(dados['Sex']=='male')& (dados['Age']>=15) & (dados['Age']<=30) & (dados['Survived']==1)].shape[0]"
      ],
      "execution_count": 0,
      "outputs": [
        {
          "output_type": "execute_result",
          "data": {
            "text/plain": [
              "31"
            ]
          },
          "metadata": {
            "tags": []
          },
          "execution_count": 11
        }
      ]
    },
    {
      "cell_type": "code",
      "metadata": {
        "id": "V0uHyAiFHosi",
        "colab_type": "code",
        "colab": {},
        "outputId": "4a7d2a50-9018-418e-ca89-4af84b4be939"
      },
      "source": [
        "prob1 = 31/212*100\n",
        "print('A probabilidade de um homem com idade entre 15 e 30 anos ter sobrevivido é de: {:.2f}%'.format(prob1))"
      ],
      "execution_count": 0,
      "outputs": [
        {
          "output_type": "stream",
          "text": [
            "A probabilidade de um homem com idade entre 15 e 30 anos ter sobrevivido é de: 14.62%\n"
          ],
          "name": "stdout"
        }
      ]
    },
    {
      "cell_type": "code",
      "metadata": {
        "id": "Ks4kAib9Hosk",
        "colab_type": "code",
        "colab": {},
        "outputId": "01e2e454-a231-42cc-b245-beb52d37d981"
      },
      "source": [
        "dados[(dados['Sex']=='female')& (dados['Age']>40)].shape[0]"
      ],
      "execution_count": 0,
      "outputs": [
        {
          "output_type": "execute_result",
          "data": {
            "text/plain": [
              "48"
            ]
          },
          "metadata": {
            "tags": []
          },
          "execution_count": 12
        }
      ]
    },
    {
      "cell_type": "code",
      "metadata": {
        "id": "lKwFvARHHosp",
        "colab_type": "code",
        "colab": {},
        "outputId": "1bfdd5a8-9fc8-4ee9-efb5-46648458c0a4"
      },
      "source": [
        "dados[(dados['Sex']=='female')& (dados['Age']>40) & (dados['Survived']==1)].shape[0]"
      ],
      "execution_count": 0,
      "outputs": [
        {
          "output_type": "execute_result",
          "data": {
            "text/plain": [
              "37"
            ]
          },
          "metadata": {
            "tags": []
          },
          "execution_count": 13
        }
      ]
    },
    {
      "cell_type": "code",
      "metadata": {
        "id": "U4mvIvYWHosr",
        "colab_type": "code",
        "colab": {},
        "outputId": "3ad73600-5cdd-480a-b1ab-6606623d66ca"
      },
      "source": [
        "prob2 = 37/48*100\n",
        "print('A probabilidade de uma mulher de mais de 40 anos ter sobrevivido é de: {:.2f}%'.format(prob2))"
      ],
      "execution_count": 0,
      "outputs": [
        {
          "output_type": "stream",
          "text": [
            "A probabilidade de uma mulher de mais de 40 anos e um homem de mais de 50 anos terem sobrevividoé de: 77.08%\n"
          ],
          "name": "stdout"
        }
      ]
    },
    {
      "cell_type": "code",
      "metadata": {
        "id": "9bhNeDk7Host",
        "colab_type": "code",
        "colab": {},
        "outputId": "389d78a5-42f5-4d9e-cac1-7d6fb325ba61"
      },
      "source": [
        "dados[(dados['Sex']=='male')& (dados['Age']>50)].shape[0]"
      ],
      "execution_count": 0,
      "outputs": [
        {
          "output_type": "execute_result",
          "data": {
            "text/plain": [
              "47"
            ]
          },
          "metadata": {
            "tags": []
          },
          "execution_count": 14
        }
      ]
    },
    {
      "cell_type": "code",
      "metadata": {
        "id": "JLYHQBl8Hosv",
        "colab_type": "code",
        "colab": {},
        "outputId": "a9009dd0-a6bc-4428-f791-b8aa6f5fc464"
      },
      "source": [
        "dados[(dados['Sex']=='male')& (dados['Age']>50) & (dados['Survived']==1)].shape[0]"
      ],
      "execution_count": 0,
      "outputs": [
        {
          "output_type": "execute_result",
          "data": {
            "text/plain": [
              "6"
            ]
          },
          "metadata": {
            "tags": []
          },
          "execution_count": 15
        }
      ]
    },
    {
      "cell_type": "code",
      "metadata": {
        "id": "ykvodmkoHosx",
        "colab_type": "code",
        "colab": {},
        "outputId": "afa9d660-d3e8-409b-db51-2e5ede7f7ab8"
      },
      "source": [
        "prob3 = 6/47\n",
        "print('A probabilidade de um homem de mais de 50 anos ter sobrevivido é de: {:.2f}%'.format(prob3))"
      ],
      "execution_count": 0,
      "outputs": [
        {
          "output_type": "stream",
          "text": [
            "A probabilidade de um homem de mais de 50 anos ter sobrevivido é de: 0.13%\n"
          ],
          "name": "stdout"
        }
      ]
    },
    {
      "cell_type": "markdown",
      "metadata": {
        "id": "3UmAXQI4Hosz",
        "colab_type": "text"
      },
      "source": [
        "Considerando que se tratam de eventos independentes, a chance de os dois terem sobrevividos juntos é de 0.0231%"
      ]
    },
    {
      "cell_type": "code",
      "metadata": {
        "id": "vycPjYtXHosz",
        "colab_type": "code",
        "colab": {},
        "outputId": "c4ed3bdf-0b61-49a3-f64a-dddfa81b4b85"
      },
      "source": [
        "primeira = dados[dados['Pclass']==1].shape[0]\n",
        "segunda = dados[dados['Pclass']==2].shape[0]\n",
        "terceira = dados[dados['Pclass']==3].shape[0]\n",
        "sobreviventes1 = dados[(dados['Pclass']==1) & (dados['Survived']==1)].shape[0]\n",
        "sobreviventes2 = dados[(dados['Pclass']==2) & (dados['Survived']==1)].shape[0]\n",
        "sobreviventes3 = dados[(dados['Pclass']==3) & (dados['Survived']==1)].shape[0]\n",
        "\n",
        "print('Taxa de sobreviventes na primeira classe:', sobreviventes1/primeira)\n",
        "print('Taxa de sobreviventes na segunda classe:', sobreviventes2/segunda)\n",
        "print('Taxa de sobreviventes na terceira classe:', sobreviventes3/terceira)"
      ],
      "execution_count": 0,
      "outputs": [
        {
          "output_type": "stream",
          "text": [
            "Taxa de sobreviventes na primeira classe: 0.6296296296296297\n",
            "Taxa de sobreviventes na segunda classe: 0.47282608695652173\n",
            "Taxa de sobreviventes na terceira classe: 0.24236252545824846\n"
          ],
          "name": "stdout"
        }
      ]
    },
    {
      "cell_type": "code",
      "metadata": {
        "id": "b7ZL28CqHos1",
        "colab_type": "code",
        "colab": {}
      },
      "source": [
        ""
      ],
      "execution_count": 0,
      "outputs": []
    },
    {
      "cell_type": "markdown",
      "metadata": {
        "id": "Cd-bhpjBHos5",
        "colab_type": "text"
      },
      "source": [
        "### 10. Existe correlação entre a idade e as chances de sobreviver? Crie um gráfico de pontos (scatter plot) relacionando essas variáveis."
      ]
    },
    {
      "cell_type": "code",
      "metadata": {
        "id": "gKAnogNeHos6",
        "colab_type": "code",
        "colab": {}
      },
      "source": [
        "import matplotlib.pyplot as plt\n",
        "import seaborn as sns \n",
        "\n",
        "%matplotlib inline"
      ],
      "execution_count": 0,
      "outputs": []
    },
    {
      "cell_type": "code",
      "metadata": {
        "id": "otRS2_pQHos8",
        "colab_type": "code",
        "colab": {}
      },
      "source": [
        "taxas = []\n",
        "for x in dados['Age']:\n",
        "    total = dados[dados['Age']==x].shape[0]\n",
        "    vivos = dados[(dados['Age']==x) & (dados['Survived']==1)].shape[0]\n",
        "    if total != 0:\n",
        "        taxa = vivos/total\n",
        "    else:\n",
        "        taxa = 0 \n",
        "    taxas.append(taxa)"
      ],
      "execution_count": 0,
      "outputs": []
    },
    {
      "cell_type": "code",
      "metadata": {
        "id": "d5wal72KHos-",
        "colab_type": "code",
        "colab": {}
      },
      "source": [
        "dados['survivor_rate'] = pd.Series(taxas)"
      ],
      "execution_count": 0,
      "outputs": []
    },
    {
      "cell_type": "code",
      "metadata": {
        "id": "BO9YI_w-Hos_",
        "colab_type": "code",
        "colab": {},
        "outputId": "d5c2ee3b-37c5-4f10-ae7b-df27bacabe7e"
      },
      "source": [
        "sns.scatterplot(x='Age', y='survivor_rate', data=dados)"
      ],
      "execution_count": 0,
      "outputs": [
        {
          "output_type": "execute_result",
          "data": {
            "text/plain": [
              "<matplotlib.axes._subplots.AxesSubplot at 0x1d20cf59448>"
            ]
          },
          "metadata": {
            "tags": []
          },
          "execution_count": 20
        },
        {
          "output_type": "display_data",
          "data": {
            "image/png": "[encoded data removed]",
            "text/plain": [
              "<Figure size 432x288 with 1 Axes>"
            ]
          },
          "metadata": {
            "tags": [],
            "needs_background": "light"
          }
        }
      ]
    },
    {
      "cell_type": "markdown",
      "metadata": {
        "id": "ncTZJtq7HotB",
        "colab_type": "text"
      },
      "source": [
        "Não se trata de uma relação linear, nesse caso, apenas a variavel idade não explica a taxa de sobrevivência."
      ]
    },
    {
      "cell_type": "markdown",
      "metadata": {
        "id": "yebwPq1lHotC",
        "colab_type": "text"
      },
      "source": [
        "### 11. Existem outliers na coluna age? Quais? Crie um boxplot para esse atributo."
      ]
    },
    {
      "cell_type": "code",
      "metadata": {
        "id": "dQt9nPvqHotC",
        "colab_type": "code",
        "colab": {},
        "outputId": "2b6f0e6a-f79f-4624-c151-6c1982ced9ec"
      },
      "source": [
        "sns.boxplot(x='Age', data=dados)"
      ],
      "execution_count": 0,
      "outputs": [
        {
          "output_type": "execute_result",
          "data": {
            "text/plain": [
              "<matplotlib.axes._subplots.AxesSubplot at 0x1d20e25b188>"
            ]
          },
          "metadata": {
            "tags": []
          },
          "execution_count": 21
        },
        {
          "output_type": "display_data",
          "data": {
            "image/png": "[encoded data removed]",
            "text/plain": [
              "<Figure size 432x288 with 1 Axes>"
            ]
          },
          "metadata": {
            "tags": [],
            "needs_background": "light"
          }
        }
      ]
    },
    {
      "cell_type": "markdown",
      "metadata": {
        "id": "0GhESPPnHotE",
        "colab_type": "text"
      },
      "source": [
        "Sim, existem. O dataset contém valores acima de 65 anos, que para essa distribuição é um outlier."
      ]
    },
    {
      "cell_type": "markdown",
      "metadata": {
        "id": "wRT8LCziHotE",
        "colab_type": "text"
      },
      "source": [
        "### 12. Cria um histograma para os atributos age, pclass e fare. Quais informações você pode extrair desses gráficos?\n"
      ]
    },
    {
      "cell_type": "code",
      "metadata": {
        "id": "HOh5WPgSHotF",
        "colab_type": "code",
        "colab": {}
      },
      "source": [
        "age = dados['Age'].fillna(0)\n",
        "pclass = dados['Pclass'].fillna(0)\n",
        "fare = dados['Fare'].fillna(dados['Fare'].mean())"
      ],
      "execution_count": 0,
      "outputs": []
    },
    {
      "cell_type": "code",
      "metadata": {
        "id": "HI-1Zlv2HotH",
        "colab_type": "code",
        "colab": {},
        "outputId": "594d7df9-f134-48a5-d2f3-b89af6f56738"
      },
      "source": [
        "sns.distplot(age)"
      ],
      "execution_count": 0,
      "outputs": [
        {
          "output_type": "execute_result",
          "data": {
            "text/plain": [
              "<matplotlib.axes._subplots.AxesSubplot at 0x1d20e2e6c88>"
            ]
          },
          "metadata": {
            "tags": []
          },
          "execution_count": 23
        },
        {
          "output_type": "display_data",
          "data": {
            "image/png": "[encoded data removed]",
            "text/plain": [
              "<Figure size 432x288 with 1 Axes>"
            ]
          },
          "metadata": {
            "tags": [],
            "needs_background": "light"
          }
        }
      ]
    },
    {
      "cell_type": "code",
      "metadata": {
        "id": "3q0ytFRTHotL",
        "colab_type": "code",
        "colab": {},
        "outputId": "350f7143-205b-4616-d142-d9d229504928"
      },
      "source": [
        "sns.distplot(pclass, bins=3, kde=False)"
      ],
      "execution_count": 0,
      "outputs": [
        {
          "output_type": "execute_result",
          "data": {
            "text/plain": [
              "<matplotlib.axes._subplots.AxesSubplot at 0x1d20e252288>"
            ]
          },
          "metadata": {
            "tags": []
          },
          "execution_count": 24
        },
        {
          "output_type": "display_data",
          "data": {
            "image/png": "[encoded data removed]",
            "text/plain": [
              "<Figure size 432x288 with 1 Axes>"
            ]
          },
          "metadata": {
            "tags": [],
            "needs_background": "light"
          }
        }
      ]
    },
    {
      "cell_type": "code",
      "metadata": {
        "id": "jreGm3GqHotN",
        "colab_type": "code",
        "colab": {},
        "outputId": "ac135a71-46cc-4edd-c32d-f112f9393cc9"
      },
      "source": [
        "sns.distplot(fare)"
      ],
      "execution_count": 0,
      "outputs": [
        {
          "output_type": "execute_result",
          "data": {
            "text/plain": [
              "<matplotlib.axes._subplots.AxesSubplot at 0x1d20e52c888>"
            ]
          },
          "metadata": {
            "tags": []
          },
          "execution_count": 41
        },
        {
          "output_type": "display_data",
          "data": {
            "image/png": "[encoded data removed]",
            "text/plain": [
              "<Figure size 432x288 with 1 Axes>"
            ]
          },
          "metadata": {
            "tags": [],
            "needs_background": "light"
          }
        }
      ]
    },
    {
      "cell_type": "markdown",
      "metadata": {
        "id": "TtZoL_eGHotP",
        "colab_type": "text"
      },
      "source": [
        "A coluna idade contém muitos outliers, nesse caso, ela reflete bem a média que já havíamos constatado com a maioria das idades distribuídas em torno de 27 anos. A distribuição de classes também nos mostra que a maioria dos passageiros estava na última classe e isso reflete no valor pago pelo ticket, a maioria tendo o valor inferior a 50, mas com outliers que levam o valor até 500. "
      ]
    },
    {
      "cell_type": "markdown",
      "metadata": {
        "id": "S1tHkT_DHotP",
        "colab_type": "text"
      },
      "source": [
        "### Awari -  <a href=\"https://awari.com.br/\"> awari.com.br</a>"
      ]
    }
  ]
}