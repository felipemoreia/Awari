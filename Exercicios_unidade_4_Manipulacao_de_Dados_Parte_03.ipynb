{
  "nbformat": 4,
  "nbformat_minor": 0,
  "metadata": {
    "kernelspec": {
      "display_name": "Python 3",
      "language": "python",
      "name": "python3"
    },
    "language_info": {
      "codemirror_mode": {
        "name": "ipython",
        "version": 3
      },
      "file_extension": ".py",
      "mimetype": "text/x-python",
      "name": "python",
      "nbconvert_exporter": "python",
      "pygments_lexer": "ipython3",
      "version": "3.7.4"
    },
    "colab": {
      "name": "Exercicios_unidade_4_Manipulacao_de_Dados_Parte_03.ipynb",
      "provenance": [],
      "include_colab_link": true
    }
  },
  "cells": [
    {
      "cell_type": "markdown",
      "metadata": {
        "id": "view-in-github",
        "colab_type": "text"
      },
      "source": [
        "<a href=\"https://colab.research.google.com/github/felipemoreia/Awari/blob/master/Exercicios_unidade_4_Manipulacao_de_Dados_Parte_03.ipynb\" target=\"_parent\"><img src=\"https://colab.research.google.com/assets/colab-badge.svg\" alt=\"Open In Colab\"/></a>"
      ]
    },
    {
      "cell_type": "markdown",
      "metadata": {
        "id": "kwizjcM_EZ5q",
        "colab_type": "text"
      },
      "source": [
        "# Awari - Data Science\n",
        "\n",
        "## Exercícios Unidade 4 - Parte 3"
      ]
    },
    {
      "cell_type": "markdown",
      "metadata": {
        "id": "5JCGmZAKEZ5r",
        "colab_type": "text"
      },
      "source": [
        "Neste Jupyter notebook você irá resolver uma exercícios utilizando a linguagem Python e a biblioteca Pandas.\n",
        "\n",
        "Todos os datasets utilizados nos exercícios estão salvos na pasta **datasets**.\n",
        "\n",
        "Todo o seu código deve ser executado neste Jupyter Notebook. Por fim, se desejar, revise as respostas com o seu mentor."
      ]
    },
    {
      "cell_type": "markdown",
      "metadata": {
        "id": "Mh2FUayxEZ5r",
        "colab_type": "text"
      },
      "source": [
        "### Tarefa 1. Importe o dataset e salve os dados em um dataframe\n",
        "\n",
        "Os dados estão salvos no arquivo ***datasets/users_dataset.txt***.\n",
        "\n",
        "Salve os dados em uma variável de nome *users*."
      ]
    },
    {
      "cell_type": "code",
      "metadata": {
        "id": "fS3lP9cdEZ5s",
        "colab_type": "code",
        "colab": {}
      },
      "source": [
        "import pandas as pd"
      ],
      "execution_count": 0,
      "outputs": []
    },
    {
      "cell_type": "code",
      "metadata": {
        "id": "GaDGM2NzEZ5v",
        "colab_type": "code",
        "colab": {}
      },
      "source": [
        "users = pd.read_csv('users_dataset.txt', sep='|')"
      ],
      "execution_count": 0,
      "outputs": []
    },
    {
      "cell_type": "code",
      "metadata": {
        "id": "fIfsNiPrEZ5x",
        "colab_type": "code",
        "colab": {},
        "outputId": "927ff6d8-1678-4df0-c983-07b269e6ea43"
      },
      "source": [
        "users.head()"
      ],
      "execution_count": 0,
      "outputs": [
        {
          "output_type": "execute_result",
          "data": {
            "text/html": [
              "<div>\n",
              "<style scoped>\n",
              "    .dataframe tbody tr th:only-of-type {\n",
              "        vertical-align: middle;\n",
              "    }\n",
              "\n",
              "    .dataframe tbody tr th {\n",
              "        vertical-align: top;\n",
              "    }\n",
              "\n",
              "    .dataframe thead th {\n",
              "        text-align: right;\n",
              "    }\n",
              "</style>\n",
              "<table border=\"1\" class=\"dataframe\">\n",
              "  <thead>\n",
              "    <tr style=\"text-align: right;\">\n",
              "      <th></th>\n",
              "      <th>user_id</th>\n",
              "      <th>age</th>\n",
              "      <th>gender</th>\n",
              "      <th>occupation</th>\n",
              "      <th>zip_code</th>\n",
              "    </tr>\n",
              "  </thead>\n",
              "  <tbody>\n",
              "    <tr>\n",
              "      <td>0</td>\n",
              "      <td>1</td>\n",
              "      <td>24</td>\n",
              "      <td>M</td>\n",
              "      <td>technician</td>\n",
              "      <td>85711</td>\n",
              "    </tr>\n",
              "    <tr>\n",
              "      <td>1</td>\n",
              "      <td>2</td>\n",
              "      <td>53</td>\n",
              "      <td>F</td>\n",
              "      <td>other</td>\n",
              "      <td>94043</td>\n",
              "    </tr>\n",
              "    <tr>\n",
              "      <td>2</td>\n",
              "      <td>3</td>\n",
              "      <td>23</td>\n",
              "      <td>M</td>\n",
              "      <td>writer</td>\n",
              "      <td>32067</td>\n",
              "    </tr>\n",
              "    <tr>\n",
              "      <td>3</td>\n",
              "      <td>4</td>\n",
              "      <td>24</td>\n",
              "      <td>M</td>\n",
              "      <td>technician</td>\n",
              "      <td>43537</td>\n",
              "    </tr>\n",
              "    <tr>\n",
              "      <td>4</td>\n",
              "      <td>5</td>\n",
              "      <td>33</td>\n",
              "      <td>F</td>\n",
              "      <td>other</td>\n",
              "      <td>15213</td>\n",
              "    </tr>\n",
              "  </tbody>\n",
              "</table>\n",
              "</div>"
            ],
            "text/plain": [
              "   user_id  age gender  occupation zip_code\n",
              "0        1   24      M  technician    85711\n",
              "1        2   53      F       other    94043\n",
              "2        3   23      M      writer    32067\n",
              "3        4   24      M  technician    43537\n",
              "4        5   33      F       other    15213"
            ]
          },
          "metadata": {
            "tags": []
          },
          "execution_count": 6
        }
      ]
    },
    {
      "cell_type": "markdown",
      "metadata": {
        "id": "VLJNOTNZEZ52",
        "colab_type": "text"
      },
      "source": [
        "### Tarefa 2. Descubra qual a idade média por ocupação.\n",
        "\n",
        "*Dica: use a função groupby do Pandas na coluna occupation*"
      ]
    },
    {
      "cell_type": "code",
      "metadata": {
        "id": "RHsfnU-wEZ53",
        "colab_type": "code",
        "colab": {},
        "outputId": "63507921-4633-44d2-f4a3-1973300c67aa"
      },
      "source": [
        "users.groupby(['occupation'])['age'].mean()"
      ],
      "execution_count": 0,
      "outputs": [
        {
          "output_type": "execute_result",
          "data": {
            "text/plain": [
              "occupation\n",
              "administrator    38.746835\n",
              "artist           31.392857\n",
              "doctor           43.571429\n",
              "educator         42.010526\n",
              "engineer         36.388060\n",
              "entertainment    29.222222\n",
              "executive        38.718750\n",
              "healthcare       41.562500\n",
              "homemaker        32.571429\n",
              "lawyer           36.750000\n",
              "librarian        40.000000\n",
              "marketing        37.615385\n",
              "none             26.555556\n",
              "other            34.523810\n",
              "programmer       33.121212\n",
              "retired          63.071429\n",
              "salesman         35.666667\n",
              "scientist        35.548387\n",
              "student          22.081633\n",
              "technician       33.148148\n",
              "writer           36.311111\n",
              "Name: age, dtype: float64"
            ]
          },
          "metadata": {
            "tags": []
          },
          "execution_count": 8
        }
      ]
    },
    {
      "cell_type": "markdown",
      "metadata": {
        "id": "Giv7utgVEZ56",
        "colab_type": "text"
      },
      "source": [
        "### Tarefa 3. Para cada ocupação descubra a idade mínima e máxima."
      ]
    },
    {
      "cell_type": "code",
      "metadata": {
        "id": "MyhlBqVSEZ57",
        "colab_type": "code",
        "colab": {},
        "outputId": "ede7f155-8a78-4395-faf2-5cf01289fde1"
      },
      "source": [
        "users.groupby(['occupation'])['age'].min()"
      ],
      "execution_count": 0,
      "outputs": [
        {
          "output_type": "execute_result",
          "data": {
            "text/plain": [
              "occupation\n",
              "administrator    21\n",
              "artist           19\n",
              "doctor           28\n",
              "educator         23\n",
              "engineer         22\n",
              "entertainment    15\n",
              "executive        22\n",
              "healthcare       22\n",
              "homemaker        20\n",
              "lawyer           21\n",
              "librarian        23\n",
              "marketing        24\n",
              "none             11\n",
              "other            13\n",
              "programmer       20\n",
              "retired          51\n",
              "salesman         18\n",
              "scientist        23\n",
              "student           7\n",
              "technician       21\n",
              "writer           18\n",
              "Name: age, dtype: int64"
            ]
          },
          "metadata": {
            "tags": []
          },
          "execution_count": 12
        }
      ]
    },
    {
      "cell_type": "code",
      "metadata": {
        "id": "PMASXQT3EZ59",
        "colab_type": "code",
        "colab": {},
        "outputId": "f8a7ccb0-348e-45c9-d519-c4d6030522ea"
      },
      "source": [
        "users.groupby(['occupation'])['age'].max()"
      ],
      "execution_count": 0,
      "outputs": [
        {
          "output_type": "execute_result",
          "data": {
            "text/plain": [
              "occupation\n",
              "administrator    70\n",
              "artist           48\n",
              "doctor           64\n",
              "educator         63\n",
              "engineer         70\n",
              "entertainment    50\n",
              "executive        69\n",
              "healthcare       62\n",
              "homemaker        50\n",
              "lawyer           53\n",
              "librarian        69\n",
              "marketing        55\n",
              "none             55\n",
              "other            64\n",
              "programmer       63\n",
              "retired          73\n",
              "salesman         66\n",
              "scientist        55\n",
              "student          42\n",
              "technician       55\n",
              "writer           60\n",
              "Name: age, dtype: int64"
            ]
          },
          "metadata": {
            "tags": []
          },
          "execution_count": 13
        }
      ]
    },
    {
      "cell_type": "markdown",
      "metadata": {
        "id": "SyAcW2iEEZ6A",
        "colab_type": "text"
      },
      "source": [
        "### Tarefa 4. Para cada combinação de ocupação e sexo, calcule a idade média.\n",
        "\n",
        "Exemplo:\n",
        "\n",
        "```\n",
        "occupation     gender\n",
        "administrator  F         40.638889\n",
        "               M         37.162791\n",
        "artist         F         30.307692\n",
        "               M         32.333333\n",
        "```"
      ]
    },
    {
      "cell_type": "code",
      "metadata": {
        "id": "dIDNuFVvEZ6B",
        "colab_type": "code",
        "colab": {},
        "outputId": "91ed456f-c9fe-4e48-cb7f-6b355dd7a3de"
      },
      "source": [
        "import numpy as np\n",
        "table = users.pivot_table( values='age', index=['occupation','gender'], aggfunc= np.mean)\n",
        "print(table)"
      ],
      "execution_count": 0,
      "outputs": [
        {
          "output_type": "stream",
          "text": [
            "                            age\n",
            "occupation    gender           \n",
            "administrator F       40.638889\n",
            "              M       37.162791\n",
            "artist        F       30.307692\n",
            "              M       32.333333\n",
            "doctor        M       43.571429\n",
            "educator      F       39.115385\n",
            "              M       43.101449\n",
            "engineer      F       29.500000\n",
            "              M       36.600000\n",
            "entertainment F       31.000000\n",
            "              M       29.000000\n",
            "executive     F       44.000000\n",
            "              M       38.172414\n",
            "healthcare    F       39.818182\n",
            "              M       45.400000\n",
            "homemaker     F       34.166667\n",
            "              M       23.000000\n",
            "lawyer        F       39.500000\n",
            "              M       36.200000\n",
            "librarian     F       40.000000\n",
            "              M       40.000000\n",
            "marketing     F       37.200000\n",
            "              M       37.875000\n",
            "none          F       36.500000\n",
            "              M       18.600000\n",
            "other         F       35.472222\n",
            "              M       34.028986\n",
            "programmer    F       32.166667\n",
            "              M       33.216667\n",
            "retired       F       70.000000\n",
            "              M       62.538462\n",
            "salesman      F       27.000000\n",
            "              M       38.555556\n",
            "scientist     F       28.333333\n",
            "              M       36.321429\n",
            "student       F       20.750000\n",
            "              M       22.669118\n",
            "technician    F       38.000000\n",
            "              M       32.961538\n",
            "writer        F       37.631579\n",
            "              M       35.346154\n"
          ],
          "name": "stdout"
        }
      ]
    },
    {
      "cell_type": "markdown",
      "metadata": {
        "id": "onXJrnvjEZ6F",
        "colab_type": "text"
      },
      "source": [
        "### Tarefa 5. Para cada ocupação calcule a porcentagem de homens e mulheres.\n",
        "\n",
        "Exemplo:\n",
        "\n",
        "```\n",
        "occupation     gender\n",
        "administrator  F          45.569620\n",
        "               M          54.430380\n",
        "artist         F          46.428571\n",
        "               M          53.571429\n",
        "doctor         M         100.000000\n",
        "educator       F          27.368421\n",
        "               M          72.631579\n",
        "```"
      ]
    },
    {
      "cell_type": "code",
      "metadata": {
        "id": "tNngol0qEZ6G",
        "colab_type": "code",
        "colab": {}
      },
      "source": [
        "table1 = users.groupby(['occupation'])['gender'].count()\n"
      ],
      "execution_count": 0,
      "outputs": []
    },
    {
      "cell_type": "code",
      "metadata": {
        "id": "ASrhT_dZEZ6J",
        "colab_type": "code",
        "colab": {},
        "outputId": "1f81861a-6797-4dc4-e1f5-7d11586aaf5e"
      },
      "source": [
        "import numpy as np\n",
        "table = users.pivot_table(values='age', index=['occupation'], columns=['gender'], aggfunc=len)\n",
        "table['Total'] = table['M'] + table['F']\n",
        "table ['percF'] = (table['F']/table['Total'])*100\n",
        "table ['percM'] = (table['M']/table['Total'])*100\n",
        "table"
      ],
      "execution_count": 0,
      "outputs": [
        {
          "output_type": "execute_result",
          "data": {
            "text/html": [
              "<div>\n",
              "<style scoped>\n",
              "    .dataframe tbody tr th:only-of-type {\n",
              "        vertical-align: middle;\n",
              "    }\n",
              "\n",
              "    .dataframe tbody tr th {\n",
              "        vertical-align: top;\n",
              "    }\n",
              "\n",
              "    .dataframe thead th {\n",
              "        text-align: right;\n",
              "    }\n",
              "</style>\n",
              "<table border=\"1\" class=\"dataframe\">\n",
              "  <thead>\n",
              "    <tr style=\"text-align: right;\">\n",
              "      <th>gender</th>\n",
              "      <th>F</th>\n",
              "      <th>M</th>\n",
              "      <th>Total</th>\n",
              "      <th>percF</th>\n",
              "      <th>percM</th>\n",
              "    </tr>\n",
              "    <tr>\n",
              "      <th>occupation</th>\n",
              "      <th></th>\n",
              "      <th></th>\n",
              "      <th></th>\n",
              "      <th></th>\n",
              "      <th></th>\n",
              "    </tr>\n",
              "  </thead>\n",
              "  <tbody>\n",
              "    <tr>\n",
              "      <td>administrator</td>\n",
              "      <td>36.0</td>\n",
              "      <td>43.0</td>\n",
              "      <td>79.0</td>\n",
              "      <td>45.569620</td>\n",
              "      <td>54.430380</td>\n",
              "    </tr>\n",
              "    <tr>\n",
              "      <td>artist</td>\n",
              "      <td>13.0</td>\n",
              "      <td>15.0</td>\n",
              "      <td>28.0</td>\n",
              "      <td>46.428571</td>\n",
              "      <td>53.571429</td>\n",
              "    </tr>\n",
              "    <tr>\n",
              "      <td>doctor</td>\n",
              "      <td>NaN</td>\n",
              "      <td>7.0</td>\n",
              "      <td>NaN</td>\n",
              "      <td>NaN</td>\n",
              "      <td>NaN</td>\n",
              "    </tr>\n",
              "    <tr>\n",
              "      <td>educator</td>\n",
              "      <td>26.0</td>\n",
              "      <td>69.0</td>\n",
              "      <td>95.0</td>\n",
              "      <td>27.368421</td>\n",
              "      <td>72.631579</td>\n",
              "    </tr>\n",
              "    <tr>\n",
              "      <td>engineer</td>\n",
              "      <td>2.0</td>\n",
              "      <td>65.0</td>\n",
              "      <td>67.0</td>\n",
              "      <td>2.985075</td>\n",
              "      <td>97.014925</td>\n",
              "    </tr>\n",
              "    <tr>\n",
              "      <td>entertainment</td>\n",
              "      <td>2.0</td>\n",
              "      <td>16.0</td>\n",
              "      <td>18.0</td>\n",
              "      <td>11.111111</td>\n",
              "      <td>88.888889</td>\n",
              "    </tr>\n",
              "    <tr>\n",
              "      <td>executive</td>\n",
              "      <td>3.0</td>\n",
              "      <td>29.0</td>\n",
              "      <td>32.0</td>\n",
              "      <td>9.375000</td>\n",
              "      <td>90.625000</td>\n",
              "    </tr>\n",
              "    <tr>\n",
              "      <td>healthcare</td>\n",
              "      <td>11.0</td>\n",
              "      <td>5.0</td>\n",
              "      <td>16.0</td>\n",
              "      <td>68.750000</td>\n",
              "      <td>31.250000</td>\n",
              "    </tr>\n",
              "    <tr>\n",
              "      <td>homemaker</td>\n",
              "      <td>6.0</td>\n",
              "      <td>1.0</td>\n",
              "      <td>7.0</td>\n",
              "      <td>85.714286</td>\n",
              "      <td>14.285714</td>\n",
              "    </tr>\n",
              "    <tr>\n",
              "      <td>lawyer</td>\n",
              "      <td>2.0</td>\n",
              "      <td>10.0</td>\n",
              "      <td>12.0</td>\n",
              "      <td>16.666667</td>\n",
              "      <td>83.333333</td>\n",
              "    </tr>\n",
              "    <tr>\n",
              "      <td>librarian</td>\n",
              "      <td>29.0</td>\n",
              "      <td>22.0</td>\n",
              "      <td>51.0</td>\n",
              "      <td>56.862745</td>\n",
              "      <td>43.137255</td>\n",
              "    </tr>\n",
              "    <tr>\n",
              "      <td>marketing</td>\n",
              "      <td>10.0</td>\n",
              "      <td>16.0</td>\n",
              "      <td>26.0</td>\n",
              "      <td>38.461538</td>\n",
              "      <td>61.538462</td>\n",
              "    </tr>\n",
              "    <tr>\n",
              "      <td>none</td>\n",
              "      <td>4.0</td>\n",
              "      <td>5.0</td>\n",
              "      <td>9.0</td>\n",
              "      <td>44.444444</td>\n",
              "      <td>55.555556</td>\n",
              "    </tr>\n",
              "    <tr>\n",
              "      <td>other</td>\n",
              "      <td>36.0</td>\n",
              "      <td>69.0</td>\n",
              "      <td>105.0</td>\n",
              "      <td>34.285714</td>\n",
              "      <td>65.714286</td>\n",
              "    </tr>\n",
              "    <tr>\n",
              "      <td>programmer</td>\n",
              "      <td>6.0</td>\n",
              "      <td>60.0</td>\n",
              "      <td>66.0</td>\n",
              "      <td>9.090909</td>\n",
              "      <td>90.909091</td>\n",
              "    </tr>\n",
              "    <tr>\n",
              "      <td>retired</td>\n",
              "      <td>1.0</td>\n",
              "      <td>13.0</td>\n",
              "      <td>14.0</td>\n",
              "      <td>7.142857</td>\n",
              "      <td>92.857143</td>\n",
              "    </tr>\n",
              "    <tr>\n",
              "      <td>salesman</td>\n",
              "      <td>3.0</td>\n",
              "      <td>9.0</td>\n",
              "      <td>12.0</td>\n",
              "      <td>25.000000</td>\n",
              "      <td>75.000000</td>\n",
              "    </tr>\n",
              "    <tr>\n",
              "      <td>scientist</td>\n",
              "      <td>3.0</td>\n",
              "      <td>28.0</td>\n",
              "      <td>31.0</td>\n",
              "      <td>9.677419</td>\n",
              "      <td>90.322581</td>\n",
              "    </tr>\n",
              "    <tr>\n",
              "      <td>student</td>\n",
              "      <td>60.0</td>\n",
              "      <td>136.0</td>\n",
              "      <td>196.0</td>\n",
              "      <td>30.612245</td>\n",
              "      <td>69.387755</td>\n",
              "    </tr>\n",
              "    <tr>\n",
              "      <td>technician</td>\n",
              "      <td>1.0</td>\n",
              "      <td>26.0</td>\n",
              "      <td>27.0</td>\n",
              "      <td>3.703704</td>\n",
              "      <td>96.296296</td>\n",
              "    </tr>\n",
              "    <tr>\n",
              "      <td>writer</td>\n",
              "      <td>19.0</td>\n",
              "      <td>26.0</td>\n",
              "      <td>45.0</td>\n",
              "      <td>42.222222</td>\n",
              "      <td>57.777778</td>\n",
              "    </tr>\n",
              "  </tbody>\n",
              "</table>\n",
              "</div>"
            ],
            "text/plain": [
              "gender            F      M  Total      percF      percM\n",
              "occupation                                             \n",
              "administrator  36.0   43.0   79.0  45.569620  54.430380\n",
              "artist         13.0   15.0   28.0  46.428571  53.571429\n",
              "doctor          NaN    7.0    NaN        NaN        NaN\n",
              "educator       26.0   69.0   95.0  27.368421  72.631579\n",
              "engineer        2.0   65.0   67.0   2.985075  97.014925\n",
              "entertainment   2.0   16.0   18.0  11.111111  88.888889\n",
              "executive       3.0   29.0   32.0   9.375000  90.625000\n",
              "healthcare     11.0    5.0   16.0  68.750000  31.250000\n",
              "homemaker       6.0    1.0    7.0  85.714286  14.285714\n",
              "lawyer          2.0   10.0   12.0  16.666667  83.333333\n",
              "librarian      29.0   22.0   51.0  56.862745  43.137255\n",
              "marketing      10.0   16.0   26.0  38.461538  61.538462\n",
              "none            4.0    5.0    9.0  44.444444  55.555556\n",
              "other          36.0   69.0  105.0  34.285714  65.714286\n",
              "programmer      6.0   60.0   66.0   9.090909  90.909091\n",
              "retired         1.0   13.0   14.0   7.142857  92.857143\n",
              "salesman        3.0    9.0   12.0  25.000000  75.000000\n",
              "scientist       3.0   28.0   31.0   9.677419  90.322581\n",
              "student        60.0  136.0  196.0  30.612245  69.387755\n",
              "technician      1.0   26.0   27.0   3.703704  96.296296\n",
              "writer         19.0   26.0   45.0  42.222222  57.777778"
            ]
          },
          "metadata": {
            "tags": []
          },
          "execution_count": 132
        }
      ]
    },
    {
      "cell_type": "code",
      "metadata": {
        "id": "gneKQxiOEZ6L",
        "colab_type": "code",
        "colab": {}
      },
      "source": [
        ""
      ],
      "execution_count": 0,
      "outputs": []
    },
    {
      "cell_type": "markdown",
      "metadata": {
        "id": "6Mt1do1bEZ6N",
        "colab_type": "text"
      },
      "source": [
        "### Awari -  <a href=\"https://awari.com.br/\"> awari.com.br</a>"
      ]
    }
  ]
}